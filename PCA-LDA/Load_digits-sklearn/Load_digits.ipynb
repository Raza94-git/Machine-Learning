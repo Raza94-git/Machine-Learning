{
 "cells": [
  {
   "cell_type": "code",
   "execution_count": 1,
   "id": "c4a71d61-7468-4e8b-b8f2-8f6a4b3a07c6",
   "metadata": {},
   "outputs": [],
   "source": [
    "# datasets are not present physically ie in .csv Format\n",
    "# datasets in PCA are present within sklearn.datasets\n",
    "#sklearn.datasets is an inbuilt library that consists wit all the data sets for PCA\n",
    "\n",
    "# we shall be using load_digit dataset from sklearn.datasets library today to perform PCA case study\n"
   ]
  },
  {
   "cell_type": "markdown",
   "id": "60c16ca2-4805-4526-916c-171a4123ccf3",
   "metadata": {},
   "source": [
    "## Importing dataset from SKlearn"
   ]
  },
  {
   "cell_type": "code",
   "execution_count": 3,
   "id": "749bb350-464a-4d79-8e9a-49f2cbe2a6a4",
   "metadata": {},
   "outputs": [],
   "source": [
    "from sklearn import datasets\n",
    "from sklearn.datasets import load_digits"
   ]
  },
  {
   "cell_type": "code",
   "execution_count": 4,
   "id": "eb4711f8-e729-4a31-b49c-1e71d852da1e",
   "metadata": {},
   "outputs": [
    {
     "data": {
      "text/plain": [
       "['__all__',\n",
       " '__builtins__',\n",
       " '__cached__',\n",
       " '__doc__',\n",
       " '__file__',\n",
       " '__getattr__',\n",
       " '__loader__',\n",
       " '__name__',\n",
       " '__package__',\n",
       " '__path__',\n",
       " '__spec__',\n",
       " '_arff_parser',\n",
       " '_base',\n",
       " '_california_housing',\n",
       " '_covtype',\n",
       " '_kddcup99',\n",
       " '_lfw',\n",
       " '_olivetti_faces',\n",
       " '_openml',\n",
       " '_rcv1',\n",
       " '_samples_generator',\n",
       " '_species_distributions',\n",
       " '_svmlight_format_fast',\n",
       " '_svmlight_format_io',\n",
       " '_twenty_newsgroups',\n",
       " 'clear_data_home',\n",
       " 'dump_svmlight_file',\n",
       " 'fetch_20newsgroups',\n",
       " 'fetch_20newsgroups_vectorized',\n",
       " 'fetch_california_housing',\n",
       " 'fetch_covtype',\n",
       " 'fetch_kddcup99',\n",
       " 'fetch_lfw_pairs',\n",
       " 'fetch_lfw_people',\n",
       " 'fetch_olivetti_faces',\n",
       " 'fetch_openml',\n",
       " 'fetch_rcv1',\n",
       " 'fetch_species_distributions',\n",
       " 'get_data_home',\n",
       " 'load_breast_cancer',\n",
       " 'load_diabetes',\n",
       " 'load_digits',\n",
       " 'load_files',\n",
       " 'load_iris',\n",
       " 'load_linnerud',\n",
       " 'load_sample_image',\n",
       " 'load_sample_images',\n",
       " 'load_svmlight_file',\n",
       " 'load_svmlight_files',\n",
       " 'load_wine',\n",
       " 'make_biclusters',\n",
       " 'make_blobs',\n",
       " 'make_checkerboard',\n",
       " 'make_circles',\n",
       " 'make_classification',\n",
       " 'make_friedman1',\n",
       " 'make_friedman2',\n",
       " 'make_friedman3',\n",
       " 'make_gaussian_quantiles',\n",
       " 'make_hastie_10_2',\n",
       " 'make_low_rank_matrix',\n",
       " 'make_moons',\n",
       " 'make_multilabel_classification',\n",
       " 'make_regression',\n",
       " 'make_s_curve',\n",
       " 'make_sparse_coded_signal',\n",
       " 'make_sparse_spd_matrix',\n",
       " 'make_sparse_uncorrelated',\n",
       " 'make_spd_matrix',\n",
       " 'make_swiss_roll',\n",
       " 'textwrap']"
      ]
     },
     "execution_count": 4,
     "metadata": {},
     "output_type": "execute_result"
    }
   ],
   "source": [
    "# Returns all the datasets in the library\n",
    "dir(datasets)"
   ]
  },
  {
   "cell_type": "code",
   "execution_count": 5,
   "id": "5dbeb8fe-2f37-4bf8-8708-b245bd92eba2",
   "metadata": {},
   "outputs": [],
   "source": [
    "# The entire datasets are stored as dictionaries"
   ]
  },
  {
   "cell_type": "code",
   "execution_count": 6,
   "id": "c907df55-8de6-4aa5-adb6-c01a2e7ba1a9",
   "metadata": {},
   "outputs": [],
   "source": [
    "dataset = load_digits()"
   ]
  },
  {
   "cell_type": "code",
   "execution_count": 7,
   "id": "aee02376-4144-4012-b5ef-1628d4f99815",
   "metadata": {},
   "outputs": [
    {
     "data": {
      "text/plain": [
       "{'data': array([[ 0.,  0.,  5., ...,  0.,  0.,  0.],\n",
       "        [ 0.,  0.,  0., ..., 10.,  0.,  0.],\n",
       "        [ 0.,  0.,  0., ..., 16.,  9.,  0.],\n",
       "        ...,\n",
       "        [ 0.,  0.,  1., ...,  6.,  0.,  0.],\n",
       "        [ 0.,  0.,  2., ..., 12.,  0.,  0.],\n",
       "        [ 0.,  0., 10., ..., 12.,  1.,  0.]]),\n",
       " 'target': array([0, 1, 2, ..., 8, 9, 8]),\n",
       " 'frame': None,\n",
       " 'feature_names': ['pixel_0_0',\n",
       "  'pixel_0_1',\n",
       "  'pixel_0_2',\n",
       "  'pixel_0_3',\n",
       "  'pixel_0_4',\n",
       "  'pixel_0_5',\n",
       "  'pixel_0_6',\n",
       "  'pixel_0_7',\n",
       "  'pixel_1_0',\n",
       "  'pixel_1_1',\n",
       "  'pixel_1_2',\n",
       "  'pixel_1_3',\n",
       "  'pixel_1_4',\n",
       "  'pixel_1_5',\n",
       "  'pixel_1_6',\n",
       "  'pixel_1_7',\n",
       "  'pixel_2_0',\n",
       "  'pixel_2_1',\n",
       "  'pixel_2_2',\n",
       "  'pixel_2_3',\n",
       "  'pixel_2_4',\n",
       "  'pixel_2_5',\n",
       "  'pixel_2_6',\n",
       "  'pixel_2_7',\n",
       "  'pixel_3_0',\n",
       "  'pixel_3_1',\n",
       "  'pixel_3_2',\n",
       "  'pixel_3_3',\n",
       "  'pixel_3_4',\n",
       "  'pixel_3_5',\n",
       "  'pixel_3_6',\n",
       "  'pixel_3_7',\n",
       "  'pixel_4_0',\n",
       "  'pixel_4_1',\n",
       "  'pixel_4_2',\n",
       "  'pixel_4_3',\n",
       "  'pixel_4_4',\n",
       "  'pixel_4_5',\n",
       "  'pixel_4_6',\n",
       "  'pixel_4_7',\n",
       "  'pixel_5_0',\n",
       "  'pixel_5_1',\n",
       "  'pixel_5_2',\n",
       "  'pixel_5_3',\n",
       "  'pixel_5_4',\n",
       "  'pixel_5_5',\n",
       "  'pixel_5_6',\n",
       "  'pixel_5_7',\n",
       "  'pixel_6_0',\n",
       "  'pixel_6_1',\n",
       "  'pixel_6_2',\n",
       "  'pixel_6_3',\n",
       "  'pixel_6_4',\n",
       "  'pixel_6_5',\n",
       "  'pixel_6_6',\n",
       "  'pixel_6_7',\n",
       "  'pixel_7_0',\n",
       "  'pixel_7_1',\n",
       "  'pixel_7_2',\n",
       "  'pixel_7_3',\n",
       "  'pixel_7_4',\n",
       "  'pixel_7_5',\n",
       "  'pixel_7_6',\n",
       "  'pixel_7_7'],\n",
       " 'target_names': array([0, 1, 2, 3, 4, 5, 6, 7, 8, 9]),\n",
       " 'images': array([[[ 0.,  0.,  5., ...,  1.,  0.,  0.],\n",
       "         [ 0.,  0., 13., ..., 15.,  5.,  0.],\n",
       "         [ 0.,  3., 15., ..., 11.,  8.,  0.],\n",
       "         ...,\n",
       "         [ 0.,  4., 11., ..., 12.,  7.,  0.],\n",
       "         [ 0.,  2., 14., ..., 12.,  0.,  0.],\n",
       "         [ 0.,  0.,  6., ...,  0.,  0.,  0.]],\n",
       " \n",
       "        [[ 0.,  0.,  0., ...,  5.,  0.,  0.],\n",
       "         [ 0.,  0.,  0., ...,  9.,  0.,  0.],\n",
       "         [ 0.,  0.,  3., ...,  6.,  0.,  0.],\n",
       "         ...,\n",
       "         [ 0.,  0.,  1., ...,  6.,  0.,  0.],\n",
       "         [ 0.,  0.,  1., ...,  6.,  0.,  0.],\n",
       "         [ 0.,  0.,  0., ..., 10.,  0.,  0.]],\n",
       " \n",
       "        [[ 0.,  0.,  0., ..., 12.,  0.,  0.],\n",
       "         [ 0.,  0.,  3., ..., 14.,  0.,  0.],\n",
       "         [ 0.,  0.,  8., ..., 16.,  0.,  0.],\n",
       "         ...,\n",
       "         [ 0.,  9., 16., ...,  0.,  0.,  0.],\n",
       "         [ 0.,  3., 13., ..., 11.,  5.,  0.],\n",
       "         [ 0.,  0.,  0., ..., 16.,  9.,  0.]],\n",
       " \n",
       "        ...,\n",
       " \n",
       "        [[ 0.,  0.,  1., ...,  1.,  0.,  0.],\n",
       "         [ 0.,  0., 13., ...,  2.,  1.,  0.],\n",
       "         [ 0.,  0., 16., ..., 16.,  5.,  0.],\n",
       "         ...,\n",
       "         [ 0.,  0., 16., ..., 15.,  0.,  0.],\n",
       "         [ 0.,  0., 15., ..., 16.,  0.,  0.],\n",
       "         [ 0.,  0.,  2., ...,  6.,  0.,  0.]],\n",
       " \n",
       "        [[ 0.,  0.,  2., ...,  0.,  0.,  0.],\n",
       "         [ 0.,  0., 14., ..., 15.,  1.,  0.],\n",
       "         [ 0.,  4., 16., ..., 16.,  7.,  0.],\n",
       "         ...,\n",
       "         [ 0.,  0.,  0., ..., 16.,  2.,  0.],\n",
       "         [ 0.,  0.,  4., ..., 16.,  2.,  0.],\n",
       "         [ 0.,  0.,  5., ..., 12.,  0.,  0.]],\n",
       " \n",
       "        [[ 0.,  0., 10., ...,  1.,  0.,  0.],\n",
       "         [ 0.,  2., 16., ...,  1.,  0.,  0.],\n",
       "         [ 0.,  0., 15., ..., 15.,  0.,  0.],\n",
       "         ...,\n",
       "         [ 0.,  4., 16., ..., 16.,  6.,  0.],\n",
       "         [ 0.,  8., 16., ..., 16.,  8.,  0.],\n",
       "         [ 0.,  1.,  8., ..., 12.,  1.,  0.]]]),\n",
       " 'DESCR': \".. _digits_dataset:\\n\\nOptical recognition of handwritten digits dataset\\n--------------------------------------------------\\n\\n**Data Set Characteristics:**\\n\\n:Number of Instances: 1797\\n:Number of Attributes: 64\\n:Attribute Information: 8x8 image of integer pixels in the range 0..16.\\n:Missing Attribute Values: None\\n:Creator: E. Alpaydin (alpaydin '@' boun.edu.tr)\\n:Date: July; 1998\\n\\nThis is a copy of the test set of the UCI ML hand-written digits datasets\\nhttps://archive.ics.uci.edu/ml/datasets/Optical+Recognition+of+Handwritten+Digits\\n\\nThe data set contains images of hand-written digits: 10 classes where\\neach class refers to a digit.\\n\\nPreprocessing programs made available by NIST were used to extract\\nnormalized bitmaps of handwritten digits from a preprinted form. From a\\ntotal of 43 people, 30 contributed to the training set and different 13\\nto the test set. 32x32 bitmaps are divided into nonoverlapping blocks of\\n4x4 and the number of on pixels are counted in each block. This generates\\nan input matrix of 8x8 where each element is an integer in the range\\n0..16. This reduces dimensionality and gives invariance to small\\ndistortions.\\n\\nFor info on NIST preprocessing routines, see M. D. Garris, J. L. Blue, G.\\nT. Candela, D. L. Dimmick, J. Geist, P. J. Grother, S. A. Janet, and C.\\nL. Wilson, NIST Form-Based Handprint Recognition System, NISTIR 5469,\\n1994.\\n\\n|details-start|\\n**References**\\n|details-split|\\n\\n- C. Kaynak (1995) Methods of Combining Multiple Classifiers and Their\\n  Applications to Handwritten Digit Recognition, MSc Thesis, Institute of\\n  Graduate Studies in Science and Engineering, Bogazici University.\\n- E. Alpaydin, C. Kaynak (1998) Cascading Classifiers, Kybernetika.\\n- Ken Tang and Ponnuthurai N. Suganthan and Xi Yao and A. Kai Qin.\\n  Linear dimensionalityreduction using relevance weighted LDA. School of\\n  Electrical and Electronic Engineering Nanyang Technological University.\\n  2005.\\n- Claudio Gentile. A New Approximate Maximal Margin Classification\\n  Algorithm. NIPS. 2000.\\n\\n|details-end|\\n\"}"
      ]
     },
     "execution_count": 7,
     "metadata": {},
     "output_type": "execute_result"
    }
   ],
   "source": [
    "dataset"
   ]
  },
  {
   "cell_type": "markdown",
   "id": "6987e092-74cf-496d-831c-14a71a78dd23",
   "metadata": {},
   "source": [
    "**Each data point is an 8x8 image of a digit**"
   ]
  },
  {
   "cell_type": "markdown",
   "id": "c7ad2539-cd07-43c1-8657-b9f6e85c93df",
   "metadata": {},
   "source": [
    "**load_digits is a dataset containing 8x8 images of handwritten digits (from 0 to 9).**\n",
    "\n",
    "**Each image is flattened into a 1D array with 64 values (since 8 × 8 = 64 pixels), where each value corresponds to the intensity of a pixel (ranging between 0 and 16)**"
   ]
  },
  {
   "cell_type": "code",
   "execution_count": 10,
   "id": "a9e67c9b-2edf-4756-97ce-8ade3b4ef78f",
   "metadata": {},
   "outputs": [
    {
     "data": {
      "text/plain": [
       "dict_keys(['data', 'target', 'frame', 'feature_names', 'target_names', 'images', 'DESCR'])"
      ]
     },
     "execution_count": 10,
     "metadata": {},
     "output_type": "execute_result"
    }
   ],
   "source": [
    "dataset.keys()"
   ]
  },
  {
   "cell_type": "markdown",
   "id": "6332f682-4bc1-44ee-9be1-b6fe78d927b7",
   "metadata": {},
   "source": [
    "## Importing preliminary libraries"
   ]
  },
  {
   "cell_type": "code",
   "execution_count": 12,
   "id": "0cf4b4fc-1433-4e19-818e-3b95c9261e53",
   "metadata": {},
   "outputs": [],
   "source": [
    "import numpy as np\n",
    "import pandas as pd\n",
    "import matplotlib.pyplot as plt"
   ]
  },
  {
   "cell_type": "code",
   "execution_count": 13,
   "id": "b9d03f10-07aa-4b10-88a8-c8db23d9c36b",
   "metadata": {},
   "outputs": [],
   "source": [
    "df = pd.DataFrame(dataset.data, columns=dataset.feature_names)"
   ]
  },
  {
   "cell_type": "code",
   "execution_count": 14,
   "id": "c7bad0e1-dfa5-4bb6-a536-d402f354d0ab",
   "metadata": {},
   "outputs": [
    {
     "data": {
      "text/html": [
       "<div>\n",
       "<style scoped>\n",
       "    .dataframe tbody tr th:only-of-type {\n",
       "        vertical-align: middle;\n",
       "    }\n",
       "\n",
       "    .dataframe tbody tr th {\n",
       "        vertical-align: top;\n",
       "    }\n",
       "\n",
       "    .dataframe thead th {\n",
       "        text-align: right;\n",
       "    }\n",
       "</style>\n",
       "<table border=\"1\" class=\"dataframe\">\n",
       "  <thead>\n",
       "    <tr style=\"text-align: right;\">\n",
       "      <th></th>\n",
       "      <th>pixel_0_0</th>\n",
       "      <th>pixel_0_1</th>\n",
       "      <th>pixel_0_2</th>\n",
       "      <th>pixel_0_3</th>\n",
       "      <th>pixel_0_4</th>\n",
       "      <th>pixel_0_5</th>\n",
       "      <th>pixel_0_6</th>\n",
       "      <th>pixel_0_7</th>\n",
       "      <th>pixel_1_0</th>\n",
       "      <th>pixel_1_1</th>\n",
       "      <th>...</th>\n",
       "      <th>pixel_6_6</th>\n",
       "      <th>pixel_6_7</th>\n",
       "      <th>pixel_7_0</th>\n",
       "      <th>pixel_7_1</th>\n",
       "      <th>pixel_7_2</th>\n",
       "      <th>pixel_7_3</th>\n",
       "      <th>pixel_7_4</th>\n",
       "      <th>pixel_7_5</th>\n",
       "      <th>pixel_7_6</th>\n",
       "      <th>pixel_7_7</th>\n",
       "    </tr>\n",
       "  </thead>\n",
       "  <tbody>\n",
       "    <tr>\n",
       "      <th>0</th>\n",
       "      <td>0.0</td>\n",
       "      <td>0.0</td>\n",
       "      <td>5.0</td>\n",
       "      <td>13.0</td>\n",
       "      <td>9.0</td>\n",
       "      <td>1.0</td>\n",
       "      <td>0.0</td>\n",
       "      <td>0.0</td>\n",
       "      <td>0.0</td>\n",
       "      <td>0.0</td>\n",
       "      <td>...</td>\n",
       "      <td>0.0</td>\n",
       "      <td>0.0</td>\n",
       "      <td>0.0</td>\n",
       "      <td>0.0</td>\n",
       "      <td>6.0</td>\n",
       "      <td>13.0</td>\n",
       "      <td>10.0</td>\n",
       "      <td>0.0</td>\n",
       "      <td>0.0</td>\n",
       "      <td>0.0</td>\n",
       "    </tr>\n",
       "    <tr>\n",
       "      <th>1</th>\n",
       "      <td>0.0</td>\n",
       "      <td>0.0</td>\n",
       "      <td>0.0</td>\n",
       "      <td>12.0</td>\n",
       "      <td>13.0</td>\n",
       "      <td>5.0</td>\n",
       "      <td>0.0</td>\n",
       "      <td>0.0</td>\n",
       "      <td>0.0</td>\n",
       "      <td>0.0</td>\n",
       "      <td>...</td>\n",
       "      <td>0.0</td>\n",
       "      <td>0.0</td>\n",
       "      <td>0.0</td>\n",
       "      <td>0.0</td>\n",
       "      <td>0.0</td>\n",
       "      <td>11.0</td>\n",
       "      <td>16.0</td>\n",
       "      <td>10.0</td>\n",
       "      <td>0.0</td>\n",
       "      <td>0.0</td>\n",
       "    </tr>\n",
       "    <tr>\n",
       "      <th>2</th>\n",
       "      <td>0.0</td>\n",
       "      <td>0.0</td>\n",
       "      <td>0.0</td>\n",
       "      <td>4.0</td>\n",
       "      <td>15.0</td>\n",
       "      <td>12.0</td>\n",
       "      <td>0.0</td>\n",
       "      <td>0.0</td>\n",
       "      <td>0.0</td>\n",
       "      <td>0.0</td>\n",
       "      <td>...</td>\n",
       "      <td>5.0</td>\n",
       "      <td>0.0</td>\n",
       "      <td>0.0</td>\n",
       "      <td>0.0</td>\n",
       "      <td>0.0</td>\n",
       "      <td>3.0</td>\n",
       "      <td>11.0</td>\n",
       "      <td>16.0</td>\n",
       "      <td>9.0</td>\n",
       "      <td>0.0</td>\n",
       "    </tr>\n",
       "    <tr>\n",
       "      <th>3</th>\n",
       "      <td>0.0</td>\n",
       "      <td>0.0</td>\n",
       "      <td>7.0</td>\n",
       "      <td>15.0</td>\n",
       "      <td>13.0</td>\n",
       "      <td>1.0</td>\n",
       "      <td>0.0</td>\n",
       "      <td>0.0</td>\n",
       "      <td>0.0</td>\n",
       "      <td>8.0</td>\n",
       "      <td>...</td>\n",
       "      <td>9.0</td>\n",
       "      <td>0.0</td>\n",
       "      <td>0.0</td>\n",
       "      <td>0.0</td>\n",
       "      <td>7.0</td>\n",
       "      <td>13.0</td>\n",
       "      <td>13.0</td>\n",
       "      <td>9.0</td>\n",
       "      <td>0.0</td>\n",
       "      <td>0.0</td>\n",
       "    </tr>\n",
       "    <tr>\n",
       "      <th>4</th>\n",
       "      <td>0.0</td>\n",
       "      <td>0.0</td>\n",
       "      <td>0.0</td>\n",
       "      <td>1.0</td>\n",
       "      <td>11.0</td>\n",
       "      <td>0.0</td>\n",
       "      <td>0.0</td>\n",
       "      <td>0.0</td>\n",
       "      <td>0.0</td>\n",
       "      <td>0.0</td>\n",
       "      <td>...</td>\n",
       "      <td>0.0</td>\n",
       "      <td>0.0</td>\n",
       "      <td>0.0</td>\n",
       "      <td>0.0</td>\n",
       "      <td>0.0</td>\n",
       "      <td>2.0</td>\n",
       "      <td>16.0</td>\n",
       "      <td>4.0</td>\n",
       "      <td>0.0</td>\n",
       "      <td>0.0</td>\n",
       "    </tr>\n",
       "  </tbody>\n",
       "</table>\n",
       "<p>5 rows × 64 columns</p>\n",
       "</div>"
      ],
      "text/plain": [
       "   pixel_0_0  pixel_0_1  pixel_0_2  pixel_0_3  pixel_0_4  pixel_0_5  \\\n",
       "0        0.0        0.0        5.0       13.0        9.0        1.0   \n",
       "1        0.0        0.0        0.0       12.0       13.0        5.0   \n",
       "2        0.0        0.0        0.0        4.0       15.0       12.0   \n",
       "3        0.0        0.0        7.0       15.0       13.0        1.0   \n",
       "4        0.0        0.0        0.0        1.0       11.0        0.0   \n",
       "\n",
       "   pixel_0_6  pixel_0_7  pixel_1_0  pixel_1_1  ...  pixel_6_6  pixel_6_7  \\\n",
       "0        0.0        0.0        0.0        0.0  ...        0.0        0.0   \n",
       "1        0.0        0.0        0.0        0.0  ...        0.0        0.0   \n",
       "2        0.0        0.0        0.0        0.0  ...        5.0        0.0   \n",
       "3        0.0        0.0        0.0        8.0  ...        9.0        0.0   \n",
       "4        0.0        0.0        0.0        0.0  ...        0.0        0.0   \n",
       "\n",
       "   pixel_7_0  pixel_7_1  pixel_7_2  pixel_7_3  pixel_7_4  pixel_7_5  \\\n",
       "0        0.0        0.0        6.0       13.0       10.0        0.0   \n",
       "1        0.0        0.0        0.0       11.0       16.0       10.0   \n",
       "2        0.0        0.0        0.0        3.0       11.0       16.0   \n",
       "3        0.0        0.0        7.0       13.0       13.0        9.0   \n",
       "4        0.0        0.0        0.0        2.0       16.0        4.0   \n",
       "\n",
       "   pixel_7_6  pixel_7_7  \n",
       "0        0.0        0.0  \n",
       "1        0.0        0.0  \n",
       "2        9.0        0.0  \n",
       "3        0.0        0.0  \n",
       "4        0.0        0.0  \n",
       "\n",
       "[5 rows x 64 columns]"
      ]
     },
     "execution_count": 14,
     "metadata": {},
     "output_type": "execute_result"
    }
   ],
   "source": [
    "df.head()"
   ]
  },
  {
   "cell_type": "code",
   "execution_count": 15,
   "id": "8b0a19cd-2a63-416b-a2e4-009cb0c3c9b3",
   "metadata": {},
   "outputs": [
    {
     "data": {
      "text/plain": [
       "array([ 0.,  0.,  5., 13.,  9.,  1.,  0.,  0.,  0.,  0., 13., 15., 10.,\n",
       "       15.,  5.,  0.,  0.,  3., 15.,  2.,  0., 11.,  8.,  0.,  0.,  4.,\n",
       "       12.,  0.,  0.,  8.,  8.,  0.,  0.,  5.,  8.,  0.,  0.,  9.,  8.,\n",
       "        0.,  0.,  4., 11.,  0.,  1., 12.,  7.,  0.,  0.,  2., 14.,  5.,\n",
       "       10., 12.,  0.,  0.,  0.,  0.,  6., 13., 10.,  0.,  0.,  0.])"
      ]
     },
     "execution_count": 15,
     "metadata": {},
     "output_type": "execute_result"
    }
   ],
   "source": [
    "dataset.data[0]"
   ]
  },
  {
   "cell_type": "code",
   "execution_count": 16,
   "id": "14cdacd7-2331-4b99-af74-08da99840b09",
   "metadata": {},
   "outputs": [
    {
     "data": {
      "text/plain": [
       "array([[ 0.,  0.,  5., 13.,  9.,  1.,  0.,  0.],\n",
       "       [ 0.,  0., 13., 15., 10., 15.,  5.,  0.],\n",
       "       [ 0.,  3., 15.,  2.,  0., 11.,  8.,  0.],\n",
       "       [ 0.,  4., 12.,  0.,  0.,  8.,  8.,  0.],\n",
       "       [ 0.,  5.,  8.,  0.,  0.,  9.,  8.,  0.],\n",
       "       [ 0.,  4., 11.,  0.,  1., 12.,  7.,  0.],\n",
       "       [ 0.,  2., 14.,  5., 10., 12.,  0.,  0.],\n",
       "       [ 0.,  0.,  6., 13., 10.,  0.,  0.,  0.]])"
      ]
     },
     "execution_count": 16,
     "metadata": {},
     "output_type": "execute_result"
    }
   ],
   "source": [
    "dataset.data[0].reshape(8,8)"
   ]
  },
  {
   "cell_type": "markdown",
   "id": "617e4756-c0e9-4e35-b7e3-d687441affcc",
   "metadata": {},
   "source": [
    "## Visualization"
   ]
  },
  {
   "cell_type": "code",
   "execution_count": 18,
   "id": "cc9e62fc-9844-4e17-ade2-67e35e2f984e",
   "metadata": {},
   "outputs": [
    {
     "data": {
      "text/plain": [
       "<Figure size 640x480 with 0 Axes>"
      ]
     },
     "metadata": {},
     "output_type": "display_data"
    },
    {
     "data": {
      "image/png": "[encoded data removed]",
      "text/plain": [
       "<Figure size 480x480 with 1 Axes>"
      ]
     },
     "metadata": {},
     "output_type": "display_data"
    }
   ],
   "source": [
    "plt.gray()\n",
    "plt.matshow(dataset.data[0].reshape(8,8))\n",
    "plt.show()"
   ]
  },
  {
   "cell_type": "code",
   "execution_count": 19,
   "id": "edb5eedd-e8d4-48d7-99ac-ca47b5401b7f",
   "metadata": {},
   "outputs": [
    {
     "data": {
      "text/plain": [
       "<Figure size 640x480 with 0 Axes>"
      ]
     },
     "metadata": {},
     "output_type": "display_data"
    },
    {
     "data": {
      "image/png": "[encoded data removed]",
      "text/plain": [
       "<Figure size 480x480 with 1 Axes>"
      ]
     },
     "metadata": {},
     "output_type": "display_data"
    }
   ],
   "source": [
    "plt.gray()\n",
    "plt.matshow(dataset.images[0])\n",
    "plt.title(f\"Target: {dataset.target[0]}\")\n",
    "plt.show()"
   ]
  },
  {
   "cell_type": "code",
   "execution_count": 20,
   "id": "a7b12ee0-1418-4490-8595-be9bd35e95fe",
   "metadata": {},
   "outputs": [
    {
     "data": {
      "text/plain": [
       "<Figure size 640x480 with 0 Axes>"
      ]
     },
     "metadata": {},
     "output_type": "display_data"
    },
    {
     "data": {
      "image/png": "[encoded data removed]",
      "text/plain": [
       "<Figure size 480x480 with 1 Axes>"
      ]
     },
     "metadata": {},
     "output_type": "display_data"
    }
   ],
   "source": [
    "plt.jet()\n",
    "plt.matshow(dataset.images[20])\n",
    "plt.title(f\"Target: {dataset.target[20]}\")\n",
    "plt.show()"
   ]
  },
  {
   "cell_type": "code",
   "execution_count": 21,
   "id": "0c4e9dcf-5967-4afb-8cb9-729da02ce0ef",
   "metadata": {},
   "outputs": [
    {
     "data": {
      "text/plain": [
       "<Figure size 640x480 with 0 Axes>"
      ]
     },
     "metadata": {},
     "output_type": "display_data"
    },
    {
     "data": {
      "image/png": "[encoded data removed]",
      "text/plain": [
       "<Figure size 480x480 with 1 Axes>"
      ]
     },
     "metadata": {},
     "output_type": "display_data"
    }
   ],
   "source": [
    "plt.magma()\n",
    "plt.matshow(dataset.images[500])\n",
    "plt.title(f\"Target: {dataset.target[500]}\")\n",
    "plt.show()"
   ]
  },
  {
   "cell_type": "markdown",
   "id": "2f901737-1c52-4926-9285-8bfdaf481f01",
   "metadata": {},
   "source": [
    "#### Color Maps"
   ]
  },
  {
   "cell_type": "markdown",
   "id": "d1d75bda-80cb-4641-81a0-5de18d6d9f8e",
   "metadata": {},
   "source": [
    "Popular Colormaps to Try:\n",
    "viridis (default in Matplotlib) – Good for perceptual uniformity.\n",
    "plasma – A warm, colorful colormap.\n",
    "inferno – Dark background with bright colors.\n",
    "magma – Similar to inferno but with more contrast.\n",
    "cividis – Good for colorblind-friendly visualizations.\n",
    "jet – A rainbow-style colormap (though less recommended for precise interpretation).\n"
   ]
  },
  {
   "cell_type": "code",
   "execution_count": 24,
   "id": "9f740352-316e-40fa-a123-d5e20d87a35f",
   "metadata": {},
   "outputs": [
    {
     "name": "stdout",
     "output_type": "stream",
     "text": [
      "ColormapRegistry; available colormaps:\n",
      "'magma', 'inferno', 'plasma', 'viridis', 'cividis', 'twilight', 'twilight_shifted', 'turbo', 'Blues', 'BrBG', 'BuGn', 'BuPu', 'CMRmap', 'GnBu', 'Greens', 'Greys', 'OrRd', 'Oranges', 'PRGn', 'PiYG', 'PuBu', 'PuBuGn', 'PuOr', 'PuRd', 'Purples', 'RdBu', 'RdGy', 'RdPu', 'RdYlBu', 'RdYlGn', 'Reds', 'Spectral', 'Wistia', 'YlGn', 'YlGnBu', 'YlOrBr', 'YlOrRd', 'afmhot', 'autumn', 'binary', 'bone', 'brg', 'bwr', 'cool', 'coolwarm', 'copper', 'cubehelix', 'flag', 'gist_earth', 'gist_gray', 'gist_heat', 'gist_ncar', 'gist_rainbow', 'gist_stern', 'gist_yarg', 'gnuplot', 'gnuplot2', 'gray', 'hot', 'hsv', 'jet', 'nipy_spectral', 'ocean', 'pink', 'prism', 'rainbow', 'seismic', 'spring', 'summer', 'terrain', 'winter', 'Accent', 'Dark2', 'Paired', 'Pastel1', 'Pastel2', 'Set1', 'Set2', 'Set3', 'tab10', 'tab20', 'tab20b', 'tab20c', 'grey', 'gist_grey', 'gist_yerg', 'Grays', 'magma_r', 'inferno_r', 'plasma_r', 'viridis_r', 'cividis_r', 'twilight_r', 'twilight_shifted_r', 'turbo_r', 'Blues_r', 'BrBG_r', 'BuGn_r', 'BuPu_r', 'CMRmap_r', 'GnBu_r', 'Greens_r', 'Greys_r', 'OrRd_r', 'Oranges_r', 'PRGn_r', 'PiYG_r', 'PuBu_r', 'PuBuGn_r', 'PuOr_r', 'PuRd_r', 'Purples_r', 'RdBu_r', 'RdGy_r', 'RdPu_r', 'RdYlBu_r', 'RdYlGn_r', 'Reds_r', 'Spectral_r', 'Wistia_r', 'YlGn_r', 'YlGnBu_r', 'YlOrBr_r', 'YlOrRd_r', 'afmhot_r', 'autumn_r', 'binary_r', 'bone_r', 'brg_r', 'bwr_r', 'cool_r', 'coolwarm_r', 'copper_r', 'cubehelix_r', 'flag_r', 'gist_earth_r', 'gist_gray_r', 'gist_heat_r', 'gist_ncar_r', 'gist_rainbow_r', 'gist_stern_r', 'gist_yarg_r', 'gnuplot_r', 'gnuplot2_r', 'gray_r', 'hot_r', 'hsv_r', 'jet_r', 'nipy_spectral_r', 'ocean_r', 'pink_r', 'prism_r', 'rainbow_r', 'seismic_r', 'spring_r', 'summer_r', 'terrain_r', 'winter_r', 'Accent_r', 'Dark2_r', 'Paired_r', 'Pastel1_r', 'Pastel2_r', 'Set1_r', 'Set2_r', 'Set3_r', 'tab10_r', 'tab20_r', 'tab20b_r', 'tab20c_r'\n"
     ]
    }
   ],
   "source": [
    "print(plt.colormaps)"
   ]
  },
  {
   "cell_type": "code",
   "execution_count": 25,
   "id": "aeb7628a-4303-4f98-bff0-cde2a10f1a28",
   "metadata": {},
   "outputs": [
    {
     "data": {
      "text/plain": [
       "<Figure size 640x480 with 0 Axes>"
      ]
     },
     "metadata": {},
     "output_type": "display_data"
    },
    {
     "data": {
      "image/png": "[encoded data removed]",
      "text/plain": [
       "<Figure size 480x480 with 1 Axes>"
      ]
     },
     "metadata": {},
     "output_type": "display_data"
    }
   ],
   "source": [
    "plt.plasma()\n",
    "plt.matshow(dataset.images[600])\n",
    "plt.title(f\"Target: {dataset.target[600]}\")\n",
    "plt.show()"
   ]
  },
  {
   "cell_type": "code",
   "execution_count": 26,
   "id": "662947c9-9f3d-42ad-ba80-7cd651bb6088",
   "metadata": {},
   "outputs": [
    {
     "data": {
      "text/plain": [
       "<Figure size 640x480 with 0 Axes>"
      ]
     },
     "metadata": {},
     "output_type": "display_data"
    },
    {
     "data": {
      "image/png": "[encoded data removed]",
      "text/plain": [
       "<Figure size 480x480 with 1 Axes>"
      ]
     },
     "metadata": {},
     "output_type": "display_data"
    }
   ],
   "source": [
    "plt.inferno()\n",
    "plt.matshow(dataset.images[800])\n",
    "plt.title(f\"Target: {dataset.target[800]}\")\n",
    "plt.show()"
   ]
  },
  {
   "cell_type": "markdown",
   "id": "c540228f-5fc5-4f0b-9926-e067aa6dfe36",
   "metadata": {},
   "source": [
    "#### Shape of Images data"
   ]
  },
  {
   "cell_type": "code",
   "execution_count": 28,
   "id": "320e1619-fca2-4060-8100-fb74a2f951b2",
   "metadata": {},
   "outputs": [
    {
     "data": {
      "text/plain": [
       "(1797, 8, 8)"
      ]
     },
     "execution_count": 28,
     "metadata": {},
     "output_type": "execute_result"
    }
   ],
   "source": [
    "np.shape(dataset.images)"
   ]
  },
  {
   "cell_type": "markdown",
   "id": "cd59db02-5bb4-4e8d-b66d-929b011e6c86",
   "metadata": {},
   "source": [
    "#### Shape of data"
   ]
  },
  {
   "cell_type": "code",
   "execution_count": 30,
   "id": "a09003af-e762-4f29-b43d-46d75193852c",
   "metadata": {},
   "outputs": [
    {
     "data": {
      "text/plain": [
       "(1797, 64)"
      ]
     },
     "execution_count": 30,
     "metadata": {},
     "output_type": "execute_result"
    }
   ],
   "source": [
    "np.shape(dataset.data)"
   ]
  },
  {
   "cell_type": "code",
   "execution_count": 31,
   "id": "d91479f8-ffe6-4758-a4bf-90e561b86575",
   "metadata": {},
   "outputs": [
    {
     "data": {
      "text/plain": [
       "array([[ 0.,  0.,  5., 13.,  9.,  1.,  0.,  0.],\n",
       "       [ 0.,  0., 13., 15., 10., 15.,  5.,  0.],\n",
       "       [ 0.,  3., 15.,  2.,  0., 11.,  8.,  0.],\n",
       "       [ 0.,  4., 12.,  0.,  0.,  8.,  8.,  0.],\n",
       "       [ 0.,  5.,  8.,  0.,  0.,  9.,  8.,  0.],\n",
       "       [ 0.,  4., 11.,  0.,  1., 12.,  7.,  0.],\n",
       "       [ 0.,  2., 14.,  5., 10., 12.,  0.,  0.],\n",
       "       [ 0.,  0.,  6., 13., 10.,  0.,  0.,  0.]])"
      ]
     },
     "execution_count": 31,
     "metadata": {},
     "output_type": "execute_result"
    }
   ],
   "source": [
    "dataset.images[0]"
   ]
  },
  {
   "cell_type": "code",
   "execution_count": 32,
   "id": "307d0e32-adf3-4f5b-ba06-0b244994aa72",
   "metadata": {},
   "outputs": [
    {
     "data": {
      "text/plain": [
       "array([ 0.,  0.,  5., 13.,  9.,  1.,  0.,  0.,  0.,  0., 13., 15., 10.,\n",
       "       15.,  5.,  0.,  0.,  3., 15.,  2.,  0., 11.,  8.,  0.,  0.,  4.,\n",
       "       12.,  0.,  0.,  8.,  8.,  0.,  0.,  5.,  8.,  0.,  0.,  9.,  8.,\n",
       "        0.,  0.,  4., 11.,  0.,  1., 12.,  7.,  0.,  0.,  2., 14.,  5.,\n",
       "       10., 12.,  0.,  0.,  0.,  0.,  6., 13., 10.,  0.,  0.,  0.])"
      ]
     },
     "execution_count": 32,
     "metadata": {},
     "output_type": "execute_result"
    }
   ],
   "source": [
    "dataset.data[0]"
   ]
  },
  {
   "cell_type": "code",
   "execution_count": 33,
   "id": "5863b6cc-20d8-40d3-9b06-51a1fb3c0ee6",
   "metadata": {},
   "outputs": [],
   "source": [
    "from sklearn.preprocessing import StandardScaler\n",
    "from sklearn.decomposition import PCA"
   ]
  },
  {
   "cell_type": "markdown",
   "id": "16bb19f5-ca7d-4684-811f-d6b974065021",
   "metadata": {},
   "source": [
    "## Performing PCA"
   ]
  },
  {
   "cell_type": "code",
   "execution_count": 35,
   "id": "d3db2004-7fa6-4b40-8151-fd8239cb1a2f",
   "metadata": {},
   "outputs": [],
   "source": [
    "X = df\n",
    "y = dataset.target"
   ]
  },
  {
   "cell_type": "code",
   "execution_count": 36,
   "id": "16539e14-c470-40a7-9449-1c7c0913b9ce",
   "metadata": {},
   "outputs": [
    {
     "data": {
      "text/plain": [
       "array([0, 1, 2, ..., 8, 9, 8])"
      ]
     },
     "execution_count": 36,
     "metadata": {},
     "output_type": "execute_result"
    }
   ],
   "source": [
    "y"
   ]
  },
  {
   "cell_type": "code",
   "execution_count": 37,
   "id": "fb0931f7-8c82-42f0-83ce-e3f6a501f57e",
   "metadata": {},
   "outputs": [],
   "source": [
    "from sklearn.pipeline import Pipeline"
   ]
  },
  {
   "cell_type": "code",
   "execution_count": 38,
   "id": "f87f30b7-524b-4355-afcb-68be6997a785",
   "metadata": {},
   "outputs": [],
   "source": [
    "pca_pipeline = Pipeline([\n",
    "    (\"scaler\", StandardScaler()),\n",
    "    (\"PCA\", PCA(0.95))\n",
    "])"
   ]
  },
  {
   "cell_type": "code",
   "execution_count": 39,
   "id": "002f9a78-06d0-400a-8a93-d470fffe141c",
   "metadata": {},
   "outputs": [],
   "source": [
    "X_pca = pca_pipeline.fit_transform(X)"
   ]
  },
  {
   "cell_type": "code",
   "execution_count": 40,
   "id": "ca6b789c-fba5-4a3d-8e03-479f828b2605",
   "metadata": {},
   "outputs": [
    {
     "data": {
      "text/plain": [
       "array([[ 1.91421366, -0.95450157, -3.94603482, ...,  0.81405925,\n",
       "         0.0249306 ,  0.32193146],\n",
       "       [ 0.58898033,  0.9246358 ,  3.92475494, ...,  0.20026094,\n",
       "         0.08710843, -0.48914299],\n",
       "       [ 1.30203906, -0.31718883,  3.02333293, ..., -0.214596  ,\n",
       "        -1.2788745 ,  0.54583387],\n",
       "       ...,\n",
       "       [ 1.02259599, -0.14791087,  2.46997365, ...,  0.60136463,\n",
       "         0.41238798,  1.20886377],\n",
       "       [ 1.07605522, -0.38090625, -2.45548693, ...,  0.43756556,\n",
       "        -0.69863483, -0.44339963],\n",
       "       [-1.25770233, -2.22759088,  0.28362789, ..., -0.38108638,\n",
       "         0.12855104,  1.32137195]])"
      ]
     },
     "execution_count": 40,
     "metadata": {},
     "output_type": "execute_result"
    }
   ],
   "source": [
    "X_pca"
   ]
  },
  {
   "cell_type": "code",
   "execution_count": 41,
   "id": "e1183697-b2ce-46db-b842-46664acae59a",
   "metadata": {},
   "outputs": [],
   "source": [
    "pca_df = pd.DataFrame(X_pca)"
   ]
  },
  {
   "cell_type": "code",
   "execution_count": 42,
   "id": "95b65332-34df-4251-9a76-78d8368215e8",
   "metadata": {},
   "outputs": [
    {
     "data": {
      "text/plain": [
       "(1797, 40)"
      ]
     },
     "execution_count": 42,
     "metadata": {},
     "output_type": "execute_result"
    }
   ],
   "source": [
    "pca_df.shape"
   ]
  },
  {
   "cell_type": "code",
   "execution_count": 43,
   "id": "fe51158b-1eea-41c6-babb-4d1c2e03a4a1",
   "metadata": {},
   "outputs": [
    {
     "data": {
      "text/html": [
       "<div>\n",
       "<style scoped>\n",
       "    .dataframe tbody tr th:only-of-type {\n",
       "        vertical-align: middle;\n",
       "    }\n",
       "\n",
       "    .dataframe tbody tr th {\n",
       "        vertical-align: top;\n",
       "    }\n",
       "\n",
       "    .dataframe thead th {\n",
       "        text-align: right;\n",
       "    }\n",
       "</style>\n",
       "<table border=\"1\" class=\"dataframe\">\n",
       "  <thead>\n",
       "    <tr style=\"text-align: right;\">\n",
       "      <th></th>\n",
       "      <th>0</th>\n",
       "      <th>1</th>\n",
       "      <th>2</th>\n",
       "      <th>3</th>\n",
       "      <th>4</th>\n",
       "      <th>5</th>\n",
       "      <th>6</th>\n",
       "      <th>7</th>\n",
       "      <th>8</th>\n",
       "      <th>9</th>\n",
       "      <th>...</th>\n",
       "      <th>30</th>\n",
       "      <th>31</th>\n",
       "      <th>32</th>\n",
       "      <th>33</th>\n",
       "      <th>34</th>\n",
       "      <th>35</th>\n",
       "      <th>36</th>\n",
       "      <th>37</th>\n",
       "      <th>38</th>\n",
       "      <th>39</th>\n",
       "    </tr>\n",
       "  </thead>\n",
       "  <tbody>\n",
       "    <tr>\n",
       "      <th>0</th>\n",
       "      <td>1.914214</td>\n",
       "      <td>-0.954502</td>\n",
       "      <td>-3.946035</td>\n",
       "      <td>2.028723</td>\n",
       "      <td>-0.267173</td>\n",
       "      <td>0.530327</td>\n",
       "      <td>-1.415321</td>\n",
       "      <td>1.496062</td>\n",
       "      <td>0.124914</td>\n",
       "      <td>-0.822246</td>\n",
       "      <td>...</td>\n",
       "      <td>0.534683</td>\n",
       "      <td>-0.017979</td>\n",
       "      <td>0.047950</td>\n",
       "      <td>0.019124</td>\n",
       "      <td>0.117190</td>\n",
       "      <td>0.709049</td>\n",
       "      <td>0.082410</td>\n",
       "      <td>0.814059</td>\n",
       "      <td>0.024931</td>\n",
       "      <td>0.321931</td>\n",
       "    </tr>\n",
       "    <tr>\n",
       "      <th>1</th>\n",
       "      <td>0.588980</td>\n",
       "      <td>0.924636</td>\n",
       "      <td>3.924755</td>\n",
       "      <td>-1.779850</td>\n",
       "      <td>-0.993430</td>\n",
       "      <td>-0.675652</td>\n",
       "      <td>1.878565</td>\n",
       "      <td>0.556336</td>\n",
       "      <td>1.079877</td>\n",
       "      <td>0.087451</td>\n",
       "      <td>...</td>\n",
       "      <td>1.098196</td>\n",
       "      <td>-1.144159</td>\n",
       "      <td>0.037744</td>\n",
       "      <td>0.371680</td>\n",
       "      <td>-0.671299</td>\n",
       "      <td>-0.004144</td>\n",
       "      <td>-0.246765</td>\n",
       "      <td>0.200261</td>\n",
       "      <td>0.087108</td>\n",
       "      <td>-0.489143</td>\n",
       "    </tr>\n",
       "    <tr>\n",
       "      <th>2</th>\n",
       "      <td>1.302039</td>\n",
       "      <td>-0.317189</td>\n",
       "      <td>3.023333</td>\n",
       "      <td>-2.043376</td>\n",
       "      <td>-2.081155</td>\n",
       "      <td>0.935121</td>\n",
       "      <td>-1.296200</td>\n",
       "      <td>1.156160</td>\n",
       "      <td>0.785606</td>\n",
       "      <td>-1.099206</td>\n",
       "      <td>...</td>\n",
       "      <td>-0.749792</td>\n",
       "      <td>0.487304</td>\n",
       "      <td>-1.356959</td>\n",
       "      <td>-0.107016</td>\n",
       "      <td>0.149503</td>\n",
       "      <td>-0.089290</td>\n",
       "      <td>0.408216</td>\n",
       "      <td>-0.214596</td>\n",
       "      <td>-1.278875</td>\n",
       "      <td>0.545834</td>\n",
       "    </tr>\n",
       "    <tr>\n",
       "      <th>3</th>\n",
       "      <td>-3.020770</td>\n",
       "      <td>-0.868772</td>\n",
       "      <td>-0.801744</td>\n",
       "      <td>-2.187039</td>\n",
       "      <td>-0.556813</td>\n",
       "      <td>0.727124</td>\n",
       "      <td>0.959766</td>\n",
       "      <td>-1.382638</td>\n",
       "      <td>0.259075</td>\n",
       "      <td>0.744555</td>\n",
       "      <td>...</td>\n",
       "      <td>0.268599</td>\n",
       "      <td>0.875580</td>\n",
       "      <td>0.117581</td>\n",
       "      <td>-0.470575</td>\n",
       "      <td>-0.148854</td>\n",
       "      <td>0.234044</td>\n",
       "      <td>0.396726</td>\n",
       "      <td>0.197436</td>\n",
       "      <td>0.772751</td>\n",
       "      <td>-0.050325</td>\n",
       "    </tr>\n",
       "    <tr>\n",
       "      <th>4</th>\n",
       "      <td>4.528949</td>\n",
       "      <td>-1.093480</td>\n",
       "      <td>0.973121</td>\n",
       "      <td>-1.419510</td>\n",
       "      <td>-1.715106</td>\n",
       "      <td>1.431592</td>\n",
       "      <td>1.073649</td>\n",
       "      <td>-0.968240</td>\n",
       "      <td>-1.660216</td>\n",
       "      <td>1.174593</td>\n",
       "      <td>...</td>\n",
       "      <td>-0.660454</td>\n",
       "      <td>-0.360253</td>\n",
       "      <td>0.268121</td>\n",
       "      <td>0.499444</td>\n",
       "      <td>-0.263106</td>\n",
       "      <td>-0.583008</td>\n",
       "      <td>-0.174328</td>\n",
       "      <td>-0.215579</td>\n",
       "      <td>-0.133426</td>\n",
       "      <td>0.184994</td>\n",
       "    </tr>\n",
       "  </tbody>\n",
       "</table>\n",
       "<p>5 rows × 40 columns</p>\n",
       "</div>"
      ],
      "text/plain": [
       "         0         1         2         3         4         5         6   \\\n",
       "0  1.914214 -0.954502 -3.946035  2.028723 -0.267173  0.530327 -1.415321   \n",
       "1  0.588980  0.924636  3.924755 -1.779850 -0.993430 -0.675652  1.878565   \n",
       "2  1.302039 -0.317189  3.023333 -2.043376 -2.081155  0.935121 -1.296200   \n",
       "3 -3.020770 -0.868772 -0.801744 -2.187039 -0.556813  0.727124  0.959766   \n",
       "4  4.528949 -1.093480  0.973121 -1.419510 -1.715106  1.431592  1.073649   \n",
       "\n",
       "         7         8         9   ...        30        31        32        33  \\\n",
       "0  1.496062  0.124914 -0.822246  ...  0.534683 -0.017979  0.047950  0.019124   \n",
       "1  0.556336  1.079877  0.087451  ...  1.098196 -1.144159  0.037744  0.371680   \n",
       "2  1.156160  0.785606 -1.099206  ... -0.749792  0.487304 -1.356959 -0.107016   \n",
       "3 -1.382638  0.259075  0.744555  ...  0.268599  0.875580  0.117581 -0.470575   \n",
       "4 -0.968240 -1.660216  1.174593  ... -0.660454 -0.360253  0.268121  0.499444   \n",
       "\n",
       "         34        35        36        37        38        39  \n",
       "0  0.117190  0.709049  0.082410  0.814059  0.024931  0.321931  \n",
       "1 -0.671299 -0.004144 -0.246765  0.200261  0.087108 -0.489143  \n",
       "2  0.149503 -0.089290  0.408216 -0.214596 -1.278875  0.545834  \n",
       "3 -0.148854  0.234044  0.396726  0.197436  0.772751 -0.050325  \n",
       "4 -0.263106 -0.583008 -0.174328 -0.215579 -0.133426  0.184994  \n",
       "\n",
       "[5 rows x 40 columns]"
      ]
     },
     "execution_count": 43,
     "metadata": {},
     "output_type": "execute_result"
    }
   ],
   "source": [
    "pca_df.head()"
   ]
  },
  {
   "cell_type": "code",
   "execution_count": 44,
   "id": "906bade7-1551-407b-be4f-d606203c2d45",
   "metadata": {},
   "outputs": [
    {
     "name": "stdout",
     "output_type": "stream",
     "text": [
      "Explained variance ration: [0.12033916 0.09561054 0.08444415 0.06498408 0.04860155 0.0421412\n",
      " 0.03942083 0.03389381 0.02998221 0.02932003 0.02781805 0.02577055\n",
      " 0.02275303 0.0222718  0.02165229 0.01914167 0.01775547 0.01638069\n",
      " 0.0159646  0.01489191 0.0134797  0.01271931 0.01165837 0.01057647\n",
      " 0.00975316 0.00944559 0.00863014 0.00836643 0.00797693 0.00746471\n",
      " 0.00725582 0.00691911 0.00653909 0.00640793 0.00591384 0.00571162\n",
      " 0.00523637 0.00481808 0.00453719 0.00423163]\n"
     ]
    }
   ],
   "source": [
    "print(f\"Explained variance ration: {pca_pipeline.named_steps[\"PCA\"].explained_variance_ratio_}\")"
   ]
  },
  {
   "cell_type": "markdown",
   "id": "4e9b70bf-2bc5-433f-9940-70727dc3af0d",
   "metadata": {},
   "source": [
    "## Train, Test, Split"
   ]
  },
  {
   "cell_type": "code",
   "execution_count": 46,
   "id": "0b594703-df36-4647-996c-9ee67f43826f",
   "metadata": {},
   "outputs": [],
   "source": [
    "from sklearn.model_selection import train_test_split, cross_val_score"
   ]
  },
  {
   "cell_type": "code",
   "execution_count": 47,
   "id": "349b8547-189c-441b-be9f-7dc8cf8a6d22",
   "metadata": {},
   "outputs": [],
   "source": [
    "X_train, X_test, y_train, y_test = train_test_split(X, y, test_size=0.3, random_state=42)"
   ]
  },
  {
   "cell_type": "code",
   "execution_count": 48,
   "id": "c1119fad-8746-40b5-9df2-b9031be38d68",
   "metadata": {},
   "outputs": [],
   "source": [
    "from sklearn.linear_model import LogisticRegression"
   ]
  },
  {
   "cell_type": "code",
   "execution_count": 49,
   "id": "0f9d6a64-6865-40f0-8d56-2e1a141296c6",
   "metadata": {},
   "outputs": [],
   "source": [
    "from sklearn.metrics import classification_report"
   ]
  },
  {
   "cell_type": "markdown",
   "id": "b51f5cd2-f043-40fe-b3ef-5ad13228d9c4",
   "metadata": {},
   "source": [
    "## Implementing Logistic Regression"
   ]
  },
  {
   "cell_type": "code",
   "execution_count": 51,
   "id": "3d100bf7-a110-415c-b515-0fde210781d2",
   "metadata": {},
   "outputs": [
    {
     "name": "stdout",
     "output_type": "stream",
     "text": [
      "cross validation score: [0.94444444 0.95238095 0.9561753  0.96414343 0.92828685]\n",
      "cross validation score mean: 0.9490861949029279\n",
      "Logistic Regression Classification report\n",
      "              precision    recall  f1-score   support\n",
      "\n",
      "           0       1.00      1.00      1.00        53\n",
      "           1       0.98      0.94      0.96        50\n",
      "           2       0.96      1.00      0.98        47\n",
      "           3       1.00      0.94      0.97        54\n",
      "           4       0.97      1.00      0.98        60\n",
      "           5       0.95      0.95      0.95        66\n",
      "           6       0.98      0.98      0.98        53\n",
      "           7       1.00      0.96      0.98        55\n",
      "           8       0.89      0.95      0.92        43\n",
      "           9       0.97      0.97      0.97        59\n",
      "\n",
      "    accuracy                           0.97       540\n",
      "   macro avg       0.97      0.97      0.97       540\n",
      "weighted avg       0.97      0.97      0.97       540\n",
      "\n"
     ]
    }
   ],
   "source": [
    "lr_pipeline = Pipeline([\n",
    "    ('scale', StandardScaler()),\n",
    "    ('pca', PCA(0.95)),\n",
    "    ('lr', LogisticRegression(max_iter=1000, C=1.0, random_state=42))\n",
    "])\n",
    "\n",
    "lr_cross = cross_val_score(lr_pipeline, X_train, y_train, cv=5)\n",
    "print(f\"cross validation score: {lr_cross}\")\n",
    "print(f\"cross validation score mean: {np.mean(lr_cross)}\")\n",
    "\n",
    "lr_pipeline.fit(X_train,y_train)\n",
    "lr_predict = lr_pipeline.predict(X_test)\n",
    "print(\"Logistic Regression Classification report\")\n",
    "print(classification_report(y_test, lr_predict))"
   ]
  },
  {
   "cell_type": "markdown",
   "id": "82cca996-41bf-4a7f-ba70-577ac627eec5",
   "metadata": {},
   "source": [
    "**There is an overall balance between all the classes and the model is performing at 97% of performance metrics**"
   ]
  },
  {
   "cell_type": "code",
   "execution_count": 53,
   "id": "65ea755a-b78d-49f3-88e6-a3078ae9522f",
   "metadata": {},
   "outputs": [
    {
     "data": {
      "text/plain": [
       "array([6, 9, 3, 7, 2, 2, 5, 2, 5, 2, 1, 9, 4, 0, 4, 2, 3, 7, 8, 8, 4, 3,\n",
       "       9, 7, 5, 6, 3, 5, 6, 3, 4, 9, 1, 4, 4, 6, 9, 4, 7, 6, 6, 9, 1, 3,\n",
       "       6, 1, 3, 0, 6, 5, 5, 1, 9, 5, 6, 0, 9, 0, 0, 1, 0, 4, 5, 2, 4, 5,\n",
       "       7, 0, 7, 5, 9, 9, 5, 4, 7, 0, 4, 5, 5, 9, 9, 0, 2, 3, 8, 0, 6, 4,\n",
       "       4, 9, 1, 2, 8, 3, 5, 2, 9, 0, 4, 4, 4, 3, 5, 3, 1, 3, 5, 9, 4, 2,\n",
       "       7, 7, 4, 4, 1, 9, 2, 7, 8, 7, 2, 6, 9, 4, 0, 7, 2, 7, 5, 8, 7, 5,\n",
       "       7, 5, 0, 6, 6, 4, 2, 8, 0, 9, 4, 6, 9, 9, 6, 9, 0, 5, 5, 6, 6, 0,\n",
       "       6, 4, 3, 9, 3, 8, 7, 2, 9, 0, 4, 5, 8, 6, 5, 9, 9, 8, 4, 2, 1, 3,\n",
       "       7, 7, 2, 2, 3, 9, 8, 0, 3, 2, 2, 5, 6, 9, 9, 4, 1, 5, 4, 2, 3, 6,\n",
       "       4, 8, 5, 9, 5, 7, 1, 9, 4, 8, 1, 5, 4, 4, 9, 6, 1, 8, 6, 0, 4, 5,\n",
       "       2, 7, 4, 6, 4, 5, 6, 0, 3, 2, 3, 6, 7, 1, 9, 1, 4, 7, 6, 5, 8, 5,\n",
       "       5, 1, 4, 2, 8, 8, 9, 9, 7, 6, 2, 2, 2, 3, 4, 8, 8, 3, 6, 0, 9, 7,\n",
       "       7, 0, 1, 0, 4, 5, 1, 5, 3, 6, 0, 4, 1, 0, 0, 3, 6, 5, 9, 7, 3, 5,\n",
       "       5, 9, 9, 8, 5, 3, 3, 2, 0, 5, 8, 3, 4, 0, 2, 4, 6, 4, 3, 4, 5, 0,\n",
       "       5, 2, 1, 3, 1, 4, 1, 1, 7, 0, 1, 5, 2, 1, 2, 8, 7, 0, 6, 4, 8, 8,\n",
       "       5, 1, 8, 4, 5, 8, 7, 9, 8, 6, 0, 6, 2, 0, 7, 9, 8, 9, 5, 2, 7, 7,\n",
       "       1, 8, 7, 4, 3, 8, 3, 5, 6, 0, 0, 3, 0, 5, 0, 0, 4, 1, 2, 8, 4, 5,\n",
       "       9, 6, 3, 1, 8, 8, 4, 2, 3, 8, 9, 8, 8, 5, 0, 6, 3, 3, 7, 1, 6, 4,\n",
       "       1, 2, 1, 1, 6, 4, 4, 4, 8, 3, 4, 0, 5, 1, 9, 4, 5, 7, 6, 3, 7, 0,\n",
       "       5, 9, 7, 5, 9, 7, 4, 2, 1, 9, 0, 7, 5, 2, 3, 6, 3, 9, 6, 9, 5, 0,\n",
       "       1, 5, 5, 8, 3, 3, 6, 2, 6, 5, 5, 2, 0, 8, 7, 3, 7, 0, 2, 2, 3, 5,\n",
       "       8, 7, 3, 6, 5, 9, 9, 2, 5, 6, 3, 0, 7, 1, 1, 9, 6, 1, 1, 0, 0, 2,\n",
       "       9, 3, 9, 9, 3, 7, 7, 1, 3, 5, 4, 6, 8, 2, 1, 1, 8, 7, 6, 9, 2, 0,\n",
       "       4, 4, 8, 8, 7, 1, 3, 1, 7, 1, 8, 5, 1, 7, 0, 0, 2, 2, 6, 9, 4, 8,\n",
       "       9, 0, 6, 7, 7, 9, 5, 4, 7, 0, 7, 6])"
      ]
     },
     "execution_count": 53,
     "metadata": {},
     "output_type": "execute_result"
    }
   ],
   "source": [
    "lr_predict"
   ]
  },
  {
   "cell_type": "code",
   "execution_count": 54,
   "id": "6c5d93ad-cccc-4d09-9a86-5879777f4ae3",
   "metadata": {},
   "outputs": [
    {
     "name": "stdout",
     "output_type": "stream",
     "text": [
      "cross validation score: [0.92460317 0.94444444 0.94422311 0.94422311 0.92430279]\n",
      "cross validation score mean: 0.9363593246063365\n",
      "Logistic Regression Classification report\n",
      "              precision    recall  f1-score   support\n",
      "\n",
      "           0       1.00      0.98      0.99        53\n",
      "           1       0.93      0.86      0.90        50\n",
      "           2       0.90      0.94      0.92        47\n",
      "           3       0.96      0.89      0.92        54\n",
      "           4       0.95      0.98      0.97        60\n",
      "           5       0.95      0.91      0.93        66\n",
      "           6       0.96      0.98      0.97        53\n",
      "           7       0.98      0.98      0.98        55\n",
      "           8       0.82      0.98      0.89        43\n",
      "           9       0.90      0.88      0.89        59\n",
      "\n",
      "    accuracy                           0.94       540\n",
      "   macro avg       0.94      0.94      0.94       540\n",
      "weighted avg       0.94      0.94      0.94       540\n",
      "\n"
     ]
    }
   ],
   "source": [
    "lr_pipeline = Pipeline([\n",
    "    ('scale', StandardScaler()),\n",
    "    ('pca', PCA(n_components=20)),\n",
    "    ('lr', LogisticRegression(max_iter=1000, C=1.0, random_state=42))\n",
    "])\n",
    "\n",
    "lr_cross = cross_val_score(lr_pipeline, X_train, y_train, cv=5)\n",
    "print(f\"cross validation score: {lr_cross}\")\n",
    "print(f\"cross validation score mean: {np.mean(lr_cross)}\")\n",
    "\n",
    "lr_pipeline.fit(X_train,y_train)\n",
    "lr_predict = lr_pipeline.predict(X_test)\n",
    "print(\"Logistic Regression Classification report\")\n",
    "print(classification_report(y_test, lr_predict))"
   ]
  },
  {
   "cell_type": "markdown",
   "id": "f76304f2-0d36-421b-b157-10c3e1ebcf65",
   "metadata": {},
   "source": [
    "**We get an overall balance between each class. We all also get balanced precision, recall, f1-score and accuracy**"
   ]
  },
  {
   "cell_type": "code",
   "execution_count": 56,
   "id": "40540d1c-0f4d-49eb-8d5f-20ff37befc60",
   "metadata": {},
   "outputs": [],
   "source": [
    "ex_var_ratio = lr_pipeline.named_steps[\"pca\"].explained_variance_ratio_"
   ]
  },
  {
   "cell_type": "code",
   "execution_count": 57,
   "id": "f56c6ad1-2351-43c4-8d84-52b3cbe200f7",
   "metadata": {},
   "outputs": [
    {
     "data": {
      "text/plain": [
       "array([0.12139767, 0.09709345, 0.08590108, 0.06448386, 0.04905909,\n",
       "       0.04319224, 0.0392287 , 0.03358589, 0.03065292, 0.02927382,\n",
       "       0.02771458, 0.02551818, 0.02264002, 0.02248655, 0.02113193,\n",
       "       0.01906949, 0.017551  , 0.01629175, 0.01584415, 0.01523862])"
      ]
     },
     "execution_count": 57,
     "metadata": {},
     "output_type": "execute_result"
    }
   ],
   "source": [
    "ex_var_ratio"
   ]
  },
  {
   "cell_type": "code",
   "execution_count": 58,
   "id": "0ad29404-85c3-4798-8224-97dabe09e995",
   "metadata": {},
   "outputs": [
    {
     "data": {
      "text/plain": [
       "0.7973549840891774"
      ]
     },
     "execution_count": 58,
     "metadata": {},
     "output_type": "execute_result"
    }
   ],
   "source": [
    "np.sum(ex_var_ratio)"
   ]
  },
  {
   "cell_type": "markdown",
   "id": "ce1094f3-e482-4a78-8a19-2cbe2c223cf9",
   "metadata": {},
   "source": [
    "**With n_components=20, we were able to retain almost 80% of the original variance. Even after losing 20% of the original variance, our model is performing at 94% on performance metrics**"
   ]
  },
  {
   "cell_type": "markdown",
   "id": "f77b494b-fa46-48a8-80e1-f070985486e7",
   "metadata": {},
   "source": [
    "# LDA"
   ]
  },
  {
   "cell_type": "code",
   "execution_count": 61,
   "id": "b7963883-7683-4fda-9fed-f84c8a637158",
   "metadata": {},
   "outputs": [],
   "source": [
    "from sklearn.discriminant_analysis import LinearDiscriminantAnalysis as LDA"
   ]
  },
  {
   "cell_type": "code",
   "execution_count": 62,
   "id": "9d3833f0-4bbf-4379-9ee6-9f2d060cf17a",
   "metadata": {},
   "outputs": [],
   "source": [
    "lda_pipeline = Pipeline([\n",
    "    (\"scaler\", StandardScaler()),\n",
    "    (\"lda\", LDA(n_components=9))\n",
    "])"
   ]
  },
  {
   "cell_type": "code",
   "execution_count": 63,
   "id": "650c49db-55d8-4f4f-afd7-53ea6222047b",
   "metadata": {},
   "outputs": [],
   "source": [
    "df_lda = lda_pipeline.fit_transform(X,y)"
   ]
  },
  {
   "cell_type": "code",
   "execution_count": 64,
   "id": "48435d5e-7f4c-4879-a000-0fb94bbd7677",
   "metadata": {},
   "outputs": [
    {
     "data": {
      "text/plain": [
       "array([[ 2.01463220e+00,  5.62348616e+00, -1.86594028e-01, ...,\n",
       "        -1.09348511e-01, -1.83506669e-01, -9.65495420e-01],\n",
       "       [-2.20967396e-01, -3.59240033e+00,  2.14901657e+00, ...,\n",
       "        -1.23115093e-01, -3.39210556e+00,  1.20766919e+00],\n",
       "       [-2.23485453e+00, -2.70950363e+00,  4.26992781e+00, ...,\n",
       "         2.51256615e+00,  1.08370006e+00, -4.22490736e-03],\n",
       "       ...,\n",
       "       [ 1.04697178e+00, -1.48367733e+00,  3.04170263e+00, ...,\n",
       "         1.54913444e+00,  1.99315402e+00, -2.17737830e+00],\n",
       "       [-4.07872916e-01,  1.99167301e+00, -3.65835518e-01, ...,\n",
       "         9.16595358e-01,  5.26856349e-01,  1.41509141e+00],\n",
       "       [-1.74145011e-01, -8.87174627e-01,  1.37776831e+00, ...,\n",
       "        -5.14965352e-02,  3.18833067e+00, -6.91242304e-01]])"
      ]
     },
     "execution_count": 64,
     "metadata": {},
     "output_type": "execute_result"
    }
   ],
   "source": [
    "df_lda"
   ]
  },
  {
   "cell_type": "code",
   "execution_count": 65,
   "id": "094d334a-bfc5-4e1b-b48c-2aa40cd50bdf",
   "metadata": {},
   "outputs": [],
   "source": [
    "df_lda = pd.DataFrame(df_lda)"
   ]
  },
  {
   "cell_type": "code",
   "execution_count": 66,
   "id": "0a4cbb97-5bc3-4f88-8c04-1397000a5a41",
   "metadata": {},
   "outputs": [
    {
     "data": {
      "text/plain": [
       "(1797, 9)"
      ]
     },
     "execution_count": 66,
     "metadata": {},
     "output_type": "execute_result"
    }
   ],
   "source": [
    "df_lda.shape"
   ]
  },
  {
   "cell_type": "code",
   "execution_count": 67,
   "id": "5a17bd98-d931-4687-85b4-0921d2fbb27c",
   "metadata": {},
   "outputs": [
    {
     "data": {
      "text/html": [
       "<div>\n",
       "<style scoped>\n",
       "    .dataframe tbody tr th:only-of-type {\n",
       "        vertical-align: middle;\n",
       "    }\n",
       "\n",
       "    .dataframe tbody tr th {\n",
       "        vertical-align: top;\n",
       "    }\n",
       "\n",
       "    .dataframe thead th {\n",
       "        text-align: right;\n",
       "    }\n",
       "</style>\n",
       "<table border=\"1\" class=\"dataframe\">\n",
       "  <thead>\n",
       "    <tr style=\"text-align: right;\">\n",
       "      <th></th>\n",
       "      <th>0</th>\n",
       "      <th>1</th>\n",
       "      <th>2</th>\n",
       "      <th>3</th>\n",
       "      <th>4</th>\n",
       "      <th>5</th>\n",
       "      <th>6</th>\n",
       "      <th>7</th>\n",
       "      <th>8</th>\n",
       "    </tr>\n",
       "  </thead>\n",
       "  <tbody>\n",
       "    <tr>\n",
       "      <th>0</th>\n",
       "      <td>2.014632</td>\n",
       "      <td>5.623486</td>\n",
       "      <td>-0.186594</td>\n",
       "      <td>-2.800109</td>\n",
       "      <td>0.443373</td>\n",
       "      <td>0.579755</td>\n",
       "      <td>-0.109349</td>\n",
       "      <td>-0.183507</td>\n",
       "      <td>-0.965495</td>\n",
       "    </tr>\n",
       "    <tr>\n",
       "      <th>1</th>\n",
       "      <td>-0.220967</td>\n",
       "      <td>-3.592400</td>\n",
       "      <td>2.149017</td>\n",
       "      <td>-0.114046</td>\n",
       "      <td>-2.054971</td>\n",
       "      <td>-2.222544</td>\n",
       "      <td>-0.123115</td>\n",
       "      <td>-3.392106</td>\n",
       "      <td>1.207669</td>\n",
       "    </tr>\n",
       "    <tr>\n",
       "      <th>2</th>\n",
       "      <td>-2.234855</td>\n",
       "      <td>-2.709504</td>\n",
       "      <td>4.269928</td>\n",
       "      <td>-2.147419</td>\n",
       "      <td>1.737674</td>\n",
       "      <td>-1.281434</td>\n",
       "      <td>2.512566</td>\n",
       "      <td>1.083700</td>\n",
       "      <td>-0.004225</td>\n",
       "    </tr>\n",
       "    <tr>\n",
       "      <th>3</th>\n",
       "      <td>-2.760965</td>\n",
       "      <td>0.624427</td>\n",
       "      <td>0.158751</td>\n",
       "      <td>1.247578</td>\n",
       "      <td>-0.066359</td>\n",
       "      <td>0.805282</td>\n",
       "      <td>-2.963266</td>\n",
       "      <td>-1.575261</td>\n",
       "      <td>-0.020835</td>\n",
       "    </tr>\n",
       "    <tr>\n",
       "      <th>4</th>\n",
       "      <td>5.845449</td>\n",
       "      <td>-1.754015</td>\n",
       "      <td>0.400295</td>\n",
       "      <td>-1.376300</td>\n",
       "      <td>-0.312251</td>\n",
       "      <td>-0.461142</td>\n",
       "      <td>-1.367118</td>\n",
       "      <td>0.665557</td>\n",
       "      <td>-0.132020</td>\n",
       "    </tr>\n",
       "  </tbody>\n",
       "</table>\n",
       "</div>"
      ],
      "text/plain": [
       "          0         1         2         3         4         5         6  \\\n",
       "0  2.014632  5.623486 -0.186594 -2.800109  0.443373  0.579755 -0.109349   \n",
       "1 -0.220967 -3.592400  2.149017 -0.114046 -2.054971 -2.222544 -0.123115   \n",
       "2 -2.234855 -2.709504  4.269928 -2.147419  1.737674 -1.281434  2.512566   \n",
       "3 -2.760965  0.624427  0.158751  1.247578 -0.066359  0.805282 -2.963266   \n",
       "4  5.845449 -1.754015  0.400295 -1.376300 -0.312251 -0.461142 -1.367118   \n",
       "\n",
       "          7         8  \n",
       "0 -0.183507 -0.965495  \n",
       "1 -3.392106  1.207669  \n",
       "2  1.083700 -0.004225  \n",
       "3 -1.575261 -0.020835  \n",
       "4  0.665557 -0.132020  "
      ]
     },
     "execution_count": 67,
     "metadata": {},
     "output_type": "execute_result"
    }
   ],
   "source": [
    "df_lda.head()"
   ]
  },
  {
   "cell_type": "code",
   "execution_count": 68,
   "id": "efe385ed-dd79-4997-8ecd-033da9ffad56",
   "metadata": {},
   "outputs": [],
   "source": [
    "X_lda = df_lda"
   ]
  },
  {
   "cell_type": "code",
   "execution_count": 69,
   "id": "f3f2d58c-6a05-4ae5-97a9-67a2be875c6c",
   "metadata": {},
   "outputs": [],
   "source": [
    "X_train, X_test, y_train, y_test = train_test_split(X_lda, y, test_size=0.3, random_state=42)"
   ]
  },
  {
   "cell_type": "code",
   "execution_count": 70,
   "id": "3b8ae53a-f5f9-4399-9c13-a607dbf7056a",
   "metadata": {},
   "outputs": [
    {
     "name": "stdout",
     "output_type": "stream",
     "text": [
      "(1257, 9)\n",
      "(540, 9)\n"
     ]
    }
   ],
   "source": [
    "print(X_train.shape)\n",
    "print(X_test.shape)"
   ]
  },
  {
   "cell_type": "code",
   "execution_count": 71,
   "id": "5b752e45-9db5-4034-9230-e263e3f3bff8",
   "metadata": {},
   "outputs": [],
   "source": [
    "from sklearn.tree import DecisionTreeClassifier"
   ]
  },
  {
   "cell_type": "code",
   "execution_count": 72,
   "id": "9fd30d2a-e00d-4956-a307-106461cae67c",
   "metadata": {},
   "outputs": [
    {
     "name": "stdout",
     "output_type": "stream",
     "text": [
      "cross validation score: [0.87698413 0.87698413 0.87250996 0.87649402 0.90836653]\n",
      "cross validation mean: 0.8822677543793083\n",
      "Classification reprort\n",
      "              precision    recall  f1-score   support\n",
      "\n",
      "           0       0.93      0.94      0.93        53\n",
      "           1       0.86      0.76      0.81        50\n",
      "           2       0.93      0.89      0.91        47\n",
      "           3       0.85      0.85      0.85        54\n",
      "           4       0.95      0.98      0.97        60\n",
      "           5       0.94      0.97      0.96        66\n",
      "           6       0.95      0.98      0.96        53\n",
      "           7       0.96      0.98      0.97        55\n",
      "           8       0.77      0.95      0.85        43\n",
      "           9       0.96      0.80      0.87        59\n",
      "\n",
      "    accuracy                           0.91       540\n",
      "   macro avg       0.91      0.91      0.91       540\n",
      "weighted avg       0.92      0.91      0.91       540\n",
      "\n"
     ]
    }
   ],
   "source": [
    "dt_pipeline = Pipeline([\n",
    "    (\"scaler\", StandardScaler()),\n",
    "    (\"lda\", LDA(n_components=9)),\n",
    "    (\"dt\", DecisionTreeClassifier(random_state=42))\n",
    "])\n",
    "\n",
    "dt_cross = cross_val_score(dt_pipeline, X_train, y_train, cv=5)\n",
    "print(f\"cross validation score: {dt_cross}\")\n",
    "print(f\"cross validation mean: {np.mean(dt_cross)}\")\n",
    "\n",
    "dt_pipeline.fit(X_train, y_train)\n",
    "dt_predict = dt_pipeline.predict(X_test)\n",
    "print(\"Classification reprort\")\n",
    "print(classification_report(y_test, dt_predict))"
   ]
  },
  {
   "cell_type": "code",
   "execution_count": 73,
   "id": "05055b4f-8a59-4697-94cf-93076375e483",
   "metadata": {},
   "outputs": [],
   "source": [
    "from sklearn.ensemble import RandomForestClassifier"
   ]
  },
  {
   "cell_type": "code",
   "execution_count": 74,
   "id": "98796710-727a-4767-8675-f52b83c02452",
   "metadata": {},
   "outputs": [
    {
     "name": "stdout",
     "output_type": "stream",
     "text": [
      "Cross Validation Score: [0.96825397 0.94444444 0.94422311 0.96414343 0.94820717]\n",
      "Corss Validation mean: 0.9538544235755392\n",
      "Classification Report\n",
      "              precision    recall  f1-score   support\n",
      "\n",
      "           0       1.00      1.00      1.00        53\n",
      "           1       0.98      0.92      0.95        50\n",
      "           2       0.98      0.98      0.98        47\n",
      "           3       0.96      0.94      0.95        54\n",
      "           4       0.97      1.00      0.98        60\n",
      "           5       0.96      0.98      0.97        66\n",
      "           6       1.00      0.98      0.99        53\n",
      "           7       1.00      0.98      0.99        55\n",
      "           8       0.84      0.95      0.89        43\n",
      "           9       0.96      0.90      0.93        59\n",
      "\n",
      "    accuracy                           0.96       540\n",
      "   macro avg       0.96      0.96      0.96       540\n",
      "weighted avg       0.97      0.96      0.97       540\n",
      "\n"
     ]
    }
   ],
   "source": [
    "rf_pipeline = Pipeline([\n",
    "    (\"scaler\", StandardScaler()),\n",
    "    (\"lda\", LDA(n_components=9)),\n",
    "    (\"rf\", RandomForestClassifier(random_state=42))\n",
    "])\n",
    "\n",
    "rf_cross = cross_val_score(rf_pipeline, X_train, y_train, cv=5)\n",
    "print(f\"Cross Validation Score: {rf_cross}\")\n",
    "print(f\"Corss Validation mean: {np.mean(rf_cross)}\")\n",
    "\n",
    "rf_pipeline.fit(X_train,y_train)\n",
    "rf_predict = rf_pipeline.predict(X_test)\n",
    "print(\"Classification Report\")\n",
    "print(classification_report(y_test, rf_predict))"
   ]
  },
  {
   "cell_type": "markdown",
   "id": "c90b4227-3a9b-4c29-bd7f-87fb0af433de",
   "metadata": {},
   "source": [
    "**Decision Tree Model performance is at 91% while the Random Forest Model performs at 91% on the dimensionality-reduced data via LDA**"
   ]
  },
  {
   "cell_type": "markdown",
   "id": "2cbd7516-10de-4035-a5b4-bc8640a89ee4",
   "metadata": {},
   "source": [
    "## Assignment quiz"
   ]
  },
  {
   "cell_type": "markdown",
   "id": "fe0eacd5-b833-4a8a-ac0a-9d7c05500080",
   "metadata": {},
   "source": [
    "**1) PCA is ________?** \n",
    "\n",
    "**A. None of the above**\n",
    "\n",
    "**B. Semisupervised**\n",
    "\n",
    "**C. Unsupervised**\n",
    "\n",
    "**D. Supervised**"
   ]
  },
  {
   "cell_type": "markdown",
   "id": "2231c8a7-0b87-4b21-965b-e0d13f15c774",
   "metadata": {},
   "source": [
    "**Answer is C.Unsupervised**"
   ]
  },
  {
   "cell_type": "markdown",
   "id": "6aa46fc0-fde5-4727-b8f6-751a180287cd",
   "metadata": {},
   "source": [
    "**2) Why is PCA needed in the Data Science field?**\n",
    "\n",
    "**A. Data Manipulation**\n",
    "\n",
    "**B. Data Visualization**\n",
    "\n",
    "**C. In Dimensionality Reduction**\n",
    "\n",
    "**D. All of the above**"
   ]
  },
  {
   "cell_type": "markdown",
   "id": "23fd40e8-31a0-43b0-8ce0-3158d9b38345",
   "metadata": {},
   "source": [
    "**Answer is C**"
   ]
  },
  {
   "cell_type": "markdown",
   "id": "64bd691d-b0b2-4d0a-8ec5-d5f8a698da23",
   "metadata": {},
   "source": [
    "**3) Extract only features and scale the data using StandardScaler() , compute min covariance?**\n",
    "\n",
    "**A. -1, B.-0.57, C. 0.1, D. None of the above**"
   ]
  },
  {
   "cell_type": "code",
   "execution_count": 82,
   "id": "0b0d820a-3f81-49ae-b769-7afe0269ac22",
   "metadata": {},
   "outputs": [],
   "source": [
    "X = df\n",
    "y = dataset.target"
   ]
  },
  {
   "cell_type": "code",
   "execution_count": 83,
   "id": "0d5a7cab-0495-4df8-93f9-c4ab1c28008e",
   "metadata": {},
   "outputs": [
    {
     "data": {
      "text/html": [
       "<div>\n",
       "<style scoped>\n",
       "    .dataframe tbody tr th:only-of-type {\n",
       "        vertical-align: middle;\n",
       "    }\n",
       "\n",
       "    .dataframe tbody tr th {\n",
       "        vertical-align: top;\n",
       "    }\n",
       "\n",
       "    .dataframe thead th {\n",
       "        text-align: right;\n",
       "    }\n",
       "</style>\n",
       "<table border=\"1\" class=\"dataframe\">\n",
       "  <thead>\n",
       "    <tr style=\"text-align: right;\">\n",
       "      <th></th>\n",
       "      <th>pixel_0_0</th>\n",
       "      <th>pixel_0_1</th>\n",
       "      <th>pixel_0_2</th>\n",
       "      <th>pixel_0_3</th>\n",
       "      <th>pixel_0_4</th>\n",
       "      <th>pixel_0_5</th>\n",
       "      <th>pixel_0_6</th>\n",
       "      <th>pixel_0_7</th>\n",
       "      <th>pixel_1_0</th>\n",
       "      <th>pixel_1_1</th>\n",
       "      <th>...</th>\n",
       "      <th>pixel_6_6</th>\n",
       "      <th>pixel_6_7</th>\n",
       "      <th>pixel_7_0</th>\n",
       "      <th>pixel_7_1</th>\n",
       "      <th>pixel_7_2</th>\n",
       "      <th>pixel_7_3</th>\n",
       "      <th>pixel_7_4</th>\n",
       "      <th>pixel_7_5</th>\n",
       "      <th>pixel_7_6</th>\n",
       "      <th>pixel_7_7</th>\n",
       "    </tr>\n",
       "  </thead>\n",
       "  <tbody>\n",
       "    <tr>\n",
       "      <th>0</th>\n",
       "      <td>0.0</td>\n",
       "      <td>0.0</td>\n",
       "      <td>5.0</td>\n",
       "      <td>13.0</td>\n",
       "      <td>9.0</td>\n",
       "      <td>1.0</td>\n",
       "      <td>0.0</td>\n",
       "      <td>0.0</td>\n",
       "      <td>0.0</td>\n",
       "      <td>0.0</td>\n",
       "      <td>...</td>\n",
       "      <td>0.0</td>\n",
       "      <td>0.0</td>\n",
       "      <td>0.0</td>\n",
       "      <td>0.0</td>\n",
       "      <td>6.0</td>\n",
       "      <td>13.0</td>\n",
       "      <td>10.0</td>\n",
       "      <td>0.0</td>\n",
       "      <td>0.0</td>\n",
       "      <td>0.0</td>\n",
       "    </tr>\n",
       "    <tr>\n",
       "      <th>1</th>\n",
       "      <td>0.0</td>\n",
       "      <td>0.0</td>\n",
       "      <td>0.0</td>\n",
       "      <td>12.0</td>\n",
       "      <td>13.0</td>\n",
       "      <td>5.0</td>\n",
       "      <td>0.0</td>\n",
       "      <td>0.0</td>\n",
       "      <td>0.0</td>\n",
       "      <td>0.0</td>\n",
       "      <td>...</td>\n",
       "      <td>0.0</td>\n",
       "      <td>0.0</td>\n",
       "      <td>0.0</td>\n",
       "      <td>0.0</td>\n",
       "      <td>0.0</td>\n",
       "      <td>11.0</td>\n",
       "      <td>16.0</td>\n",
       "      <td>10.0</td>\n",
       "      <td>0.0</td>\n",
       "      <td>0.0</td>\n",
       "    </tr>\n",
       "    <tr>\n",
       "      <th>2</th>\n",
       "      <td>0.0</td>\n",
       "      <td>0.0</td>\n",
       "      <td>0.0</td>\n",
       "      <td>4.0</td>\n",
       "      <td>15.0</td>\n",
       "      <td>12.0</td>\n",
       "      <td>0.0</td>\n",
       "      <td>0.0</td>\n",
       "      <td>0.0</td>\n",
       "      <td>0.0</td>\n",
       "      <td>...</td>\n",
       "      <td>5.0</td>\n",
       "      <td>0.0</td>\n",
       "      <td>0.0</td>\n",
       "      <td>0.0</td>\n",
       "      <td>0.0</td>\n",
       "      <td>3.0</td>\n",
       "      <td>11.0</td>\n",
       "      <td>16.0</td>\n",
       "      <td>9.0</td>\n",
       "      <td>0.0</td>\n",
       "    </tr>\n",
       "    <tr>\n",
       "      <th>3</th>\n",
       "      <td>0.0</td>\n",
       "      <td>0.0</td>\n",
       "      <td>7.0</td>\n",
       "      <td>15.0</td>\n",
       "      <td>13.0</td>\n",
       "      <td>1.0</td>\n",
       "      <td>0.0</td>\n",
       "      <td>0.0</td>\n",
       "      <td>0.0</td>\n",
       "      <td>8.0</td>\n",
       "      <td>...</td>\n",
       "      <td>9.0</td>\n",
       "      <td>0.0</td>\n",
       "      <td>0.0</td>\n",
       "      <td>0.0</td>\n",
       "      <td>7.0</td>\n",
       "      <td>13.0</td>\n",
       "      <td>13.0</td>\n",
       "      <td>9.0</td>\n",
       "      <td>0.0</td>\n",
       "      <td>0.0</td>\n",
       "    </tr>\n",
       "    <tr>\n",
       "      <th>4</th>\n",
       "      <td>0.0</td>\n",
       "      <td>0.0</td>\n",
       "      <td>0.0</td>\n",
       "      <td>1.0</td>\n",
       "      <td>11.0</td>\n",
       "      <td>0.0</td>\n",
       "      <td>0.0</td>\n",
       "      <td>0.0</td>\n",
       "      <td>0.0</td>\n",
       "      <td>0.0</td>\n",
       "      <td>...</td>\n",
       "      <td>0.0</td>\n",
       "      <td>0.0</td>\n",
       "      <td>0.0</td>\n",
       "      <td>0.0</td>\n",
       "      <td>0.0</td>\n",
       "      <td>2.0</td>\n",
       "      <td>16.0</td>\n",
       "      <td>4.0</td>\n",
       "      <td>0.0</td>\n",
       "      <td>0.0</td>\n",
       "    </tr>\n",
       "  </tbody>\n",
       "</table>\n",
       "<p>5 rows × 64 columns</p>\n",
       "</div>"
      ],
      "text/plain": [
       "   pixel_0_0  pixel_0_1  pixel_0_2  pixel_0_3  pixel_0_4  pixel_0_5  \\\n",
       "0        0.0        0.0        5.0       13.0        9.0        1.0   \n",
       "1        0.0        0.0        0.0       12.0       13.0        5.0   \n",
       "2        0.0        0.0        0.0        4.0       15.0       12.0   \n",
       "3        0.0        0.0        7.0       15.0       13.0        1.0   \n",
       "4        0.0        0.0        0.0        1.0       11.0        0.0   \n",
       "\n",
       "   pixel_0_6  pixel_0_7  pixel_1_0  pixel_1_1  ...  pixel_6_6  pixel_6_7  \\\n",
       "0        0.0        0.0        0.0        0.0  ...        0.0        0.0   \n",
       "1        0.0        0.0        0.0        0.0  ...        0.0        0.0   \n",
       "2        0.0        0.0        0.0        0.0  ...        5.0        0.0   \n",
       "3        0.0        0.0        0.0        8.0  ...        9.0        0.0   \n",
       "4        0.0        0.0        0.0        0.0  ...        0.0        0.0   \n",
       "\n",
       "   pixel_7_0  pixel_7_1  pixel_7_2  pixel_7_3  pixel_7_4  pixel_7_5  \\\n",
       "0        0.0        0.0        6.0       13.0       10.0        0.0   \n",
       "1        0.0        0.0        0.0       11.0       16.0       10.0   \n",
       "2        0.0        0.0        0.0        3.0       11.0       16.0   \n",
       "3        0.0        0.0        7.0       13.0       13.0        9.0   \n",
       "4        0.0        0.0        0.0        2.0       16.0        4.0   \n",
       "\n",
       "   pixel_7_6  pixel_7_7  \n",
       "0        0.0        0.0  \n",
       "1        0.0        0.0  \n",
       "2        9.0        0.0  \n",
       "3        0.0        0.0  \n",
       "4        0.0        0.0  \n",
       "\n",
       "[5 rows x 64 columns]"
      ]
     },
     "execution_count": 83,
     "metadata": {},
     "output_type": "execute_result"
    }
   ],
   "source": [
    "X.head()"
   ]
  },
  {
   "cell_type": "code",
   "execution_count": 84,
   "id": "7a470de1-b918-448f-b95e-1fd01a93d590",
   "metadata": {},
   "outputs": [],
   "source": [
    "scaler = StandardScaler()"
   ]
  },
  {
   "cell_type": "code",
   "execution_count": 85,
   "id": "9e13b6b0-2533-486c-ae54-4cfd22fb190d",
   "metadata": {},
   "outputs": [],
   "source": [
    "scaled_X = scaler.fit_transform(X)"
   ]
  },
  {
   "cell_type": "code",
   "execution_count": 86,
   "id": "ea8309a9-b038-4667-83fe-7362fa2a252c",
   "metadata": {},
   "outputs": [
    {
     "data": {
      "text/plain": [
       "array([[ 0.        , -0.33501649, -0.04308102, ..., -1.14664746,\n",
       "        -0.5056698 , -0.19600752],\n",
       "       [ 0.        , -0.33501649, -1.09493684, ...,  0.54856067,\n",
       "        -0.5056698 , -0.19600752],\n",
       "       [ 0.        , -0.33501649, -1.09493684, ...,  1.56568555,\n",
       "         1.6951369 , -0.19600752],\n",
       "       ...,\n",
       "       [ 0.        , -0.33501649, -0.88456568, ..., -0.12952258,\n",
       "        -0.5056698 , -0.19600752],\n",
       "       [ 0.        , -0.33501649, -0.67419451, ...,  0.8876023 ,\n",
       "        -0.5056698 , -0.19600752],\n",
       "       [ 0.        , -0.33501649,  1.00877481, ...,  0.8876023 ,\n",
       "        -0.26113572, -0.19600752]])"
      ]
     },
     "execution_count": 86,
     "metadata": {},
     "output_type": "execute_result"
    }
   ],
   "source": [
    "scaled_X"
   ]
  },
  {
   "cell_type": "code",
   "execution_count": 87,
   "id": "039d0226-de6d-402c-8d3b-b0a1785a184c",
   "metadata": {},
   "outputs": [],
   "source": [
    "scaled_X = pd.DataFrame(scaled_X)"
   ]
  },
  {
   "cell_type": "code",
   "execution_count": 88,
   "id": "d1edce10-678f-48ae-bc01-a394a46967b7",
   "metadata": {},
   "outputs": [],
   "source": [
    "cov_matrix = scaled_X.cov()"
   ]
  },
  {
   "cell_type": "code",
   "execution_count": 89,
   "id": "fdd358fb-e50c-4007-b40c-c40ca974ec22",
   "metadata": {},
   "outputs": [
    {
     "data": {
      "text/html": [
       "<div>\n",
       "<style scoped>\n",
       "    .dataframe tbody tr th:only-of-type {\n",
       "        vertical-align: middle;\n",
       "    }\n",
       "\n",
       "    .dataframe tbody tr th {\n",
       "        vertical-align: top;\n",
       "    }\n",
       "\n",
       "    .dataframe thead th {\n",
       "        text-align: right;\n",
       "    }\n",
       "</style>\n",
       "<table border=\"1\" class=\"dataframe\">\n",
       "  <thead>\n",
       "    <tr style=\"text-align: right;\">\n",
       "      <th></th>\n",
       "      <th>0</th>\n",
       "      <th>1</th>\n",
       "      <th>2</th>\n",
       "      <th>3</th>\n",
       "      <th>4</th>\n",
       "      <th>5</th>\n",
       "      <th>6</th>\n",
       "      <th>7</th>\n",
       "      <th>8</th>\n",
       "      <th>9</th>\n",
       "      <th>...</th>\n",
       "      <th>54</th>\n",
       "      <th>55</th>\n",
       "      <th>56</th>\n",
       "      <th>57</th>\n",
       "      <th>58</th>\n",
       "      <th>59</th>\n",
       "      <th>60</th>\n",
       "      <th>61</th>\n",
       "      <th>62</th>\n",
       "      <th>63</th>\n",
       "    </tr>\n",
       "  </thead>\n",
       "  <tbody>\n",
       "    <tr>\n",
       "      <th>0</th>\n",
       "      <td>0.0</td>\n",
       "      <td>0.000000</td>\n",
       "      <td>0.000000</td>\n",
       "      <td>0.000000</td>\n",
       "      <td>0.000000</td>\n",
       "      <td>0.000000</td>\n",
       "      <td>0.000000</td>\n",
       "      <td>0.000000</td>\n",
       "      <td>0.000000</td>\n",
       "      <td>0.000000</td>\n",
       "      <td>...</td>\n",
       "      <td>0.000000</td>\n",
       "      <td>0.000000</td>\n",
       "      <td>0.000000</td>\n",
       "      <td>0.000000</td>\n",
       "      <td>0.000000</td>\n",
       "      <td>0.000000</td>\n",
       "      <td>0.000000</td>\n",
       "      <td>0.000000</td>\n",
       "      <td>0.000000</td>\n",
       "      <td>0.000000</td>\n",
       "    </tr>\n",
       "    <tr>\n",
       "      <th>1</th>\n",
       "      <td>0.0</td>\n",
       "      <td>1.000557</td>\n",
       "      <td>0.556928</td>\n",
       "      <td>0.207929</td>\n",
       "      <td>-0.018771</td>\n",
       "      <td>0.060810</td>\n",
       "      <td>0.048415</td>\n",
       "      <td>-0.038948</td>\n",
       "      <td>0.032338</td>\n",
       "      <td>0.556682</td>\n",
       "      <td>...</td>\n",
       "      <td>0.030970</td>\n",
       "      <td>-0.045368</td>\n",
       "      <td>-0.007910</td>\n",
       "      <td>0.856086</td>\n",
       "      <td>0.556036</td>\n",
       "      <td>0.147728</td>\n",
       "      <td>-0.102406</td>\n",
       "      <td>-0.029887</td>\n",
       "      <td>0.026562</td>\n",
       "      <td>-0.043913</td>\n",
       "    </tr>\n",
       "    <tr>\n",
       "      <th>2</th>\n",
       "      <td>0.0</td>\n",
       "      <td>0.556928</td>\n",
       "      <td>1.000557</td>\n",
       "      <td>0.560492</td>\n",
       "      <td>-0.084282</td>\n",
       "      <td>0.043593</td>\n",
       "      <td>0.002842</td>\n",
       "      <td>-0.062313</td>\n",
       "      <td>0.022324</td>\n",
       "      <td>0.582583</td>\n",
       "      <td>...</td>\n",
       "      <td>0.050877</td>\n",
       "      <td>-0.003806</td>\n",
       "      <td>-0.025851</td>\n",
       "      <td>0.515563</td>\n",
       "      <td>0.938145</td>\n",
       "      <td>0.500118</td>\n",
       "      <td>-0.134829</td>\n",
       "      <td>-0.041206</td>\n",
       "      <td>0.072639</td>\n",
       "      <td>0.082569</td>\n",
       "    </tr>\n",
       "    <tr>\n",
       "      <th>3</th>\n",
       "      <td>0.0</td>\n",
       "      <td>0.207929</td>\n",
       "      <td>0.560492</td>\n",
       "      <td>1.000557</td>\n",
       "      <td>0.023952</td>\n",
       "      <td>-0.171473</td>\n",
       "      <td>-0.115796</td>\n",
       "      <td>-0.040162</td>\n",
       "      <td>0.035683</td>\n",
       "      <td>0.328527</td>\n",
       "      <td>...</td>\n",
       "      <td>0.139475</td>\n",
       "      <td>0.075376</td>\n",
       "      <td>-0.049112</td>\n",
       "      <td>0.175902</td>\n",
       "      <td>0.560638</td>\n",
       "      <td>0.768373</td>\n",
       "      <td>-0.065993</td>\n",
       "      <td>-0.054966</td>\n",
       "      <td>0.053467</td>\n",
       "      <td>0.082016</td>\n",
       "    </tr>\n",
       "    <tr>\n",
       "      <th>4</th>\n",
       "      <td>0.0</td>\n",
       "      <td>-0.018771</td>\n",
       "      <td>-0.084282</td>\n",
       "      <td>0.023952</td>\n",
       "      <td>1.000557</td>\n",
       "      <td>0.508014</td>\n",
       "      <td>0.127835</td>\n",
       "      <td>0.010070</td>\n",
       "      <td>0.042089</td>\n",
       "      <td>0.051686</td>\n",
       "      <td>...</td>\n",
       "      <td>-0.265116</td>\n",
       "      <td>-0.212339</td>\n",
       "      <td>0.017362</td>\n",
       "      <td>-0.047250</td>\n",
       "      <td>-0.020187</td>\n",
       "      <td>-0.008872</td>\n",
       "      <td>-0.082171</td>\n",
       "      <td>-0.215929</td>\n",
       "      <td>-0.250838</td>\n",
       "      <td>-0.215469</td>\n",
       "    </tr>\n",
       "    <tr>\n",
       "      <th>...</th>\n",
       "      <td>...</td>\n",
       "      <td>...</td>\n",
       "      <td>...</td>\n",
       "      <td>...</td>\n",
       "      <td>...</td>\n",
       "      <td>...</td>\n",
       "      <td>...</td>\n",
       "      <td>...</td>\n",
       "      <td>...</td>\n",
       "      <td>...</td>\n",
       "      <td>...</td>\n",
       "      <td>...</td>\n",
       "      <td>...</td>\n",
       "      <td>...</td>\n",
       "      <td>...</td>\n",
       "      <td>...</td>\n",
       "      <td>...</td>\n",
       "      <td>...</td>\n",
       "      <td>...</td>\n",
       "      <td>...</td>\n",
       "      <td>...</td>\n",
       "    </tr>\n",
       "    <tr>\n",
       "      <th>59</th>\n",
       "      <td>0.0</td>\n",
       "      <td>0.147728</td>\n",
       "      <td>0.500118</td>\n",
       "      <td>0.768373</td>\n",
       "      <td>-0.008872</td>\n",
       "      <td>-0.068076</td>\n",
       "      <td>-0.045871</td>\n",
       "      <td>0.001013</td>\n",
       "      <td>0.043398</td>\n",
       "      <td>0.305361</td>\n",
       "      <td>...</td>\n",
       "      <td>0.094770</td>\n",
       "      <td>0.050060</td>\n",
       "      <td>-0.038269</td>\n",
       "      <td>0.113035</td>\n",
       "      <td>0.481979</td>\n",
       "      <td>1.000557</td>\n",
       "      <td>0.058423</td>\n",
       "      <td>-0.095009</td>\n",
       "      <td>0.006853</td>\n",
       "      <td>0.099727</td>\n",
       "    </tr>\n",
       "    <tr>\n",
       "      <th>60</th>\n",
       "      <td>0.0</td>\n",
       "      <td>-0.102406</td>\n",
       "      <td>-0.134829</td>\n",
       "      <td>-0.065993</td>\n",
       "      <td>-0.082171</td>\n",
       "      <td>-0.351342</td>\n",
       "      <td>-0.383735</td>\n",
       "      <td>-0.178343</td>\n",
       "      <td>0.049024</td>\n",
       "      <td>-0.000604</td>\n",
       "      <td>...</td>\n",
       "      <td>0.394499</td>\n",
       "      <td>0.105160</td>\n",
       "      <td>0.005700</td>\n",
       "      <td>-0.117973</td>\n",
       "      <td>-0.208072</td>\n",
       "      <td>0.058423</td>\n",
       "      <td>1.000557</td>\n",
       "      <td>0.609854</td>\n",
       "      <td>0.243441</td>\n",
       "      <td>0.103073</td>\n",
       "    </tr>\n",
       "    <tr>\n",
       "      <th>61</th>\n",
       "      <td>0.0</td>\n",
       "      <td>-0.029887</td>\n",
       "      <td>-0.041206</td>\n",
       "      <td>-0.054966</td>\n",
       "      <td>-0.215929</td>\n",
       "      <td>-0.268967</td>\n",
       "      <td>-0.304281</td>\n",
       "      <td>-0.141253</td>\n",
       "      <td>0.033428</td>\n",
       "      <td>0.071528</td>\n",
       "      <td>...</td>\n",
       "      <td>0.707913</td>\n",
       "      <td>0.262942</td>\n",
       "      <td>-0.003058</td>\n",
       "      <td>-0.043913</td>\n",
       "      <td>-0.091890</td>\n",
       "      <td>-0.095009</td>\n",
       "      <td>0.609854</td>\n",
       "      <td>1.000557</td>\n",
       "      <td>0.648689</td>\n",
       "      <td>0.262137</td>\n",
       "    </tr>\n",
       "    <tr>\n",
       "      <th>62</th>\n",
       "      <td>0.0</td>\n",
       "      <td>0.026562</td>\n",
       "      <td>0.072639</td>\n",
       "      <td>0.053467</td>\n",
       "      <td>-0.250838</td>\n",
       "      <td>-0.267808</td>\n",
       "      <td>-0.179044</td>\n",
       "      <td>-0.063256</td>\n",
       "      <td>0.020700</td>\n",
       "      <td>0.111631</td>\n",
       "      <td>...</td>\n",
       "      <td>0.602602</td>\n",
       "      <td>0.512011</td>\n",
       "      <td>-0.011939</td>\n",
       "      <td>0.014565</td>\n",
       "      <td>0.035388</td>\n",
       "      <td>0.006853</td>\n",
       "      <td>0.243441</td>\n",
       "      <td>0.648689</td>\n",
       "      <td>1.000557</td>\n",
       "      <td>0.620774</td>\n",
       "    </tr>\n",
       "    <tr>\n",
       "      <th>63</th>\n",
       "      <td>0.0</td>\n",
       "      <td>-0.043913</td>\n",
       "      <td>0.082569</td>\n",
       "      <td>0.082016</td>\n",
       "      <td>-0.215469</td>\n",
       "      <td>-0.167821</td>\n",
       "      <td>-0.080354</td>\n",
       "      <td>-0.024519</td>\n",
       "      <td>-0.005229</td>\n",
       "      <td>-0.001405</td>\n",
       "      <td>...</td>\n",
       "      <td>0.196406</td>\n",
       "      <td>0.564303</td>\n",
       "      <td>-0.004628</td>\n",
       "      <td>-0.047115</td>\n",
       "      <td>0.031210</td>\n",
       "      <td>0.099727</td>\n",
       "      <td>0.103073</td>\n",
       "      <td>0.262137</td>\n",
       "      <td>0.620774</td>\n",
       "      <td>1.000557</td>\n",
       "    </tr>\n",
       "  </tbody>\n",
       "</table>\n",
       "<p>64 rows × 64 columns</p>\n",
       "</div>"
      ],
      "text/plain": [
       "     0         1         2         3         4         5         6         7   \\\n",
       "0   0.0  0.000000  0.000000  0.000000  0.000000  0.000000  0.000000  0.000000   \n",
       "1   0.0  1.000557  0.556928  0.207929 -0.018771  0.060810  0.048415 -0.038948   \n",
       "2   0.0  0.556928  1.000557  0.560492 -0.084282  0.043593  0.002842 -0.062313   \n",
       "3   0.0  0.207929  0.560492  1.000557  0.023952 -0.171473 -0.115796 -0.040162   \n",
       "4   0.0 -0.018771 -0.084282  0.023952  1.000557  0.508014  0.127835  0.010070   \n",
       "..  ...       ...       ...       ...       ...       ...       ...       ...   \n",
       "59  0.0  0.147728  0.500118  0.768373 -0.008872 -0.068076 -0.045871  0.001013   \n",
       "60  0.0 -0.102406 -0.134829 -0.065993 -0.082171 -0.351342 -0.383735 -0.178343   \n",
       "61  0.0 -0.029887 -0.041206 -0.054966 -0.215929 -0.268967 -0.304281 -0.141253   \n",
       "62  0.0  0.026562  0.072639  0.053467 -0.250838 -0.267808 -0.179044 -0.063256   \n",
       "63  0.0 -0.043913  0.082569  0.082016 -0.215469 -0.167821 -0.080354 -0.024519   \n",
       "\n",
       "          8         9   ...        54        55        56        57        58  \\\n",
       "0   0.000000  0.000000  ...  0.000000  0.000000  0.000000  0.000000  0.000000   \n",
       "1   0.032338  0.556682  ...  0.030970 -0.045368 -0.007910  0.856086  0.556036   \n",
       "2   0.022324  0.582583  ...  0.050877 -0.003806 -0.025851  0.515563  0.938145   \n",
       "3   0.035683  0.328527  ...  0.139475  0.075376 -0.049112  0.175902  0.560638   \n",
       "4   0.042089  0.051686  ... -0.265116 -0.212339  0.017362 -0.047250 -0.020187   \n",
       "..       ...       ...  ...       ...       ...       ...       ...       ...   \n",
       "59  0.043398  0.305361  ...  0.094770  0.050060 -0.038269  0.113035  0.481979   \n",
       "60  0.049024 -0.000604  ...  0.394499  0.105160  0.005700 -0.117973 -0.208072   \n",
       "61  0.033428  0.071528  ...  0.707913  0.262942 -0.003058 -0.043913 -0.091890   \n",
       "62  0.020700  0.111631  ...  0.602602  0.512011 -0.011939  0.014565  0.035388   \n",
       "63 -0.005229 -0.001405  ...  0.196406  0.564303 -0.004628 -0.047115  0.031210   \n",
       "\n",
       "          59        60        61        62        63  \n",
       "0   0.000000  0.000000  0.000000  0.000000  0.000000  \n",
       "1   0.147728 -0.102406 -0.029887  0.026562 -0.043913  \n",
       "2   0.500118 -0.134829 -0.041206  0.072639  0.082569  \n",
       "3   0.768373 -0.065993 -0.054966  0.053467  0.082016  \n",
       "4  -0.008872 -0.082171 -0.215929 -0.250838 -0.215469  \n",
       "..       ...       ...       ...       ...       ...  \n",
       "59  1.000557  0.058423 -0.095009  0.006853  0.099727  \n",
       "60  0.058423  1.000557  0.609854  0.243441  0.103073  \n",
       "61 -0.095009  0.609854  1.000557  0.648689  0.262137  \n",
       "62  0.006853  0.243441  0.648689  1.000557  0.620774  \n",
       "63  0.099727  0.103073  0.262137  0.620774  1.000557  \n",
       "\n",
       "[64 rows x 64 columns]"
      ]
     },
     "execution_count": 89,
     "metadata": {},
     "output_type": "execute_result"
    }
   ],
   "source": [
    "cov_matrix"
   ]
  },
  {
   "cell_type": "code",
   "execution_count": 90,
   "id": "d9ccd044-d85c-4392-8e1c-99c0302f78a5",
   "metadata": {},
   "outputs": [],
   "source": [
    "min_cov = cov_matrix.where(~cov_matrix.isna() & (cov_matrix != 0)).min().min()"
   ]
  },
  {
   "cell_type": "code",
   "execution_count": 91,
   "id": "cb9c290a-77cc-4c41-a8bb-fe87b252bb0b",
   "metadata": {},
   "outputs": [
    {
     "data": {
      "text/plain": [
       "-0.57051363323811"
      ]
     },
     "execution_count": 91,
     "metadata": {},
     "output_type": "execute_result"
    }
   ],
   "source": [
    "min_cov"
   ]
  },
  {
   "cell_type": "markdown",
   "id": "aa8d260a-5c86-4ed1-8813-290c13e1a915",
   "metadata": {},
   "source": [
    "**Answer is B. -0.57**"
   ]
  },
  {
   "cell_type": "markdown",
   "id": "64657876-adb3-4bdb-9f3d-04abd37e4d0d",
   "metadata": {},
   "source": [
    "**4) Extract only features and scale the data using StandardScaler() , how many eigen_values will be calculated?**\n",
    "\n",
    "**A.64, B.1797, C.1, D.0**"
   ]
  },
  {
   "cell_type": "markdown",
   "id": "9310c4ab-913f-4ea7-9802-e4d8109e4e08",
   "metadata": {},
   "source": [
    "**Answer is A.64**"
   ]
  },
  {
   "cell_type": "markdown",
   "id": "a21ce1d9-66e6-45cf-bd2e-595566a051c8",
   "metadata": {},
   "source": [
    "**5) from the above eigenvalues and eigenvectors, create eigenpair and calculate maximum cumulative explained variance?\r\n",
    "69\r\n",
    "100\r\n",
    "80**\r\n",
    "90"
   ]
  },
  {
   "cell_type": "code",
   "execution_count": 96,
   "id": "613b47ff-932c-4caf-9be3-9c6486eff2d8",
   "metadata": {},
   "outputs": [],
   "source": [
    "cov_matrix = np.cov(scaled_X.T)"
   ]
  },
  {
   "cell_type": "code",
   "execution_count": 97,
   "id": "d46949b0-6ad5-4f7c-99c3-4ce2d1f7b2a9",
   "metadata": {},
   "outputs": [
    {
     "data": {
      "text/plain": [
       "array([[ 0.        ,  0.        ,  0.        , ...,  0.        ,\n",
       "         0.        ,  0.        ],\n",
       "       [ 0.        ,  1.00055679,  0.55692803, ..., -0.02988686,\n",
       "         0.02656195, -0.04391324],\n",
       "       [ 0.        ,  0.55692803,  1.00055679, ..., -0.04120565,\n",
       "         0.07263924,  0.08256908],\n",
       "       ...,\n",
       "       [ 0.        , -0.02988686, -0.04120565, ...,  1.00055679,\n",
       "         0.64868875,  0.26213704],\n",
       "       [ 0.        ,  0.02656195,  0.07263924, ...,  0.64868875,\n",
       "         1.00055679,  0.62077355],\n",
       "       [ 0.        , -0.04391324,  0.08256908, ...,  0.26213704,\n",
       "         0.62077355,  1.00055679]])"
      ]
     },
     "execution_count": 97,
     "metadata": {},
     "output_type": "execute_result"
    }
   ],
   "source": [
    "cov_matrix"
   ]
  },
  {
   "cell_type": "code",
   "execution_count": 98,
   "id": "f95c99a8-0c2f-473c-9017-bc90e2022f6d",
   "metadata": {},
   "outputs": [],
   "source": [
    "eigenvalues, eigenvectors = np.linalg.eig(cov_matrix)"
   ]
  },
  {
   "cell_type": "code",
   "execution_count": 99,
   "id": "3105b25f-6c50-4837-be3c-90f590ba3ba6",
   "metadata": {},
   "outputs": [
    {
     "data": {
      "text/plain": [
       "array([7.34477606, 5.83549054, 5.15396118, 3.96623597, 2.9663452 ,\n",
       "       2.57204442, 2.40600941, 2.06867355, 1.82993314, 1.78951739,\n",
       "       1.69784616, 1.57287889, 1.38870781, 1.35933609, 1.32152536,\n",
       "       1.16829176, 1.08368678, 0.99977862, 0.97438293, 0.90891242,\n",
       "       0.82271926, 0.77631014, 0.71155675, 0.64552365, 0.59527399,\n",
       "       0.5765018 , 0.52673155, 0.5106363 , 0.48686381, 0.45560107,\n",
       "       0.44285155, 0.42230086, 0.3991063 , 0.39110111, 0.36094517,\n",
       "       0.34860306, 0.3195963 , 0.29406627, 0.05037444, 0.27692285,\n",
       "       0.06328961, 0.258273  , 0.24783029, 0.2423566 , 0.07635394,\n",
       "       0.08246812, 0.09018543, 0.09840876, 0.10250434, 0.11188655,\n",
       "       0.11932898, 0.12426371, 0.13321081, 0.14311427, 0.217582  ,\n",
       "       0.15818474, 0.16875236, 0.20799593, 0.17612894, 0.2000909 ,\n",
       "       0.18983516, 0.        , 0.        , 0.        ])"
      ]
     },
     "execution_count": 99,
     "metadata": {},
     "output_type": "execute_result"
    }
   ],
   "source": [
    "eigenvalues"
   ]
  },
  {
   "cell_type": "code",
   "execution_count": 100,
   "id": "2462126a-c859-47a7-af19-2beaa5336059",
   "metadata": {},
   "outputs": [
    {
     "data": {
      "text/plain": [
       "array([[ 0.        ,  0.        ,  0.        , ...,  1.        ,\n",
       "         0.        ,  0.        ],\n",
       "       [ 0.18223392, -0.04702701,  0.02358821, ...,  0.        ,\n",
       "         0.        ,  0.        ],\n",
       "       [ 0.285868  , -0.0595648 , -0.05679875, ...,  0.        ,\n",
       "         0.        ,  0.        ],\n",
       "       ...,\n",
       "       [ 0.103198  ,  0.24261778, -0.02227952, ...,  0.        ,\n",
       "         0.        ,  0.        ],\n",
       "       [ 0.1198106 ,  0.16508926,  0.10036559, ...,  0.        ,\n",
       "         0.        ,  0.        ],\n",
       "       [ 0.07149362,  0.07132924,  0.09244589, ...,  0.        ,\n",
       "         0.        ,  0.        ]])"
      ]
     },
     "execution_count": 100,
     "metadata": {},
     "output_type": "execute_result"
    }
   ],
   "source": [
    "eigenvectors"
   ]
  },
  {
   "cell_type": "code",
   "execution_count": 101,
   "id": "c8a5c3ac-40e2-4a10-8ecb-76e5753bfe82",
   "metadata": {},
   "outputs": [],
   "source": [
    "eigenpairs = [(eigenvalues[i], eigenvectors[:, i]) for i in range(len(eigenvalues))]\n",
    "eigenpairs = sorted(eigenpairs, key=lambda x: x[0], reverse=True)\n",
    "# Here, reverse=True specifies the sorting in desceding order, if rever=False(by default) then sorting will done in ascending order\n",
    "# key = lambda x: x[0], extracts the first element from the eigen pairs which is nothing but the eigenvalue.\n",
    "# This indicates that the sorting has to be done based on eigenvalues"
   ]
  },
  {
   "cell_type": "code",
   "execution_count": 102,
   "id": "70f783b7-2d9a-4f95-8efc-763f316b340a",
   "metadata": {},
   "outputs": [
    {
     "data": {
      "text/plain": [
       "[(7.344776062836358,\n",
       "  array([ 0.        ,  0.18223392,  0.285868  ,  0.22036967, -0.02516956,\n",
       "         -0.00949725, -0.0524765 , -0.06269499,  0.03470727,  0.24553368,\n",
       "          0.22915174, -0.10794381,  0.03620209,  0.03871159, -0.08378077,\n",
       "         -0.09277502,  0.01669934,  0.1367165 , -0.06305075, -0.12287927,\n",
       "          0.14819348, -0.02348425, -0.1711997 , -0.10420837, -0.00394882,\n",
       "         -0.1163897 , -0.18820473,  0.0658604 ,  0.14353257, -0.12820705,\n",
       "         -0.18062075, -0.05270917,  0.        , -0.23890251, -0.23500613,\n",
       "         -0.00509137, -0.01310881, -0.15911618, -0.12939416,  0.        ,\n",
       "         -0.05559906, -0.18715707, -0.15353371, -0.04682572, -0.11089272,\n",
       "         -0.10720947,  0.01792652, -0.00227271, -0.02881729,  0.040868  ,\n",
       "          0.11027068,  0.0318244 , -0.07904945,  0.06832147,  0.12124707,\n",
       "          0.04877119, -0.00183586,  0.16039569,  0.27985301,  0.19444929,\n",
       "          0.01777381,  0.103198  ,  0.1198106 ,  0.07149362])),\n",
       " (5.835490537329512,\n",
       "  array([ 0.        , -0.04702701, -0.0595648 ,  0.02080385, -0.15590316,\n",
       "         -0.27413299, -0.24973251, -0.14583207,  0.00102721, -0.02761909,\n",
       "         -0.01450474,  0.09225537, -0.0572917 , -0.21410852, -0.26653585,\n",
       "         -0.13699943,  0.00733687,  0.02014035,  0.11844133,  0.08408699,\n",
       "         -0.07684584, -0.15949153, -0.14605982, -0.08083712,  0.00388437,\n",
       "          0.06552741,  0.11263765, -0.05368068, -0.16490377, -0.13773838,\n",
       "         -0.056104  , -0.02670685,  0.        ,  0.11768141,  0.10539516,\n",
       "         -0.05889428, -0.11611027,  0.0052107 ,  0.07934642,  0.        ,\n",
       "          0.02367678,  0.10434601,  0.18915365, -0.00912699, -0.14888589,\n",
       "          0.0907634 ,  0.24058321,  0.07869055,  0.01004025,  0.03527397,\n",
       "          0.18560853,  0.03953018, -0.06234747,  0.19312254,  0.25775152,\n",
       "          0.11500205, -0.00488251, -0.04449786, -0.08139985,  0.0099049 ,\n",
       "          0.25193395,  0.24261778,  0.16508926,  0.07132924])),\n",
       " (5.153961176418881,\n",
       "  array([ 0.        ,  0.02358821, -0.05679875, -0.04046383, -0.0670653 ,\n",
       "         -0.09108975, -0.03757846, -0.02254605,  0.00281265, -0.05064228,\n",
       "         -0.17273448,  0.16698284,  0.06918751, -0.17992502, -0.07226111,\n",
       "         -0.03398043,  0.00895356, -0.10661468, -0.1077824 ,  0.21158892,\n",
       "          0.12336922, -0.18571998, -0.14193653, -0.02641466,  0.02014832,\n",
       "         -0.0974731 , -0.04297512,  0.11485461,  0.07874164, -0.19837867,\n",
       "         -0.16243627, -0.01222307,  0.        , -0.02598974,  0.07862189,\n",
       "          0.27748106,  0.24772801, -0.19664918, -0.22064612,  0.        ,\n",
       "          0.0146328 ,  0.00748032,  0.08709141,  0.32314551,  0.26904394,\n",
       "         -0.19777646, -0.18897815,  0.03210332,  0.00402167, -0.01647495,\n",
       "         -0.04516046,  0.21864368,  0.13053433, -0.18788927, -0.0231794 ,\n",
       "          0.10299263,  0.01154743,  0.03389505, -0.05127284, -0.08346395,\n",
       "         -0.06245529, -0.02227952,  0.10036559,  0.09244589])),\n",
       " (3.9662359665873,\n",
       "  array([ 0.00000000e+00, -1.78153081e-01, -1.56128518e-01, -1.67799856e-01,\n",
       "          8.90854645e-06,  5.19194004e-04, -4.36994053e-02, -8.74905151e-03,\n",
       "         -1.44014661e-02, -1.24041647e-01, -1.99084597e-01, -1.17905972e-01,\n",
       "          1.26397599e-01,  1.00845112e-01,  1.67020847e-02,  5.41256694e-03,\n",
       "         -2.48334733e-02, -1.76517873e-01, -2.11392105e-01,  1.03406421e-01,\n",
       "          2.02686359e-01,  1.48298797e-01, -3.55162608e-03,  6.81838656e-03,\n",
       "         -3.52048828e-02, -2.23457118e-01, -1.77551981e-01,  1.19784935e-01,\n",
       "          2.14040792e-01,  1.32278363e-01, -6.89889708e-02, -1.15323817e-02,\n",
       "          0.00000000e+00, -1.90176752e-01, -1.72413876e-01, -4.39423894e-02,\n",
       "          1.07374051e-01,  1.36234082e-01, -1.29714559e-02,  0.00000000e+00,\n",
       "         -2.95212545e-02, -1.22834144e-01, -1.40055228e-01, -1.06113764e-01,\n",
       "         -1.67207793e-02,  1.16517965e-01,  1.00359357e-01,  5.98752865e-02,\n",
       "         -2.21714944e-02, -1.04151022e-01, -1.25660044e-01, -1.33110660e-01,\n",
       "         -5.00854316e-02,  1.48587850e-01,  1.57439915e-01,  1.30346331e-01,\n",
       "         -7.78846257e-03, -1.86417835e-01, -1.65487571e-01, -1.71489501e-01,\n",
       "          1.54437511e-01,  2.52432384e-01,  1.60720252e-01,  1.18180477e-01])),\n",
       " (2.966345195093604,\n",
       "  array([ 0.        , -0.02997819, -0.0146657 ,  0.04371583, -0.13999299,\n",
       "          0.00798836,  0.21122151,  0.28181771, -0.00063072,  0.00678767,\n",
       "          0.05638188,  0.11365564, -0.216943  , -0.15346124,  0.19092777,\n",
       "          0.31673197,  0.02482117,  0.0862221 ,  0.14746653, -0.03848317,\n",
       "         -0.22480212, -0.15564165,  0.15454737,  0.23682833,  0.02062227,\n",
       "          0.06532379,  0.07358127, -0.05987817, -0.10104237, -0.04664451,\n",
       "          0.0005132 ,  0.10220321,  0.        , -0.09076083, -0.04704579,\n",
       "         -0.00085594,  0.03936137, -0.01124294, -0.06447932,  0.        ,\n",
       "         -0.0858749 , -0.19954367, -0.15746961, -0.05688755,  0.02142582,\n",
       "         -0.08265839,  0.04103337,  0.11066068, -0.06164353, -0.18521407,\n",
       "         -0.11952964,  0.04054869, -0.03516654, -0.05110996,  0.1924482 ,\n",
       "          0.24896191, -0.05123841, -0.0391823 , -0.03345385,  0.1003746 ,\n",
       "         -0.00377446,  0.09473785,  0.24402551,  0.23170469])),\n",
       " (2.5720444193206258,\n",
       "  array([ 0.        ,  0.23172252,  0.11987505, -0.10039192, -0.09347064,\n",
       "         -0.08220517,  0.03018984,  0.15787382, -0.02333761,  0.06501397,\n",
       "         -0.10118775, -0.01892191,  0.08075699, -0.11162392,  0.06990157,\n",
       "          0.24396034, -0.06466241, -0.11341689, -0.13098957,  0.13821939,\n",
       "          0.07446799, -0.08398229,  0.16475564,  0.26545485, -0.06990741,\n",
       "         -0.15037175, -0.08991612,  0.06078821, -0.03207706, -0.0209141 ,\n",
       "          0.09096208,  0.28112035,  0.        ,  0.00585103, -0.05112254,\n",
       "         -0.07976053, -0.09865054, -0.02011039, -0.02331539,  0.        ,\n",
       "          0.20682818,  0.16295905,  0.04060211, -0.04586775, -0.0178265 ,\n",
       "          0.0757886 , -0.03088043, -0.02592479,  0.28586329,  0.35908508,\n",
       "          0.14966336, -0.08782453,  0.12190753,  0.11716977, -0.00041137,\n",
       "          0.00401035,  0.12662227,  0.26049712,  0.10975235, -0.08650283,\n",
       "          0.11183171,  0.0577561 ,  0.02895692,  0.01631798])),\n",
       " (2.406009413578219,\n",
       "  array([ 0.        , -0.10830958, -0.00475498,  0.23371731, -0.03953971,\n",
       "         -0.14597888, -0.03635555,  0.09810487, -0.07824766, -0.12426631,\n",
       "          0.03701387,  0.04148463, -0.02049402,  0.08083571,  0.02893611,\n",
       "          0.04695092, -0.10425348, -0.2238632 , -0.1763708 , -0.20431163,\n",
       "         -0.01541965,  0.18199123,  0.0742381 , -0.00665539, -0.10186797,\n",
       "         -0.26219934, -0.27788878, -0.25663139, -0.03112926,  0.12636632,\n",
       "          0.17412172,  0.02251313,  0.        ,  0.00254051,  0.03288662,\n",
       "          0.03354626, -0.00620184,  0.01427471,  0.19049974,  0.        ,\n",
       "          0.01438463,  0.09930409,  0.19678578,  0.16914309, -0.08155176,\n",
       "         -0.20503862,  0.08757676,  0.10996423,  0.03748705,  0.04373935,\n",
       "          0.17476208,  0.25035791, -0.19671792, -0.15590187,  0.08106304,\n",
       "          0.08312013,  0.01619674, -0.09156344,  0.01483696,  0.13531871,\n",
       "         -0.1728476 , -0.0321553 ,  0.0776117 ,  0.02642175])),\n",
       " (2.0686735457465555,\n",
       "  array([ 0.        , -0.12552413, -0.0061782 ,  0.03340818, -0.04616123,\n",
       "         -0.08032861, -0.10675101, -0.08003167,  0.02187168, -0.0241717 ,\n",
       "          0.07947048,  0.13875606,  0.17743802,  0.12614896, -0.04076137,\n",
       "         -0.07472459,  0.06474116,  0.12632392,  0.11024921,  0.02963297,\n",
       "          0.08760263,  0.21113678,  0.07988448, -0.05748946,  0.05478926,\n",
       "          0.13050644, -0.05354597, -0.2211984 , -0.05291808,  0.11906124,\n",
       "          0.08893975,  0.01088283,  0.        ,  0.05029737, -0.17400784,\n",
       "         -0.29293173, -0.11432524, -0.13039038, -0.04812258,  0.        ,\n",
       "          0.07568395,  0.06620379, -0.07998394, -0.05147776,  0.20262126,\n",
       "         -0.01577881, -0.25601314, -0.11702972,  0.08443564,  0.0246768 ,\n",
       "          0.01855563,  0.12985126,  0.36703628,  0.05338996, -0.13089773,\n",
       "          0.17845437,  0.05720768, -0.11013346, -0.04082657,  0.09885232,\n",
       "          0.05506667, -0.03426482,  0.16448431,  0.35096351])),\n",
       " (1.829933143826971,\n",
       "  array([ 0.        , -0.21381974, -0.12013995,  0.10189541,  0.09310198,\n",
       "         -0.06398739, -0.03802144,  0.15818618,  0.1507003 , -0.01730237,\n",
       "          0.11048749,  0.1927349 ,  0.21720906,  0.1121813 ,  0.01935505,\n",
       "          0.19475439,  0.27002612,  0.1001558 ,  0.13540425,  0.10018525,\n",
       "          0.12055422,  0.08317816,  0.0470002 ,  0.17276182,  0.23128087,\n",
       "         -0.0207478 ,  0.02224002,  0.16896626,  0.07479876, -0.06807194,\n",
       "         -0.02766748,  0.19142413,  0.        , -0.15095821, -0.01351721,\n",
       "          0.11769317, -0.09011282, -0.16737577, -0.05879521,  0.        ,\n",
       "         -0.04133086, -0.13231005,  0.11743548,  0.05048154, -0.15269065,\n",
       "         -0.04380652,  0.0394039 , -0.04039024,  0.08531599, -0.01899308,\n",
       "          0.20443056,  0.14770795, -0.04644131,  0.08324542, -0.02658011,\n",
       "         -0.18818421,  0.0340973 , -0.21455088, -0.1153638 ,  0.11597834,\n",
       "          0.15420978,  0.02714097, -0.14424539, -0.21966935])),\n",
       " (1.78951739231968,\n",
       "  array([ 0.        , -0.05983444, -0.00768081,  0.02163891, -0.00506573,\n",
       "          0.16412181,  0.18789248,  0.06533969, -0.20488259, -0.20872244,\n",
       "          0.05750274,  0.1701616 , -0.04383611,  0.14672022,  0.20078681,\n",
       "         -0.01348198, -0.35053776, -0.19829163,  0.17200511,  0.11189881,\n",
       "         -0.12101216,  0.03739084,  0.01816913, -0.16111317, -0.29448355,\n",
       "         -0.1278889 ,  0.03969489,  0.07296139, -0.10008184, -0.13455812,\n",
       "         -0.18533648, -0.1893787 ,  0.        , -0.11430761, -0.02490723,\n",
       "         -0.0340368 , -0.04299391, -0.13173063, -0.19447269,  0.        ,\n",
       "         -0.11250962, -0.02963842,  0.13054262, -0.08080901,  0.01319403,\n",
       "          0.14965748, -0.04588627, -0.04527777, -0.11416804,  0.1007518 ,\n",
       "          0.24148839,  0.06312774,  0.11414957,  0.16913715, -0.03939078,\n",
       "         -0.02679257,  0.02369605, -0.00962967, -0.01337141,  0.1058246 ,\n",
       "          0.10035309,  0.03667518, -0.05717601, -0.02919667])),\n",
       " (1.6978461553340602,\n",
       "  array([ 0.        ,  0.04994085,  0.14754034,  0.15550494, -0.16347214,\n",
       "         -0.27713522, -0.1515697 ,  0.04360364, -0.09520369, -0.00465229,\n",
       "          0.02080367,  0.10464265,  0.18653824, -0.15663607, -0.1332026 ,\n",
       "          0.14338936, -0.15206532, -0.11096576, -0.03041444,  0.15909327,\n",
       "          0.18137051, -0.03753909,  0.0631369 ,  0.1935248 , -0.11495416,\n",
       "         -0.02763549, -0.002106  ,  0.12009989,  0.06821856,  0.09078036,\n",
       "          0.16018987, -0.06827829,  0.        ,  0.07314798,  0.03334328,\n",
       "         -0.00096263, -0.04934779,  0.09151579,  0.12179717,  0.        ,\n",
       "         -0.23174431, -0.06982172, -0.04377461, -0.05735928, -0.00076466,\n",
       "          0.06328589, -0.00697782, -0.01970778, -0.36807527, -0.19799417,\n",
       "         -0.04896633, -0.06128416,  0.18502006,  0.05846174, -0.09554948,\n",
       "         -0.03019303, -0.29541835,  0.00195848,  0.12355356,  0.1212012 ,\n",
       "          0.02518193, -0.16286366, -0.15014352, -0.01465563])),\n",
       " (1.5728788868795172,\n",
       "  array([ 0.        ,  0.2042543 , -0.0445705 , -0.18856789, -0.05917802,\n",
       "          0.02545352,  0.10895463,  0.12204527,  0.15715131,  0.09465963,\n",
       "         -0.1183878 , -0.02076169,  0.11942269,  0.06817632,  0.13779149,\n",
       "          0.0820457 ,  0.26152159,  0.05009648, -0.11796851,  0.02339743,\n",
       "          0.02332398,  0.06922316,  0.10076553, -0.07542733,  0.19801268,\n",
       "         -0.06081015, -0.10098549, -0.17760902, -0.18226266, -0.01171232,\n",
       "          0.04127644, -0.33303909,  0.        ,  0.01062404,  0.00482182,\n",
       "         -0.08303886, -0.17352203, -0.12328795, -0.0285567 ,  0.        ,\n",
       "         -0.22123832,  0.07747523,  0.17053863,  0.07689147, -0.0347346 ,\n",
       "         -0.06646899, -0.02963901, -0.06755714, -0.37957437,  0.00319911,\n",
       "          0.12421574,  0.01165075, -0.01703002,  0.02711206,  0.0418446 ,\n",
       "         -0.04316867, -0.12607264,  0.19067759, -0.04277014, -0.23665522,\n",
       "          0.01669691,  0.13408273,  0.11050894, -0.02999905])),\n",
       " (1.3887078149450467,\n",
       "  array([ 0.00000000e+00,  1.33801309e-01,  3.15740417e-02,  6.42442325e-02,\n",
       "          7.35129210e-02,  1.18467474e-01,  1.80388638e-01,  8.87510798e-03,\n",
       "         -5.01662248e-02, -4.72837773e-02, -2.86204293e-02,  2.58276874e-01,\n",
       "          2.15043481e-01,  1.98133350e-02,  5.29383978e-02, -8.58979595e-02,\n",
       "          1.46980204e-01, -6.09163077e-02,  6.19057211e-02,  2.37345773e-01,\n",
       "          1.24406663e-02, -3.28255970e-02, -8.00381285e-02, -1.91148402e-01,\n",
       "          1.90667848e-01, -4.72207723e-02,  7.17767345e-02,  1.57698137e-01,\n",
       "         -2.77749626e-03,  1.01667995e-01,  2.43696968e-02, -1.08766102e-01,\n",
       "          0.00000000e+00, -7.32596392e-02, -3.94975554e-05, -8.22299239e-02,\n",
       "         -1.39186601e-01,  1.55455957e-01,  2.69155441e-01,  0.00000000e+00,\n",
       "          6.40940411e-03, -6.40963844e-02, -7.73794309e-02, -1.46397682e-02,\n",
       "         -4.06154649e-02,  1.52517131e-02,  1.82295448e-01,  4.56484185e-01,\n",
       "          8.05600452e-02,  6.64632480e-02, -7.81667992e-02,  1.42385844e-01,\n",
       "          1.09489571e-01, -1.60355712e-02,  3.65923791e-02,  2.51226448e-01,\n",
       "          1.44049611e-01,  1.62185084e-01,  3.79257479e-02,  4.27060654e-02,\n",
       "         -1.02389212e-01, -1.14948174e-01, -6.65901611e-02, -1.99646437e-02])),\n",
       " (1.3593360885653958,\n",
       "  array([ 0.        , -0.04148659,  0.03860854,  0.18351258,  0.15898903,\n",
       "          0.03323578,  0.04974808,  0.0853904 ,  0.14112439, -0.01656956,\n",
       "          0.01587103,  0.06046921, -0.07692071, -0.05729802,  0.04830215,\n",
       "          0.05926794,  0.27200328, -0.16566692, -0.17233396, -0.08696792,\n",
       "         -0.09179296, -0.14151926, -0.05263343, -0.02039112,  0.21596266,\n",
       "         -0.11732598, -0.21634525, -0.19365455, -0.05231062, -0.15901817,\n",
       "         -0.19310571, -0.0665138 ,  0.        ,  0.07688904, -0.03588939,\n",
       "         -0.02265456,  0.26689316,  0.23875546, -0.02782833,  0.        ,\n",
       "          0.10780671,  0.16539739,  0.03545796, -0.03553419,  0.13439984,\n",
       "          0.34289134,  0.06420075, -0.07303086, -0.04634322,  0.01952194,\n",
       "         -0.06999733, -0.0102578 ,  0.18173929,  0.14995944,  0.00740551,\n",
       "         -0.02348334, -0.10554631, -0.05487945,  0.04557027,  0.26249409,\n",
       "          0.1159113 , -0.08142293, -0.10289866,  0.01667078])),\n",
       " (1.3215253598609107,\n",
       "  array([ 0.        ,  0.13081802, -0.10030903, -0.04455239,  0.29995718,\n",
       "          0.0929914 ,  0.00285405,  0.07977733,  0.05574272,  0.23956079,\n",
       "         -0.01183302,  0.17043841,  0.31067856,  0.06795622, -0.05040546,\n",
       "          0.1010195 , -0.28386225,  0.23938989, -0.01383192, -0.09027592,\n",
       "          0.05975524, -0.01432867, -0.08933053,  0.08099398, -0.33694102,\n",
       "          0.11567677, -0.06386531, -0.26256408, -0.04991558, -0.04907643,\n",
       "         -0.07085212,  0.07748793,  0.        ,  0.03673759, -0.02345445,\n",
       "         -0.01130144,  0.12121204,  0.09902782,  0.10367856,  0.        ,\n",
       "         -0.01326756, -0.02809021,  0.00445008,  0.14221754,  0.04620904,\n",
       "          0.05487962,  0.15624908,  0.01257119,  0.02614551, -0.16652079,\n",
       "         -0.10367154,  0.21661502,  0.13738108,  0.07612466,  0.15638695,\n",
       "         -0.08223251,  0.03368444,  0.08355817, -0.07762698, -0.08115294,\n",
       "          0.04767421,  0.08699303,  0.0351517 , -0.14106367])),\n",
       " (1.1682917644675224,\n",
       "  array([ 0.        ,  0.08202737,  0.02245479,  0.07424416,  0.29159818,\n",
       "          0.10051451, -0.1291654 , -0.22232746,  0.36604831,  0.10166901,\n",
       "         -0.00088696, -0.0552969 , -0.09512429,  0.17380303,  0.04234211,\n",
       "         -0.09320884,  0.00580514,  0.00125164, -0.070229  , -0.00524309,\n",
       "         -0.142886  ,  0.13504409,  0.20881565,  0.13486346, -0.15446826,\n",
       "         -0.04978686,  0.05549669,  0.16796903, -0.03925676,  0.03446042,\n",
       "          0.16521786,  0.08318719,  0.        ,  0.01699504,  0.17726966,\n",
       "          0.22301801,  0.04855776, -0.12764874, -0.04464661,  0.        ,\n",
       "         -0.01054313, -0.00299488,  0.13011265, -0.01385169,  0.0827219 ,\n",
       "          0.0555077 , -0.08683981,  0.34126543, -0.07335297, -0.01469286,\n",
       "          0.09986291, -0.07704932,  0.07764452,  0.08228272, -0.03249479,\n",
       "          0.25668662, -0.18846377,  0.03088876,  0.01967186,  0.07429124,\n",
       "          0.15182504,  0.04048638,  0.04909152,  0.06982329])),\n",
       " (1.0836867752499033,\n",
       "  array([ 0.        , -0.17182076,  0.0181878 , -0.02453872,  0.04359187,\n",
       "          0.09948138,  0.18725505,  0.22261782,  0.18174638,  0.07308764,\n",
       "          0.0201657 , -0.10484264,  0.07268012, -0.02742297,  0.01742512,\n",
       "          0.0825703 , -0.06556392,  0.0837429 , -0.02807583,  0.06955104,\n",
       "          0.17316286, -0.13571465, -0.14285728, -0.13718815, -0.17959287,\n",
       "          0.0400182 ,  0.04012789,  0.13655138,  0.06555236, -0.13177836,\n",
       "         -0.06259425, -0.03389631,  0.        ,  0.0742273 , -0.04177644,\n",
       "         -0.16489216, -0.18502086, -0.07391372,  0.08303185,  0.        ,\n",
       "          0.38969307,  0.23976634,  0.01888472, -0.01401449, -0.04280442,\n",
       "         -0.08603965,  0.01710465,  0.09323888, -0.0592335 ,  0.04408719,\n",
       "          0.05177684, -0.02418091, -0.07670878, -0.10507892, -0.03891099,\n",
       "          0.08719496, -0.45675224, -0.24845103,  0.0254118 , -0.01329196,\n",
       "         -0.06854911, -0.03405311,  0.0283885 ,  0.05504706])),\n",
       " (0.9997786171449664,\n",
       "  array([ 0.        , -0.06572235,  0.01691111,  0.01032954, -0.32982649,\n",
       "         -0.14835009,  0.06562718,  0.14640789,  0.54684051,  0.11171169,\n",
       "          0.06584388,  0.01376616, -0.09267176, -0.05790697,  0.06093741,\n",
       "          0.05829017,  0.0068335 ,  0.06237866,  0.14667875,  0.02049677,\n",
       "          0.10206013,  0.11436288,  0.01181392, -0.09733633, -0.26369611,\n",
       "          0.00625356,  0.08778034,  0.02922817,  0.21242723,  0.15513745,\n",
       "         -0.07100073, -0.22007341,  0.        ,  0.05848319, -0.02236603,\n",
       "          0.03388347,  0.16055851,  0.15318372,  0.03302759,  0.        ,\n",
       "         -0.08521281,  0.08646217,  0.05080623,  0.06096703,  0.07627317,\n",
       "          0.05607918,  0.00486283,  0.04325986, -0.00326492,  0.10756549,\n",
       "          0.03108711, -0.06241474,  0.00653871, -0.00688451,  0.01151191,\n",
       "         -0.00178828,  0.36621976, -0.01903168,  0.00492799,  0.04054863,\n",
       "         -0.01704667, -0.01927744, -0.04028618, -0.0384781 ])),\n",
       " (0.9743829305689513,\n",
       "  array([ 0.        ,  0.13713827,  0.02055088, -0.02445527, -0.21541803,\n",
       "         -0.05524351,  0.05008752, -0.04373628, -0.23015713,  0.04704393,\n",
       "          0.13033302,  0.11426566, -0.03755564,  0.05180282,  0.14127387,\n",
       "         -0.08313575,  0.01142227,  0.12886005,  0.23377136, -0.00788264,\n",
       "          0.02538971,  0.23577931,  0.11275259, -0.05235805,  0.15427206,\n",
       "          0.02429615,  0.07289756,  0.0168576 ,  0.21657255,  0.26891501,\n",
       "         -0.06146681,  0.08126162,  0.        , -0.01549049, -0.00926027,\n",
       "          0.13787005,  0.24194059,  0.1594418 , -0.05400977,  0.        ,\n",
       "          0.28789671,  0.07023744,  0.07636081,  0.13946578,  0.08388727,\n",
       "          0.12289143,  0.01104127,  0.01142167, -0.04437016,  0.05944106,\n",
       "          0.06955137,  0.1120983 , -0.01312888,  0.07686059,  0.12713811,\n",
       "         -0.06356327, -0.40784564,  0.12607901, -0.00449914, -0.04548841,\n",
       "         -0.02084519,  0.13561852,  0.07714119, -0.08593772])),\n",
       " (0.9089124184577158,\n",
       "  array([ 0.        , -0.09828294,  0.02534165,  0.00116711,  0.18334869,\n",
       "          0.04658989, -0.05424648,  0.13100074, -0.35970501,  0.0019997 ,\n",
       "          0.06792894, -0.15025469,  0.03712747,  0.06009095, -0.05269704,\n",
       "          0.20440475, -0.06239188,  0.13080753,  0.04666644, -0.11548801,\n",
       "          0.14833176,  0.0276437 , -0.07599032,  0.16782254,  0.17815827,\n",
       "          0.21800369,  0.01352629, -0.02376531,  0.23851309, -0.05022166,\n",
       "         -0.11815375, -0.11135427,  0.        ,  0.17488365,  0.04563153,\n",
       "          0.03590994,  0.15968988, -0.00563392, -0.00103515,  0.        ,\n",
       "         -0.20068787,  0.22858035,  0.11487496, -0.03607426,  0.03077419,\n",
       "         -0.01422626, -0.04591211,  0.30355895, -0.17902708,  0.24410232,\n",
       "          0.12257431, -0.1416216 ,  0.00040889, -0.04833747, -0.03813579,\n",
       "          0.15218333,  0.19007334, -0.0536754 ,  0.02681039, -0.01500991,\n",
       "          0.07886618,  0.02090903,  0.06670758,  0.04495687])),\n",
       " (0.8227192644558214,\n",
       "  array([ 0.00000000e+00, -6.64241060e-03,  1.17158320e-01,  3.92529113e-02,\n",
       "          8.90780391e-02,  1.54623042e-01,  1.29166995e-01,  4.92020978e-02,\n",
       "          9.88417504e-02, -6.51642583e-02,  6.56712920e-02,  3.53689068e-02,\n",
       "          1.77561456e-01,  1.00145297e-01, -3.39805648e-02, -7.76539141e-03,\n",
       "          6.03945573e-02, -7.64669731e-02,  2.12621943e-02,  1.51971411e-02,\n",
       "          7.27649919e-02, -1.79677293e-02, -1.78997769e-01,  1.18196290e-02,\n",
       "          2.62401238e-04,  2.68394231e-02,  1.30335102e-01,  1.27960622e-01,\n",
       "          4.02122163e-02,  4.45372755e-02,  3.76965683e-02,  1.81666886e-01,\n",
       "          0.00000000e+00,  9.50127802e-02,  2.88766898e-01,  1.33226199e-01,\n",
       "          2.90813856e-02,  1.91260958e-01,  4.66615396e-02,  0.00000000e+00,\n",
       "         -2.46932741e-01,  2.94254633e-02,  8.96999081e-02, -6.31459140e-02,\n",
       "         -1.05029299e-01,  1.96668051e-01, -2.98145990e-02, -3.99377997e-01,\n",
       "          4.12718764e-02,  2.92170612e-02,  1.04617465e-01,  1.30130511e-01,\n",
       "         -1.23370577e-01,  6.16046467e-02,  2.40312726e-02,  9.82365988e-02,\n",
       "         -1.67070289e-02,  9.87877261e-03,  1.40028051e-01, -1.06982397e-01,\n",
       "         -2.47498845e-01,  5.60414845e-02,  1.97095053e-01,  3.51017020e-01])),\n",
       " (0.7763101392595976,\n",
       "  array([ 0.        ,  0.0293038 , -0.00507412, -0.10673113, -0.3134724 ,\n",
       "         -0.01603035,  0.00839402, -0.03711918,  0.11179911, -0.08350739,\n",
       "         -0.02256615, -0.07132698, -0.02455949,  0.13366746,  0.01493062,\n",
       "         -0.04354042,  0.04216996, -0.06876391,  0.02702343, -0.0518165 ,\n",
       "          0.07339672,  0.10628606, -0.20177774,  0.02883251, -0.01610645,\n",
       "          0.0382848 , -0.03233817, -0.23891601, -0.02777313, -0.14790209,\n",
       "         -0.26718908,  0.45592134,  0.        , -0.00676074, -0.00333954,\n",
       "         -0.17102091, -0.01809293, -0.04618442, -0.06148274,  0.        ,\n",
       "         -0.3260772 , -0.00371006,  0.07929852, -0.06979695,  0.05221641,\n",
       "          0.08419405, -0.01229804,  0.29075333,  0.09227976, -0.06592139,\n",
       "          0.03549466, -0.04634342,  0.02975937,  0.02953002, -0.04948435,\n",
       "          0.10428228, -0.20559733,  0.03868105, -0.00828657, -0.08959919,\n",
       "         -0.18381969, -0.11324998, -0.1287576 , -0.13503941])),\n",
       " (0.7115567531171392,\n",
       "  array([ 0.        ,  0.11411732, -0.13499833,  0.03153697,  0.25679246,\n",
       "          0.06703798, -0.08164859, -0.10082943,  0.15010093, -0.1099429 ,\n",
       "         -0.07272179,  0.11743446, -0.27012391, -0.02488878, -0.08013923,\n",
       "          0.00949932,  0.022099  , -0.10829038,  0.15467516,  0.13589901,\n",
       "         -0.0453591 ,  0.0194573 , -0.09015862,  0.12802854, -0.05694335,\n",
       "         -0.01357179, -0.00190428,  0.06383315,  0.19820283,  0.09544819,\n",
       "         -0.10869221,  0.1360853 ,  0.        , -0.01314397, -0.23731462,\n",
       "         -0.23276494, -0.05453329,  0.09500707,  0.10505902,  0.        ,\n",
       "         -0.22040613,  0.11494286, -0.06746712, -0.01461723,  0.03819128,\n",
       "         -0.15838104,  0.0666326 , -0.13693005, -0.1478508 ,  0.27593086,\n",
       "         -0.00576823,  0.11003351, -0.0263354 , -0.29360044,  0.01438668,\n",
       "         -0.14996761, -0.15461309,  0.17152338, -0.13926651,  0.12063033,\n",
       "          0.09706758,  0.03203124,  0.10515207,  0.01976524])),\n",
       " (0.6455236480610042,\n",
       "  array([ 0.        , -0.1962658 ,  0.01129165, -0.13442171, -0.13635954,\n",
       "          0.11424523,  0.20575373, -0.40165716, -0.03931214,  0.11200164,\n",
       "          0.07028985,  0.1335767 ,  0.00866098, -0.16813806,  0.2896825 ,\n",
       "         -0.22497698,  0.00882794,  0.17937163, -0.07671862, -0.02654417,\n",
       "          0.06443289, -0.23942914,  0.2127073 ,  0.10812603, -0.03762326,\n",
       "          0.00076423, -0.20080058,  0.01773172,  0.11388552, -0.1765796 ,\n",
       "          0.16123771,  0.03724265,  0.        ,  0.00828709, -0.11086726,\n",
       "          0.06343367,  0.05201549,  0.04967359,  0.17264417,  0.        ,\n",
       "         -0.25579723,  0.14990394, -0.05034856,  0.01038395, -0.09004783,\n",
       "         -0.03313808,  0.04522709, -0.00385254,  0.01010806,  0.13461798,\n",
       "          0.08411136,  0.08100512,  0.08268299,  0.04376211,  0.0199425 ,\n",
       "         -0.04341315, -0.03397743, -0.1912071 ,  0.02584468, -0.04032125,\n",
       "          0.00554916, -0.02883362,  0.00885836, -0.01903703])),\n",
       " (0.5952739876615566,\n",
       "  array([ 0.        ,  0.10172653,  0.01151394,  0.11401315, -0.04290772,\n",
       "          0.01418203,  0.1525299 ,  0.19413529, -0.12045672,  0.13523924,\n",
       "         -0.1411283 , -0.10999518, -0.18544521,  0.05574978,  0.16861886,\n",
       "         -0.09104339, -0.06178232,  0.04619627, -0.1453401 ,  0.15215469,\n",
       "          0.11228425,  0.1724488 ,  0.00734405, -0.28019297,  0.08270863,\n",
       "          0.08309743, -0.00411151,  0.10006286,  0.06985381, -0.03283228,\n",
       "          0.00251744,  0.16488326,  0.        ,  0.18368684,  0.10051938,\n",
       "          0.06264073, -0.04832127, -0.11458345,  0.21997069,  0.        ,\n",
       "         -0.21013468,  0.08865504,  0.12802908,  0.03703513,  0.10101296,\n",
       "         -0.17260326,  0.11925407, -0.13274457,  0.20191475, -0.22671258,\n",
       "         -0.09008737, -0.10178458,  0.14397131,  0.00557602,  0.0572976 ,\n",
       "         -0.06936192, -0.00084912, -0.00383981, -0.0007504 ,  0.23743359,\n",
       "          0.2925238 ,  0.09161339,  0.00654106,  0.05742666])),\n",
       " (0.576501797201852,\n",
       "  array([ 0.00000000e+00,  1.20121211e-01, -6.88610581e-02,  3.07256564e-02,\n",
       "         -1.27997758e-01,  5.14745678e-05,  6.59406252e-02, -1.25575356e-01,\n",
       "          1.00551764e-01, -1.92627918e-01,  5.62775013e-03,  3.87630368e-01,\n",
       "          2.06602205e-01,  1.35827420e-01,  9.42073769e-02, -2.22051384e-02,\n",
       "         -1.59782089e-02, -1.19933148e-01, -3.84941344e-02, -5.10209425e-02,\n",
       "          1.01424111e-01,  7.09440954e-02,  1.41019368e-03,  6.84716386e-02,\n",
       "         -3.22916110e-02,  2.36763246e-01, -9.73021465e-02, -1.35580716e-01,\n",
       "          9.66559183e-02, -1.87928971e-01, -3.09078132e-02, -5.89721826e-02,\n",
       "          0.00000000e+00,  1.61481848e-01,  6.62650527e-02,  1.34714481e-01,\n",
       "          1.25223263e-01, -1.32255878e-01,  2.97825633e-02,  0.00000000e+00,\n",
       "          2.00553756e-01, -6.52871269e-03, -3.15604924e-02, -2.80606657e-01,\n",
       "         -1.69028785e-01, -1.63053976e-01,  2.34585325e-02, -7.69426244e-02,\n",
       "         -2.57624986e-02,  1.81306284e-02, -1.24824266e-01, -2.95050852e-01,\n",
       "         -2.24463490e-01, -8.68659736e-02, -1.21432881e-02,  6.42172428e-02,\n",
       "         -7.78052489e-03,  1.87324890e-01, -8.69293896e-02,  1.31049462e-01,\n",
       "          8.93152796e-02,  2.85058565e-02, -2.46669529e-02,  5.64627960e-02])),\n",
       " (0.5267315516205463,\n",
       "  array([ 0.        , -0.03793274,  0.15898694, -0.12962556, -0.01001589,\n",
       "          0.08043784, -0.04133463, -0.16527076, -0.06670649,  0.13800226,\n",
       "          0.16970254,  0.0381397 ,  0.01755487,  0.21036283, -0.02292385,\n",
       "          0.0374456 ,  0.07226645, -0.0736363 ,  0.30021828,  0.20562438,\n",
       "         -0.00087576,  0.10153916, -0.03337431,  0.2237013 ,  0.01233214,\n",
       "         -0.33087194, -0.01071798, -0.0026858 , -0.13440473, -0.14211599,\n",
       "         -0.07821362,  0.00620367,  0.        , -0.00795255, -0.0247772 ,\n",
       "         -0.01072114, -0.00414208, -0.04791135,  0.1504119 ,  0.        ,\n",
       "          0.12054596,  0.17147113,  0.13232369,  0.05332375,  0.17813802,\n",
       "         -0.03594072,  0.18144905, -0.09785991, -0.08347977, -0.21927179,\n",
       "         -0.07693197, -0.28702049,  0.04525384, -0.20382055,  0.16162265,\n",
       "         -0.02049126,  0.15790422, -0.10945545,  0.15959981, -0.0330447 ,\n",
       "         -0.08546295, -0.04144017,  0.10117592, -0.01422392])),\n",
       " (0.5106363011725036,\n",
       "  array([ 0.        ,  0.09518481, -0.05828271,  0.09793295, -0.07612986,\n",
       "          0.07667494, -0.07572529, -0.17416769, -0.01800836, -0.00622052,\n",
       "         -0.14035452, -0.07082631, -0.23062449,  0.11880549,  0.12466285,\n",
       "          0.07164902,  0.00358694, -0.00058324, -0.16038186,  0.07253369,\n",
       "          0.1079448 ,  0.06583507,  0.07172107,  0.23006778,  0.02462133,\n",
       "          0.1236342 ,  0.05013163,  0.15288454,  0.20618691, -0.12036611,\n",
       "         -0.06745563, -0.0689018 ,  0.        ,  0.19262733, -0.01045037,\n",
       "         -0.23355405, -0.07340114, -0.10041782, -0.0967072 ,  0.        ,\n",
       "          0.19203912,  0.11526625, -0.01166865, -0.00098342, -0.09666586,\n",
       "          0.12354229,  0.08464255, -0.07729946, -0.12874406, -0.29375227,\n",
       "          0.0583738 ,  0.38522434, -0.04220034,  0.12230736,  0.11921705,\n",
       "          0.12482359,  0.20595639,  0.05698426, -0.00967727,  0.01625212,\n",
       "         -0.18872431, -0.06270842, -0.10852401, -0.02879094])),\n",
       " (0.48686381297937403,\n",
       "  array([ 0.        ,  0.09728814, -0.26927649, -0.08620446, -0.050861  ,\n",
       "         -0.09402847, -0.11183024,  0.07527078, -0.14155144,  0.28492889,\n",
       "          0.01653139,  0.15540701, -0.12232173,  0.03885441, -0.05634022,\n",
       "          0.03295346, -0.03776527,  0.32760033, -0.06714573, -0.02736903,\n",
       "         -0.07677738,  0.08893645, -0.04928353, -0.02432733, -0.03156543,\n",
       "         -0.22470516, -0.11544921,  0.11895554,  0.0005394 , -0.07173914,\n",
       "         -0.08463197, -0.02726393,  0.        , -0.17191013, -0.00942725,\n",
       "          0.11953017, -0.10894199,  0.04774685,  0.04373502,  0.        ,\n",
       "         -0.04168153,  0.07504729,  0.13981005, -0.0569894 , -0.1052336 ,\n",
       "          0.16545771, -0.00979064, -0.14844816,  0.01338986,  0.0952139 ,\n",
       "         -0.09492826, -0.0765601 , -0.09512798, -0.02894973, -0.11147534,\n",
       "          0.26573895, -0.03392459,  0.04372269, -0.28505766,  0.05716887,\n",
       "         -0.08011667, -0.26178298, -0.18680071,  0.21574421])),\n",
       " (0.45560107052785215,\n",
       "  array([ 0.        ,  0.04640632, -0.02523285,  0.17152379,  0.17783149,\n",
       "         -0.17064224, -0.02410793,  0.04185335, -0.05985472,  0.03600298,\n",
       "          0.04046545, -0.01505859,  0.17584082, -0.05120048,  0.08343329,\n",
       "         -0.10536693,  0.03716311, -0.01167194,  0.11965507,  0.17906535,\n",
       "          0.12442971, -0.03024384,  0.32126054, -0.15157921, -0.06809813,\n",
       "         -0.00772775,  0.0613088 ,  0.01661418, -0.10820416, -0.12428481,\n",
       "          0.0860731 ,  0.04047782,  0.        ,  0.09905735, -0.18503511,\n",
       "         -0.17401459,  0.08699585, -0.02235936, -0.22963374,  0.        ,\n",
       "         -0.20009107,  0.2060744 , -0.05118266,  0.15114078,  0.04502925,\n",
       "          0.25151223, -0.08760585,  0.04684382,  0.11884988, -0.06316876,\n",
       "         -0.15754598, -0.06189394, -0.47301639, -0.09280901,  0.01202604,\n",
       "          0.07164187, -0.01066942,  0.02456831,  0.00228912,  0.0480192 ,\n",
       "         -0.0404806 ,  0.03504474,  0.00755294, -0.0484092 ])),\n",
       " (0.4428515517079933,\n",
       "  array([ 0.00000000e+00,  6.99161545e-02, -1.08933920e-02, -2.44655951e-02,\n",
       "          6.92985567e-02,  1.23547768e-01,  7.22266025e-02,  3.01774567e-02,\n",
       "         -4.57685900e-02,  3.15070595e-02,  1.07983656e-01,  1.70342382e-01,\n",
       "         -1.76248618e-01, -1.34203989e-01, -7.38789833e-02, -3.58952571e-02,\n",
       "          8.56524512e-02, -2.10935589e-02,  1.00878394e-01,  9.38622219e-02,\n",
       "          1.41370181e-02, -1.02752248e-01, -8.26022891e-02, -6.04026689e-03,\n",
       "         -7.73435377e-02, -9.44022253e-02, -2.28432672e-01, -8.94570970e-02,\n",
       "          1.92897050e-01,  1.05313963e-01,  3.59415480e-04,  6.69887171e-02,\n",
       "          0.00000000e+00,  9.26795962e-02, -4.35082984e-02, -4.52405498e-02,\n",
       "         -8.70222996e-02,  1.07058209e-01, -2.65547818e-02,  0.00000000e+00,\n",
       "          7.48288875e-02,  1.48755840e-02,  2.09229938e-01,  5.24671482e-02,\n",
       "         -2.74859935e-01,  3.25145068e-02, -3.22641926e-01,  2.36654330e-01,\n",
       "          1.23030864e-02, -3.94931359e-01,  4.51072169e-02, -7.80158879e-02,\n",
       "         -6.85580714e-02,  8.97070544e-02, -2.89255872e-01, -2.12151659e-01,\n",
       "          1.08448555e-01,  5.29441127e-02,  1.09229663e-02, -8.44640100e-02,\n",
       "          8.18667024e-02,  7.01385729e-02,  1.10545006e-01,  1.53978031e-01])),\n",
       " (0.4223008630061855,\n",
       "  array([ 0.        ,  0.05024364, -0.04772359,  0.04069512, -0.09096403,\n",
       "         -0.00193279,  0.0265669 , -0.00181724, -0.15095495, -0.18508736,\n",
       "          0.01887772, -0.24161454,  0.0557424 ,  0.04315519,  0.03305121,\n",
       "          0.01935   ,  0.38895327, -0.02554911,  0.14463392, -0.17836425,\n",
       "          0.06080913,  0.03056503, -0.03761355,  0.07940192, -0.34705561,\n",
       "         -0.04111815,  0.1172885 ,  0.05124653, -0.05725383, -0.18401216,\n",
       "         -0.01063058,  0.00997986,  0.        , -0.02331284, -0.10444425,\n",
       "          0.14310382,  0.00104918, -0.12103827,  0.34539727,  0.        ,\n",
       "          0.0461187 ,  0.02776658, -0.0845173 ,  0.20240928,  0.068263  ,\n",
       "          0.03270083,  0.0113925 ,  0.05517948, -0.09537724,  0.06667944,\n",
       "         -0.17457735,  0.12697789, -0.04115122,  0.21860066, -0.18590292,\n",
       "         -0.10230884,  0.01484518,  0.13215726, -0.09341231,  0.03442418,\n",
       "          0.07311124,  0.09108192, -0.06494498,  0.20867181])),\n",
       " (0.39910630258275964,\n",
       "  array([ 0.        ,  0.06017516, -0.06904319,  0.12291387,  0.08921289,\n",
       "         -0.17873512,  0.18551117, -0.25722278,  0.06939431,  0.00042457,\n",
       "         -0.05231187, -0.28514378,  0.24282029, -0.17654703,  0.26725301,\n",
       "         -0.03389381, -0.16156917, -0.05224511,  0.10513961, -0.16388003,\n",
       "          0.08742239, -0.04070215,  0.09093973,  0.10382935,  0.12660806,\n",
       "         -0.09130284,  0.17428017, -0.10931316,  0.0495155 ,  0.05001096,\n",
       "         -0.33257658,  0.00833277,  0.        , -0.07724981,  0.08482344,\n",
       "         -0.04386308, -0.17428134,  0.1564327 , -0.02196496,  0.        ,\n",
       "          0.08277115, -0.13445275,  0.16090327,  0.1310875 , -0.09362638,\n",
       "         -0.01069671,  0.04714951, -0.05397882, -0.01246096, -0.0875206 ,\n",
       "          0.06985154, -0.04636576,  0.04502884, -0.19024893, -0.11486381,\n",
       "          0.06585524,  0.03896376,  0.03932063, -0.08304481,  0.03841394,\n",
       "          0.18490675, -0.11994593,  0.00677105,  0.15477256])),\n",
       " (0.39110111117636726,\n",
       "  array([ 0.        , -0.00217145,  0.0083421 ,  0.03080282,  0.01060481,\n",
       "         -0.10460782, -0.02982298, -0.06103255, -0.24942493,  0.11942145,\n",
       "         -0.05767165,  0.06566232,  0.1073218 , -0.01507941,  0.09015366,\n",
       "          0.02575445,  0.47170449,  0.05169072, -0.17914043, -0.04116404,\n",
       "         -0.0823659 ,  0.03596158,  0.04875875, -0.03687889, -0.42650343,\n",
       "         -0.01815266,  0.08705233,  0.0663687 ,  0.04141018,  0.10217614,\n",
       "         -0.14916906, -0.0379474 ,  0.        ,  0.04080356,  0.2196151 ,\n",
       "         -0.10785487, -0.02732483,  0.09607075, -0.26871039,  0.        ,\n",
       "         -0.0316103 , -0.00047358,  0.0735739 , -0.27454465, -0.0347526 ,\n",
       "         -0.07948823,  0.05720878,  0.0710769 ,  0.0782064 ,  0.01011959,\n",
       "          0.01049305,  0.00732414,  0.13866101, -0.2231046 ,  0.08884259,\n",
       "         -0.14676327, -0.0149853 , -0.08029332,  0.01096505,  0.05774841,\n",
       "         -0.03840291, -0.01573595,  0.13188858, -0.04907554])),\n",
       " (0.3609451680104024,\n",
       "  array([ 0.        , -0.10220974,  0.09502034,  0.10050122, -0.16433207,\n",
       "          0.01492173,  0.00691484, -0.11120919,  0.01278575,  0.03730551,\n",
       "         -0.1814354 ,  0.00322848,  0.02166762,  0.14688961,  0.03176434,\n",
       "          0.02652819, -0.12223145,  0.19770299, -0.24599998,  0.33297135,\n",
       "         -0.09965545,  0.11766001, -0.03992933,  0.13022372,  0.03406187,\n",
       "          0.21400405, -0.07122868,  0.00323519, -0.30334038,  0.05010971,\n",
       "         -0.22119378,  0.05261062,  0.        , -0.07270584, -0.02104297,\n",
       "          0.10494654, -0.09405932,  0.1738453 ,  0.0251412 ,  0.        ,\n",
       "          0.06299103, -0.03806717,  0.0147439 ,  0.11354213, -0.0115308 ,\n",
       "          0.10770976, -0.06546563,  0.14474053, -0.15076838,  0.16988491,\n",
       "         -0.11917636,  0.03716335, -0.18243267, -0.05764359, -0.14872494,\n",
       "         -0.26568568,  0.06658671, -0.09184131,  0.10903595,  0.1778536 ,\n",
       "         -0.04211744,  0.11362903,  0.11468212,  0.11780763])),\n",
       " (0.34860305887186566,\n",
       "  array([ 0.        ,  0.08713873, -0.024501  , -0.0997729 , -0.03781126,\n",
       "         -0.10985166, -0.24846537,  0.03543473,  0.10164948, -0.0137814 ,\n",
       "          0.02643193, -0.06771422,  0.04665808,  0.16750388,  0.05842793,\n",
       "          0.11713978, -0.17417207,  0.00343281,  0.04672062, -0.03809565,\n",
       "         -0.05748849, -0.05561158,  0.17325233, -0.05460384,  0.1699818 ,\n",
       "         -0.09339154,  0.07625857,  0.11264135,  0.00405223, -0.24156012,\n",
       "         -0.05490402, -0.229391  ,  0.        ,  0.0193371 , -0.02422522,\n",
       "         -0.02304847,  0.19968993,  0.04468202,  0.13283439,  0.        ,\n",
       "         -0.07481544,  0.03493618, -0.02184544, -0.26069193, -0.03461948,\n",
       "         -0.0204503 ,  0.07520537,  0.19036257,  0.29605345, -0.10903367,\n",
       "          0.07287962,  0.17127331,  0.04930632, -0.07658991, -0.13098486,\n",
       "         -0.37393508, -0.13378815,  0.03738091, -0.02775311, -0.05117992,\n",
       "         -0.11522815, -0.0200126 ,  0.12303922,  0.26066618])),\n",
       " (0.31959630000067696,\n",
       "  array([ 0.        ,  0.02462324, -0.02538369, -0.12130923, -0.04032469,\n",
       "         -0.08857297,  0.00629231,  0.09940931,  0.04731413,  0.12464122,\n",
       "          0.05151511,  0.0509897 ,  0.21510723, -0.04146292,  0.0779026 ,\n",
       "         -0.15414442, -0.11666572, -0.06656387, -0.05128663, -0.20230483,\n",
       "         -0.23289205, -0.00799864, -0.05685702, -0.15702393,  0.12134596,\n",
       "         -0.17111006,  0.09211662,  0.1781593 , -0.00646962,  0.05531385,\n",
       "          0.03827638,  0.39723362,  0.        ,  0.0848501 ,  0.00121368,\n",
       "         -0.07648956,  0.0862622 , -0.09576279, -0.11746485,  0.        ,\n",
       "          0.07231036,  0.23106823, -0.10378197, -0.12512559, -0.01403255,\n",
       "         -0.09741841,  0.06161276,  0.09555955, -0.44803927, -0.0086901 ,\n",
       "         -0.09488049,  0.10271812, -0.02699907,  0.0546814 , -0.03285429,\n",
       "         -0.1531959 ,  0.22762573, -0.04796965, -0.03301971,  0.05035119,\n",
       "          0.03633488,  0.0121309 , -0.03333325,  0.11546528])),\n",
       " (0.2940662706200292,\n",
       "  array([ 0.        , -0.02227582,  0.14154287, -0.14067686,  0.13568085,\n",
       "         -0.1154379 , -0.18814681,  0.16029529, -0.01904042, -0.1674479 ,\n",
       "         -0.07529352, -0.01138883, -0.00624594,  0.03333657,  0.08746177,\n",
       "         -0.08687682,  0.12528774,  0.08820792, -0.05749374,  0.1511449 ,\n",
       "         -0.15505254, -0.03527066,  0.20272672, -0.19806235, -0.12814768,\n",
       "          0.25106232, -0.05150767, -0.01762201,  0.02024744, -0.05709689,\n",
       "         -0.11477829,  0.18533534,  0.        , -0.0872335 , -0.25368922,\n",
       "          0.05619545,  0.19222063,  0.09522305,  0.14751013,  0.        ,\n",
       "          0.09504067, -0.12053838,  0.06182886,  0.0615762 , -0.09742682,\n",
       "         -0.05189773,  0.14042364, -0.10925832, -0.16464927, -0.12061279,\n",
       "          0.34380875, -0.08093165,  0.0301582 , -0.1054933 , -0.04188085,\n",
       "          0.14566305,  0.07258392,  0.03656268,  0.15319772, -0.16506246,\n",
       "          0.01559202, -0.17374913, -0.10043762,  0.10134581])),\n",
       " (0.2769228513803101,\n",
       "  array([ 0.        ,  0.06399602, -0.18782322,  0.19264472,  0.00493083,\n",
       "         -0.09966419,  0.26239951,  0.02939854, -0.04016768,  0.07241183,\n",
       "         -0.08362845, -0.13685214, -0.08428847,  0.01344108, -0.05294302,\n",
       "         -0.1711458 ,  0.01966231,  0.09763349,  0.06057809,  0.12038684,\n",
       "          0.22648601, -0.01084645, -0.15084759,  0.05254369, -0.00714408,\n",
       "         -0.00593072, -0.03477998, -0.05011185, -0.08742891, -0.16830628,\n",
       "          0.3785623 ,  0.08050712,  0.        , -0.1135209 ,  0.0406202 ,\n",
       "         -0.10410699,  0.22502134,  0.03008213,  0.01709333,  0.        ,\n",
       "          0.13601271, -0.24144327,  0.09081658, -0.25354479,  0.19836918,\n",
       "          0.13717638,  0.01975444,  0.06307575, -0.17143944,  0.0270371 ,\n",
       "          0.27072756, -0.02544231, -0.00837455, -0.13742189,  0.01924358,\n",
       "         -0.14546014,  0.09282724,  0.03645695, -0.15122295, -0.00613732,\n",
       "         -0.0513033 , -0.05223606,  0.06143139,  0.04120769])),\n",
       " (0.2582730040151319,\n",
       "  array([ 0.        , -0.08524128, -0.03333352,  0.09977813,  0.2087265 ,\n",
       "         -0.12586655, -0.06874163,  0.10159732,  0.06476134, -0.11208812,\n",
       "          0.11459612, -0.08633672, -0.10884054, -0.2230818 ,  0.07036935,\n",
       "         -0.11762582, -0.04670349,  0.01233852,  0.10996721,  0.12045878,\n",
       "          0.12384734,  0.10325656,  0.22891941, -0.0884444 ,  0.00913039,\n",
       "          0.06683327, -0.20245332, -0.07668951,  0.08499098, -0.07144333,\n",
       "         -0.15519856,  0.08543158,  0.        , -0.06234903,  0.15705403,\n",
       "          0.15540672, -0.17805022, -0.19182087,  0.04294578,  0.        ,\n",
       "          0.05477026, -0.02578913,  0.08364248, -0.15837899, -0.08644788,\n",
       "          0.0754136 ,  0.07512451,  0.02672795, -0.12956911,  0.14542301,\n",
       "         -0.30995756, -0.02261054,  0.19329448,  0.14478744,  0.11396391,\n",
       "         -0.12775954,  0.05272669,  0.06189263, -0.02685863, -0.10529884,\n",
       "         -0.34077736, -0.0556405 ,  0.19926551, -0.03679407])),\n",
       " (0.24783028603503507,\n",
       "  array([ 0.        , -0.01579137,  0.05210247,  0.07470691,  0.03901528,\n",
       "         -0.13254994,  0.26387067, -0.06669534,  0.04135769, -0.24463884,\n",
       "         -0.13920875,  0.06277709,  0.14764316, -0.18150599, -0.12647871,\n",
       "          0.01622618, -0.02656489,  0.18262442, -0.10435371, -0.15400593,\n",
       "         -0.32051663,  0.11807779, -0.13050417,  0.11987259,  0.01263624,\n",
       "          0.09370095, -0.06400422,  0.17022293,  0.14272129,  0.12882885,\n",
       "          0.00732224, -0.09101201,  0.        , -0.16360908, -0.17329123,\n",
       "         -0.00941   , -0.0351255 , -0.30399159,  0.06907246,  0.        ,\n",
       "         -0.06001199,  0.21581328,  0.13228182, -0.02907783,  0.19279458,\n",
       "          0.21683481,  0.09013034,  0.00944988,  0.13432455, -0.19010119,\n",
       "          0.07002624, -0.12228011, -0.04422576, -0.00489148,  0.04343225,\n",
       "         -0.10463372, -0.01867384,  0.07805166,  0.05567705, -0.03209999,\n",
       "         -0.07616448, -0.07438298,  0.10649268, -0.00557502])),\n",
       " (0.24235660038291526,\n",
       "  array([ 0.        , -0.01654177,  0.04449919,  0.120277  ,  0.16596116,\n",
       "         -0.11055231,  0.1284672 , -0.09742777, -0.03474388,  0.28767726,\n",
       "         -0.14380318,  0.11540667, -0.0849057 , -0.12569083,  0.04657406,\n",
       "          0.0587817 ,  0.02636253, -0.11628124,  0.02673462,  0.18807424,\n",
       "         -0.08882799,  0.19072443, -0.09202305,  0.06404117, -0.00358349,\n",
       "         -0.0508323 ,  0.14852797, -0.21699902,  0.04338675,  0.09456065,\n",
       "         -0.07129459, -0.07110079,  0.        ,  0.05454432,  0.01202758,\n",
       "         -0.11225395,  0.22812962, -0.25780441,  0.01682476,  0.        ,\n",
       "         -0.03221699, -0.09727777, -0.06642024,  0.01982386, -0.08758119,\n",
       "         -0.14595396,  0.12429477,  0.02787588,  0.06281981,  0.14778305,\n",
       "         -0.00200036, -0.03590817, -0.11880471,  0.25735367, -0.02576923,\n",
       "         -0.08895506, -0.08194947, -0.16740364,  0.10836703, -0.25230762,\n",
       "         -0.04858127, -0.07424707, -0.25413238,  0.27831923])),\n",
       " (0.21758199560459007,\n",
       "  array([ 0.        ,  0.03935581, -0.08016403,  0.12530609,  0.04996701,\n",
       "         -0.152665  ,  0.01901208, -0.0786306 , -0.02424013,  0.13176841,\n",
       "          0.03845195, -0.11692995,  0.09675688, -0.10941182,  0.12229614,\n",
       "          0.07679313,  0.00921317, -0.02584727,  0.0676238 ,  0.10762501,\n",
       "         -0.20815214,  0.02862298, -0.08721047, -0.00998574,  0.00210856,\n",
       "         -0.05961825, -0.15777281,  0.13438054, -0.1265185 ,  0.04764569,\n",
       "         -0.23262564,  0.00365373,  0.        ,  0.24788401, -0.07903524,\n",
       "          0.05252985,  0.08947805,  0.0106351 ,  0.32583207,  0.        ,\n",
       "          0.01165062, -0.051519  , -0.0907602 , -0.28365417,  0.10036496,\n",
       "         -0.0983284 , -0.33483262, -0.11296128,  0.01309522, -0.04692064,\n",
       "          0.1372923 ,  0.07370313, -0.06404744,  0.06722395, -0.11145536,\n",
       "          0.20636978,  0.0181032 , -0.04655245, -0.09171078, -0.06700312,\n",
       "         -0.11685406,  0.19310214,  0.06724016, -0.31468432])),\n",
       " (0.20799592689994426,\n",
       "  array([ 0.00000000e+00,  5.22904560e-02, -1.82162384e-03,  4.07879817e-02,\n",
       "          1.21101492e-02, -1.91345679e-01,  1.46287292e-01,  1.17851196e-01,\n",
       "         -2.24730052e-02,  1.45264475e-01, -2.90902495e-01,  8.61357819e-02,\n",
       "         -8.14226644e-02,  1.66891453e-01, -8.89975820e-02, -1.51983668e-01,\n",
       "          8.39061686e-03, -1.49404265e-01,  6.21721261e-02, -1.22000757e-01,\n",
       "         -4.31424128e-02,  1.56265760e-01, -3.95623284e-02,  5.79468562e-02,\n",
       "          1.87796436e-02, -3.65443661e-02,  1.91300871e-01, -6.48271439e-02,\n",
       "          4.74220090e-02, -2.00452916e-01,  2.96594769e-02, -1.96620121e-02,\n",
       "          0.00000000e+00,  1.01325456e-01, -2.09637392e-01,  2.56516716e-01,\n",
       "         -9.64770486e-02,  7.80863088e-03,  1.34795970e-02,  0.00000000e+00,\n",
       "         -3.10002856e-04,  5.48507790e-02, -2.45969208e-01,  6.38594629e-02,\n",
       "         -3.43817892e-01,  2.01987863e-01, -1.30773486e-01,  1.35695300e-02,\n",
       "         -8.89570141e-03,  2.62170382e-02,  1.71869351e-02,  1.20654180e-02,\n",
       "          1.89161691e-01, -1.29150406e-01, -3.37792451e-03,  1.65694259e-02,\n",
       "         -4.15627349e-03, -1.42127105e-01,  8.44282532e-02, -6.96821762e-02,\n",
       "          4.80998467e-02, -1.31265168e-01,  2.84186189e-01, -1.61114198e-01])),\n",
       " (0.20009090171636834,\n",
       "  array([ 0.        ,  0.02485272, -0.0695923 ,  0.05244649, -0.05724101,\n",
       "          0.04784078,  0.19872655,  0.02909534,  0.02957629, -0.07707211,\n",
       "         -0.00939125, -0.32176527,  0.14142165,  0.03860175, -0.20355895,\n",
       "         -0.10586159,  0.0107387 ,  0.03853968,  0.19350762,  0.16697689,\n",
       "         -0.11773334,  0.0447888 , -0.00474527,  0.14174894, -0.02722729,\n",
       "          0.03793228, -0.22346176,  0.09579105, -0.17734856,  0.08574213,\n",
       "          0.04725499, -0.06216814,  0.        ,  0.17105736, -0.20848801,\n",
       "          0.12979099,  0.16053794,  0.1135708 , -0.30321976,  0.        ,\n",
       "         -0.04480799,  0.13920846,  0.09949674, -0.02553782, -0.31093605,\n",
       "         -0.255146  ,  0.13808088, -0.0011814 ,  0.07467328, -0.01555075,\n",
       "         -0.06925352,  0.04089729,  0.1957918 ,  0.0585212 ,  0.07715094,\n",
       "          0.04925527, -0.05761808,  0.0499604 , -0.09931931,  0.08016287,\n",
       "         -0.08140063, -0.03392921, -0.14161881,  0.08291871])),\n",
       " (0.18983516452770618,\n",
       "  array([ 0.        ,  0.052605  , -0.09082267, -0.32349809,  0.04847008,\n",
       "         -0.14328589,  0.03223117, -0.07998258, -0.01933061,  0.16335999,\n",
       "          0.33224902, -0.07482834,  0.02477856, -0.00727682,  0.1320808 ,\n",
       "          0.11872199,  0.02278531, -0.31713769, -0.0769359 ,  0.02208729,\n",
       "         -0.07476665,  0.05324667, -0.18017652, -0.04067903, -0.01531551,\n",
       "          0.26599332, -0.18002639,  0.15322914, -0.00931276,  0.03783721,\n",
       "          0.08428328, -0.02997025,  0.        ,  0.25447864, -0.1166285 ,\n",
       "          0.02054262, -0.08361676, -0.10500439, -0.0307668 ,  0.        ,\n",
       "         -0.00341224, -0.2743327 ,  0.02351264,  0.2171474 ,  0.02714065,\n",
       "          0.2086332 ,  0.07230461,  0.05651086,  0.04186793,  0.07229102,\n",
       "          0.05085342, -0.02206635, -0.01090097, -0.055009  ,  0.12487172,\n",
       "         -0.09155015, -0.02022895, -0.03325299, -0.11216202,  0.13875022,\n",
       "         -0.03692611, -0.1686588 ,  0.09464228,  0.09810434])),\n",
       " (0.17612894217338015,\n",
       "  array([ 0.        ,  0.19726698, -0.12937243, -0.14835291, -0.07282263,\n",
       "          0.2083214 ,  0.02606413,  0.06034398, -0.0363082 ,  0.23043717,\n",
       "         -0.0681151 , -0.06724555,  0.12432474, -0.08683781, -0.27799136,\n",
       "         -0.12263721,  0.03065841, -0.2974223 , -0.03389218,  0.02330066,\n",
       "         -0.01480783, -0.08401263,  0.27669641,  0.06187037,  0.0028058 ,\n",
       "          0.19854528,  0.17219659, -0.09803715,  0.08990781,  0.0550094 ,\n",
       "         -0.11362619, -0.01760823,  0.        , -0.2977277 , -0.05043819,\n",
       "         -0.0280295 ,  0.08880609, -0.06153338,  0.16539903,  0.        ,\n",
       "          0.00075193,  0.05397529,  0.18101254, -0.04933574,  0.01090405,\n",
       "         -0.05281874, -0.10914646, -0.03171243, -0.0099325 , -0.01536299,\n",
       "          0.06965671, -0.02495263, -0.05466168,  0.1384928 ,  0.02486403,\n",
       "          0.00233145,  0.02235568, -0.18589694, -0.0458424 ,  0.33607516,\n",
       "         -0.18961329, -0.01937529,  0.08614828, -0.03524911])),\n",
       " (0.16875235857271978,\n",
       "  array([ 0.        ,  0.08240421,  0.09120274, -0.08965672,  0.03952906,\n",
       "         -0.11498954,  0.18267525,  0.18411989,  0.00334013,  0.05040714,\n",
       "          0.27265642,  0.08679988, -0.10923349, -0.0795615 , -0.1763057 ,\n",
       "         -0.30682064,  0.00073458, -0.1623989 , -0.07275801, -0.08722635,\n",
       "          0.07428865,  0.22191941,  0.12985496,  0.24500119, -0.0008499 ,\n",
       "          0.17702995, -0.13706349,  0.12319937, -0.12520834, -0.08420558,\n",
       "         -0.16381485, -0.09082155,  0.        , -0.10084063,  0.10077935,\n",
       "         -0.00062177, -0.1029581 ,  0.1070634 , -0.0064691 ,  0.        ,\n",
       "         -0.00527976,  0.06727948, -0.06849702, -0.11223647,  0.15602405,\n",
       "         -0.00129468,  0.06473106,  0.01939519,  0.04518959, -0.04435567,\n",
       "         -0.01660989,  0.22397676, -0.05985346, -0.17118551, -0.10175755,\n",
       "          0.04595906,  0.01115362, -0.09266143,  0.0421105 , -0.24561069,\n",
       "          0.19672594,  0.15225977, -0.20726893,  0.0644594 ])),\n",
       " (0.15818474106126704,\n",
       "  array([ 0.        , -0.03662945,  0.17663613, -0.22485217, -0.0244557 ,\n",
       "         -0.13119006,  0.03983753,  0.06334722,  0.00858318, -0.02834947,\n",
       "          0.01558535, -0.18020672,  0.0716079 ,  0.08300164,  0.02902039,\n",
       "         -0.07667097, -0.00554994,  0.06707828,  0.05623516,  0.2020243 ,\n",
       "         -0.2697987 ,  0.00547751, -0.08783846,  0.07360794, -0.01101813,\n",
       "         -0.04157543, -0.06524874, -0.11719633,  0.26376636, -0.11083144,\n",
       "          0.1536032 , -0.06137248,  0.        , -0.10629645,  0.21526859,\n",
       "         -0.22856372,  0.17773287, -0.1046413 ,  0.05994634,  0.        ,\n",
       "          0.01573204, -0.11450104,  0.18606487, -0.03253707, -0.15986149,\n",
       "          0.07878631, -0.026065  , -0.08179048,  0.00776862,  0.08643635,\n",
       "         -0.30660994,  0.2512928 , -0.0700122 , -0.0700058 , -0.17330805,\n",
       "          0.14960249, -0.02985122,  0.00380864,  0.0970211 ,  0.10171996,\n",
       "          0.21935346, -0.02344541,  0.09555198, -0.16758794])),\n",
       " (0.14311427404120103,\n",
       "  array([ 0.        , -0.16875542, -0.00841112, -0.2513489 ,  0.02266302,\n",
       "          0.09494313,  0.04597991,  0.18803275, -0.0041975 , -0.07699984,\n",
       "         -0.0948684 , -0.02002219,  0.06091847, -0.06936002, -0.15121529,\n",
       "         -0.28241645,  0.01022745,  0.20128178, -0.00847857,  0.0654011 ,\n",
       "          0.01232247,  0.01709492,  0.1517971 ,  0.17070525, -0.00444075,\n",
       "         -0.29160343, -0.0120912 , -0.10914717,  0.05925132,  0.08418619,\n",
       "         -0.19963834, -0.04798909,  0.        ,  0.38009629,  0.13368334,\n",
       "          0.01789666, -0.05161068, -0.1146585 ,  0.04748638,  0.        ,\n",
       "          0.00217026, -0.1941626 , -0.25200389,  0.01203209,  0.09735017,\n",
       "          0.06625397, -0.00273729,  0.03776818,  0.01990876,  0.00403455,\n",
       "          0.21430099,  0.00905976, -0.14197871,  0.01302678,  0.09991919,\n",
       "         -0.06375229, -0.03591716,  0.16656884,  0.01971155,  0.2483104 ,\n",
       "         -0.00188447, -0.12163799, -0.01685292,  0.05452718])),\n",
       " (0.13321081276067484,\n",
       "  array([ 0.00000000e+00,  1.36114451e-01,  5.22267343e-02, -3.12666882e-01,\n",
       "          1.39449087e-01, -7.33933270e-02,  4.49092654e-02, -1.46604586e-01,\n",
       "          1.21140374e-02, -1.44221183e-01,  7.17641343e-02, -9.55784693e-02,\n",
       "         -9.52871369e-02, -1.95414851e-01,  7.75068623e-02,  2.07877600e-01,\n",
       "          1.71382538e-02,  6.13353101e-02,  7.74220481e-04,  1.67700250e-01,\n",
       "          2.38581331e-01,  1.26951397e-01, -1.52437470e-01, -1.00595312e-01,\n",
       "         -2.92317508e-02, -2.32477321e-02,  6.80528437e-02, -2.12027917e-01,\n",
       "         -1.74255680e-01,  1.51941387e-01,  3.81255760e-02,  8.65339682e-03,\n",
       "          0.00000000e+00, -1.99197498e-01,  5.90974594e-02,  2.52820166e-01,\n",
       "          7.05950658e-02, -8.79808546e-02, -2.54571648e-02,  0.00000000e+00,\n",
       "         -8.78906491e-03,  2.95977431e-01, -2.42052648e-01, -1.97316148e-01,\n",
       "         -1.21115225e-01,  6.35573325e-02, -1.29505720e-02,  2.74970596e-02,\n",
       "         -2.47310044e-05, -1.37748949e-01,  1.11873873e-01,  1.73912220e-01,\n",
       "         -5.25808033e-02, -5.88434379e-02,  3.66534706e-03,  2.64447446e-02,\n",
       "          2.96552252e-02, -5.35240222e-02,  2.04476065e-02,  2.14148458e-01,\n",
       "          7.90338318e-02, -7.15155030e-02, -2.78882222e-02, -1.59184883e-02])),\n",
       " (0.12426370770472256,\n",
       "  array([ 0.        , -0.02365739, -0.02157116, -0.13886667,  0.204155  ,\n",
       "         -0.39738305,  0.01174949,  0.11536553,  0.00157632, -0.07556592,\n",
       "          0.0344219 ,  0.03119874, -0.05695538,  0.22068477,  0.25426857,\n",
       "         -0.24227347, -0.00724041,  0.02345369, -0.06028316,  0.0388557 ,\n",
       "         -0.01882592, -0.13660787, -0.20669609,  0.21788046, -0.00497986,\n",
       "          0.04515152,  0.11357987, -0.01204979,  0.04332432, -0.04136169,\n",
       "          0.04521377, -0.09179429,  0.        , -0.15814518,  0.02036913,\n",
       "         -0.03691559, -0.10322297,  0.22096315, -0.01561043,  0.        ,\n",
       "         -0.00837596,  0.12967979, -0.00262613,  0.06344719,  0.07680412,\n",
       "         -0.25789696, -0.24153824,  0.01875085,  0.05013609, -0.04984656,\n",
       "          0.00715406, -0.12097807, -0.01351613,  0.28527629,  0.21146144,\n",
       "         -0.05043871, -0.01413003,  0.06400894,  0.01836544,  0.13581893,\n",
       "         -0.15375852,  0.01468576, -0.07045983,  0.02037431])),\n",
       " (0.11932898442658342,\n",
       "  array([ 0.        ,  0.15952185,  0.00279407,  0.16170552, -0.1091178 ,\n",
       "          0.06825942, -0.20311766,  0.11781542, -0.00496137,  0.09784895,\n",
       "         -0.18547591, -0.10593493,  0.09822998,  0.17382851,  0.19203558,\n",
       "         -0.12097392,  0.02502165, -0.09158421,  0.28102901,  0.06584509,\n",
       "         -0.11122851, -0.31923577, -0.08927458,  0.05847572, -0.03570554,\n",
       "          0.12548639, -0.30376177, -0.12185977,  0.13821861,  0.22296084,\n",
       "          0.00063664, -0.03773363,  0.        , -0.07750247,  0.1265493 ,\n",
       "          0.18326537, -0.17907648, -0.13358874, -0.02130298,  0.        ,\n",
       "         -0.01078475,  0.12857112, -0.16574599, -0.08512499,  0.13500063,\n",
       "          0.12882897,  0.03343629,  0.01965998,  0.0244045 , -0.00668856,\n",
       "          0.0557631 ,  0.06446589, -0.09864573, -0.08284866,  0.1059368 ,\n",
       "         -0.05562925,  0.00477981, -0.15968911, -0.03734357, -0.10874883,\n",
       "          0.1300867 , -0.10209496, -0.1001308 ,  0.09544181])),\n",
       " (0.11188654747493039,\n",
       "  array([ 0.00000000e+00, -2.03051327e-01, -7.68724457e-02,  2.27597560e-01,\n",
       "         -9.94639156e-02, -3.97969454e-03,  1.00775018e-01,  1.55169061e-04,\n",
       "         -1.80135337e-02,  6.38935892e-02,  4.21116009e-01, -9.56718063e-02,\n",
       "          4.37650607e-03,  2.01758248e-01, -1.08086892e-01, -1.80383595e-02,\n",
       "         -4.89663315e-03, -6.63634193e-02, -3.10357567e-01,  2.51156433e-01,\n",
       "         -1.12755602e-01, -1.68382925e-01,  5.45993627e-02,  1.74341509e-02,\n",
       "         -9.18135955e-03, -7.85013142e-04,  1.83987491e-01, -1.28726691e-01,\n",
       "          4.30560820e-02,  1.14404203e-01, -8.69929858e-02,  1.96737021e-02,\n",
       "          0.00000000e+00, -1.05903162e-01,  7.21047764e-02,  4.95893694e-03,\n",
       "          8.38893548e-02, -1.32269102e-01,  8.57994540e-02,  0.00000000e+00,\n",
       "         -1.87185053e-02,  1.75608760e-01, -2.01213684e-01,  6.56852700e-02,\n",
       "         -1.14028445e-01,  3.86597589e-02, -2.33888104e-02, -1.43665061e-02,\n",
       "         -5.76958945e-03, -6.00589553e-02,  6.39215095e-02, -4.84294879e-02,\n",
       "          8.15311605e-02, -5.67595142e-02,  3.45556457e-02, -2.93318553e-02,\n",
       "         -4.59734968e-03,  2.59513157e-01, -2.49215539e-01, -1.81839061e-01,\n",
       "          1.06037461e-01, -1.10157994e-01,  8.59937001e-02, -2.98885846e-02])),\n",
       " (0.10250433829678897,\n",
       "  array([ 0.        ,  0.13413411, -0.06783033,  0.06972657, -0.03340228,\n",
       "          0.15644197, -0.27253385,  0.22810804,  0.00565003, -0.06774383,\n",
       "          0.1252594 ,  0.0511437 , -0.00907954, -0.16581446,  0.32122861,\n",
       "         -0.31182244, -0.00696203,  0.04070533, -0.12768518,  0.00439005,\n",
       "          0.10656124, -0.00835749, -0.22008506,  0.26605958,  0.00527913,\n",
       "         -0.04011439,  0.14668224,  0.01111468, -0.16258428,  0.1788207 ,\n",
       "          0.01441402, -0.09354824,  0.        ,  0.03295918, -0.12074333,\n",
       "         -0.04594314,  0.13865798, -0.14391991, -0.0327897 ,  0.        ,\n",
       "         -0.01550145, -0.00620837,  0.04410869,  0.04698355, -0.09791888,\n",
       "          0.04646829,  0.2498195 , -0.04157865,  0.06723894,  0.00121597,\n",
       "          0.00920244, -0.09511992,  0.06953803, -0.0162098 , -0.30990051,\n",
       "          0.07327854, -0.0137848 , -0.10614013, -0.021497  ,  0.01961082,\n",
       "         -0.08700708,  0.0528537 ,  0.19362432, -0.1047503 ])),\n",
       " (0.09840876078171319,\n",
       "  array([ 0.00000000e+00,  5.62509684e-01,  3.62546676e-02,  5.75661282e-02,\n",
       "         -6.62925186e-04, -6.09812584e-02,  1.17627641e-01, -4.15765922e-02,\n",
       "          3.18267592e-02, -3.40323213e-01,  1.99215178e-01, -7.42433210e-03,\n",
       "         -1.00221270e-02,  1.08647035e-01, -1.25084755e-01,  4.21324590e-02,\n",
       "         -1.49775256e-02,  2.21620473e-01, -1.37817067e-01,  8.97353819e-02,\n",
       "         -8.17360690e-02, -7.04288772e-02,  9.32440943e-02, -4.00458119e-02,\n",
       "         -4.76604963e-03, -1.40207290e-01,  2.83102332e-02, -5.54824311e-02,\n",
       "          1.19429333e-01, -4.47729844e-02, -4.00121237e-02,  3.14695053e-02,\n",
       "          0.00000000e+00,  1.34969098e-01,  5.24639738e-02, -4.44830593e-02,\n",
       "         -2.78063441e-02,  1.36996564e-02,  4.16232856e-03,  0.00000000e+00,\n",
       "         -1.04942840e-02, -8.59920432e-02, -7.35334162e-02,  1.17648478e-01,\n",
       "          2.05271708e-02, -1.89382994e-02, -1.58181022e-02,  1.70632708e-03,\n",
       "         -2.97958768e-02,  1.07060328e-01,  3.43165777e-03, -8.69377596e-02,\n",
       "          3.35980600e-02,  4.07440700e-02,  5.99524367e-02, -3.16217119e-02,\n",
       "          5.04885403e-02, -4.83329091e-01, -1.14765053e-01, -6.08256593e-02,\n",
       "         -3.10331191e-02,  2.82994152e-03, -3.41660552e-03,  5.59156826e-04])),\n",
       " (0.09018543006585251,\n",
       "  array([ 0.        ,  0.06475128, -0.02495864,  0.08074431, -0.07020189,\n",
       "          0.18684781, -0.10376805,  0.04988402,  0.02035039, -0.09352853,\n",
       "          0.00933618, -0.00305228,  0.03268465, -0.13285286,  0.06312997,\n",
       "         -0.03806332, -0.00074155,  0.02764576,  0.02557669, -0.06720667,\n",
       "          0.06272905,  0.18653417, -0.04195422,  0.04469559, -0.01188228,\n",
       "          0.03420707, -0.06847165,  0.20188212, -0.21791151, -0.02595231,\n",
       "         -0.07107331, -0.01622435,  0.        , -0.06588519,  0.09814447,\n",
       "         -0.17771046,  0.17148323,  0.053525  ,  0.10540147,  0.        ,\n",
       "         -0.0010172 ,  0.02081396,  0.01804176,  0.0349343 , -0.09285071,\n",
       "         -0.09881364, -0.29002649,  0.01754743,  0.00987405,  0.02749646,\n",
       "         -0.05276317,  0.02716498, -0.11165177,  0.12000548,  0.33000123,\n",
       "         -0.08539766, -0.00862756, -0.04401774,  0.04354276, -0.13743196,\n",
       "          0.28399259, -0.52516707,  0.18088455, -0.01941507])),\n",
       " (0.08246812302637736,\n",
       "  array([ 0.        , -0.01318845,  0.09835672,  0.0679316 , -0.04522332,\n",
       "          0.22104682, -0.18508088,  0.07956645,  0.01067971, -0.02249482,\n",
       "          0.07929021, -0.08042561,  0.14913585, -0.27301821,  0.13089237,\n",
       "         -0.06447496, -0.0128829 , -0.00263921, -0.10073219,  0.10342781,\n",
       "         -0.17284026,  0.23155638, -0.11109535,  0.04237557,  0.01204031,\n",
       "         -0.04537011,  0.17623976, -0.14329953,  0.1436723 , -0.19638875,\n",
       "          0.12567078, -0.0214161 ,  0.        ,  0.00274384, -0.14401885,\n",
       "          0.07964269, -0.08671533,  0.03748968,  0.05268557,  0.        ,\n",
       "          0.00684332, -0.02676569,  0.0821109 , -0.0517995 , -0.07563183,\n",
       "          0.12141176, -0.2771721 ,  0.04555535,  0.00780961,  0.00855586,\n",
       "         -0.00444542,  0.00293883,  0.09636475, -0.25708466,  0.33374831,\n",
       "         -0.06340147, -0.00728983, -0.00666049, -0.10226882, -0.00586668,\n",
       "         -0.04100218,  0.22259502, -0.31342585,  0.1238709 ])),\n",
       " (0.07635394259647428,\n",
       "  array([ 0.        , -0.02365769,  0.10149097, -0.06072133,  0.03574447,\n",
       "         -0.10900432,  0.07971921, -0.0064046 ,  0.00535697, -0.04547924,\n",
       "         -0.01264569,  0.05742927, -0.11643075,  0.19866459, -0.01930553,\n",
       "         -0.0480013 , -0.00624879,  0.03913447, -0.05863965, -0.12205993,\n",
       "          0.22658049, -0.3162099 ,  0.04123866,  0.024806  ,  0.01076151,\n",
       "         -0.05899815,  0.12330746,  0.03985975, -0.17460327,  0.32364232,\n",
       "         -0.11186462,  0.01851765,  0.        ,  0.11423587, -0.24723907,\n",
       "          0.03733399,  0.1016838 , -0.240729  ,  0.13790416,  0.        ,\n",
       "         -0.00177015, -0.11484066,  0.3408933 , -0.18487704, -0.09947279,\n",
       "          0.13651417, -0.17427013,  0.01567499, -0.0095889 ,  0.05723518,\n",
       "         -0.21388808,  0.12511383,  0.02852516, -0.15225194,  0.2194412 ,\n",
       "         -0.01303791,  0.00640249, -0.02965407,  0.05744381, -0.04570922,\n",
       "          0.05899678,  0.03895629, -0.16238234,  0.04737627])),\n",
       " (0.06328961499153338,\n",
       "  array([ 0.        ,  0.02286723, -0.13928088, -0.01543367,  0.01314418,\n",
       "         -0.07458465,  0.00227485,  0.00151911,  0.00828834, -0.01723865,\n",
       "         -0.08140734,  0.02664446, -0.01901156,  0.0212524 ,  0.01078062,\n",
       "         -0.00229604, -0.00220018,  0.02408232,  0.10759333, -0.0999351 ,\n",
       "          0.0178074 , -0.00489534,  0.02223536, -0.0041767 ,  0.00099181,\n",
       "          0.0526973 , -0.20338206,  0.17684762, -0.11554218,  0.04699692,\n",
       "         -0.06511411, -0.00040087,  0.        , -0.13628441,  0.33158883,\n",
       "         -0.28228052,  0.22240363, -0.16656255,  0.13922085,  0.        ,\n",
       "         -0.00739064,  0.05116923, -0.21928291,  0.27310392, -0.30385542,\n",
       "          0.1494115 , -0.12762375,  0.00325544, -0.00534706, -0.0052593 ,\n",
       "          0.08707159, -0.17405993,  0.21728447, -0.20488627,  0.07258228,\n",
       "         -0.01292363, -0.00475565, -0.00351428,  0.07634566,  0.11062336,\n",
       "         -0.14311531,  0.28973585, -0.16579143,  0.0597884 ])),\n",
       " (0.05037444015485419,\n",
       "  array([ 0.00000000e+00,  2.63543730e-02, -6.86446465e-01,  1.81884426e-02,\n",
       "         -5.62871410e-02,  1.70256565e-03, -5.39218602e-03, -6.46775841e-03,\n",
       "          2.39194501e-03, -6.34492444e-02,  1.48848352e-01, -5.72767810e-02,\n",
       "          3.43209796e-02,  6.53806718e-03, -8.90595100e-03,  2.43445487e-02,\n",
       "         -6.19002620e-05,  2.91412128e-02, -5.41669180e-02,  7.17909643e-02,\n",
       "         -6.71624909e-02, -8.65165665e-03, -7.67037762e-03, -1.44687673e-02,\n",
       "         -6.69170093e-03, -3.02273654e-02,  4.40224186e-02, -6.31584146e-02,\n",
       "          6.16493000e-02, -3.42357138e-03,  1.71865786e-02,  4.15876039e-03,\n",
       "          0.00000000e+00,  2.27147025e-02, -4.70543283e-02,  6.80113625e-02,\n",
       "         -5.84786283e-02,  6.82784298e-03, -5.31695478e-03,  0.00000000e+00,\n",
       "         -6.32175884e-04, -3.45569071e-03,  2.36720212e-02, -5.80446710e-02,\n",
       "          5.15540184e-02,  2.41321865e-03, -7.17304451e-03, -1.54160304e-03,\n",
       "         -3.54045325e-03,  1.79281080e-02, -5.06577276e-02,  3.55023569e-02,\n",
       "          1.29332369e-02, -3.98145930e-02,  2.69080010e-02,  1.35049250e-02,\n",
       "         -1.12061985e-02,  4.59261505e-03,  6.56807202e-01, -4.29716757e-02,\n",
       "          8.65606400e-02,  2.06380725e-02, -4.66390464e-02,  2.34476976e-02])),\n",
       " (0.0,\n",
       "  array([1., 0., 0., 0., 0., 0., 0., 0., 0., 0., 0., 0., 0., 0., 0., 0., 0.,\n",
       "         0., 0., 0., 0., 0., 0., 0., 0., 0., 0., 0., 0., 0., 0., 0., 0., 0.,\n",
       "         0., 0., 0., 0., 0., 0., 0., 0., 0., 0., 0., 0., 0., 0., 0., 0., 0.,\n",
       "         0., 0., 0., 0., 0., 0., 0., 0., 0., 0., 0., 0., 0.])),\n",
       " (0.0,\n",
       "  array([0., 0., 0., 0., 0., 0., 0., 0., 0., 0., 0., 0., 0., 0., 0., 0., 0.,\n",
       "         0., 0., 0., 0., 0., 0., 0., 0., 0., 0., 0., 0., 0., 0., 0., 1., 0.,\n",
       "         0., 0., 0., 0., 0., 0., 0., 0., 0., 0., 0., 0., 0., 0., 0., 0., 0.,\n",
       "         0., 0., 0., 0., 0., 0., 0., 0., 0., 0., 0., 0., 0.])),\n",
       " (0.0,\n",
       "  array([0., 0., 0., 0., 0., 0., 0., 0., 0., 0., 0., 0., 0., 0., 0., 0., 0.,\n",
       "         0., 0., 0., 0., 0., 0., 0., 0., 0., 0., 0., 0., 0., 0., 0., 0., 0.,\n",
       "         0., 0., 0., 0., 0., 1., 0., 0., 0., 0., 0., 0., 0., 0., 0., 0., 0.,\n",
       "         0., 0., 0., 0., 0., 0., 0., 0., 0., 0., 0., 0., 0.]))]"
      ]
     },
     "execution_count": 102,
     "metadata": {},
     "output_type": "execute_result"
    }
   ],
   "source": [
    "eigenpairs"
   ]
  },
  {
   "cell_type": "code",
   "execution_count": 103,
   "id": "682ea7cb-d67b-433e-b3c4-e6cd2f3ca63a",
   "metadata": {},
   "outputs": [
    {
     "name": "stdout",
     "output_type": "stream",
     "text": [
      "Cumulative Explained Variance:\n",
      "[0.12033916 0.21594971 0.30039385 0.36537793 0.41397948 0.45612068\n",
      " 0.49554151 0.52943532 0.55941753 0.58873755 0.61655561 0.64232616\n",
      " 0.66507919 0.68735099 0.70900328 0.72814495 0.74590042 0.76228111\n",
      " 0.77824572 0.79313763 0.80661732 0.81933664 0.83099501 0.84157148\n",
      " 0.85132464 0.86077023 0.86940036 0.87776679 0.88574372 0.89320844\n",
      " 0.90046426 0.90738337 0.91392246 0.92033038 0.92624422 0.93195585\n",
      " 0.93719222 0.94201029 0.94654748 0.95077911 0.95483964 0.95881049\n",
      " 0.96237542 0.9657833  0.96906165 0.97217197 0.97505772 0.97782262\n",
      " 0.98041436 0.98275919 0.98494176 0.98697774 0.98893286 0.99076605\n",
      " 0.99244551 0.99405787 0.9955355  0.99688668 0.99813769 0.99917465\n",
      " 1.         1.         1.         1.        ]\n"
     ]
    }
   ],
   "source": [
    "total_variance = sum(eigenvalues)\n",
    "explained_variance = [(i / total_variance) for i in sorted(eigenvalues, reverse=True)]\n",
    "# Eigenvalues represent the magnitude of variance and eigen vector represent the direction\n",
    "\n",
    "# Calculate cumulative explained variance #cumsum is used to calculate cumulative sum\n",
    "cumulative_explained_variance = np.cumsum(explained_variance)\n",
    "\n",
    "# Print cumulative explained variance for each component\n",
    "print(\"Cumulative Explained Variance:\")\n",
    "print(cumulative_explained_variance)"
   ]
  },
  {
   "cell_type": "code",
   "execution_count": 104,
   "id": "0854e9ce-ae3e-4138-866a-47f2a3ea54d2",
   "metadata": {},
   "outputs": [
    {
     "data": {
      "text/plain": [
       "61.0339643652563"
      ]
     },
     "execution_count": 104,
     "metadata": {},
     "output_type": "execute_result"
    }
   ],
   "source": [
    "total_variance"
   ]
  },
  {
   "cell_type": "markdown",
   "id": "b2c3fe81-62a5-4a8d-b453-2764ae676b3c",
   "metadata": {},
   "source": [
    "**Maximum Cumulative variance is B.100**"
   ]
  },
  {
   "cell_type": "markdown",
   "id": "9d235f9e-2e9a-418b-b863-c80a38556b53",
   "metadata": {},
   "source": [
    "**6) Why is cumulative explained variance required before applying PCA?**\n",
    "\n",
    "**A.To check the maximum components to be selected**\n",
    "\n",
    "**B.All of the above**\n",
    "\n",
    "**C.To check the minimum components to be selected**\n",
    "\n",
    "**D.To check the distribution of the data**"
   ]
  },
  {
   "cell_type": "markdown",
   "id": "99d72348-6ce1-42d0-ae01-2fc0cabb2931",
   "metadata": {},
   "source": [
    "**Answer is B. All of the above**"
   ]
  },
  {
   "attachments": {
    "b9abc8ad-6bfe-40ae-bd60-f9aeb12d3a3e.png": {
     "image/png": "[encoded data removed]"
    }
   },
   "cell_type": "markdown",
   "id": "98bcc3a1-9c8f-4d94-bd56-f1b788670f97",
   "metadata": {},
   "source": [
    "![image.png](attachment:b9abc8ad-6bfe-40ae-bd60-f9aeb12d3a3e.png)"
   ]
  },
  {
   "cell_type": "markdown",
   "id": "565b509f-f416-43a3-91ca-c3e47f1d51f6",
   "metadata": {},
   "source": [
    "**The correct answer is 10-20**\n",
    "\n",
    "**After the 20th component, there is not much variance left**"
   ]
  },
  {
   "cell_type": "markdown",
   "id": "3e5e7abc-ad52-4ab6-812c-957c8920c389",
   "metadata": {},
   "source": [
    "**8) Fit the data to PCA and compute the maximum explained_variance_ratio?**\n",
    "\n",
    "**A. 0.9, B. 0.011, C. 0.012, D. 0.12**"
   ]
  },
  {
   "cell_type": "code",
   "execution_count": 111,
   "id": "76c7524d-1c38-4397-aea3-f1310344de8f",
   "metadata": {},
   "outputs": [],
   "source": [
    "pca = PCA()"
   ]
  },
  {
   "cell_type": "code",
   "execution_count": 112,
   "id": "cf55df95-536b-4cf5-8b88-4f6314b4a710",
   "metadata": {},
   "outputs": [],
   "source": [
    "pca_X = pca.fit_transform(scaled_X)"
   ]
  },
  {
   "cell_type": "code",
   "execution_count": 113,
   "id": "a8fd606b-a0cb-4668-9a91-1eaae976a604",
   "metadata": {},
   "outputs": [],
   "source": [
    "pca_X = pd.DataFrame(pca_X)"
   ]
  },
  {
   "cell_type": "code",
   "execution_count": 114,
   "id": "e3b00b00-fb92-4069-90fc-3520e71397eb",
   "metadata": {},
   "outputs": [
    {
     "name": "stdout",
     "output_type": "stream",
     "text": [
      "Explained variance ratio: [1.20339161e-01 9.56105440e-02 8.44441489e-02 6.49840791e-02\n",
      " 4.86015488e-02 4.21411987e-02 3.94208280e-02 3.38938092e-02\n",
      " 2.99822101e-02 2.93200255e-02 2.78180546e-02 2.57705509e-02\n",
      " 2.27530332e-02 2.22717974e-02 2.16522943e-02 1.91416661e-02\n",
      " 1.77554709e-02 1.63806927e-02 1.59646017e-02 1.48919119e-02\n",
      " 1.34796957e-02 1.27193137e-02 1.16583735e-02 1.05764660e-02\n",
      " 9.75315947e-03 9.44558990e-03 8.63013827e-03 8.36642854e-03\n",
      " 7.97693248e-03 7.46471371e-03 7.25582151e-03 6.91911245e-03\n",
      " 6.53908536e-03 6.40792574e-03 5.91384112e-03 5.71162405e-03\n",
      " 5.23636803e-03 4.81807586e-03 4.53719260e-03 4.23162753e-03\n",
      " 4.06053070e-03 3.97084808e-03 3.56493303e-03 3.40787181e-03\n",
      " 3.27835335e-03 3.11032007e-03 2.88575294e-03 2.76489264e-03\n",
      " 2.59174941e-03 2.34483006e-03 2.18256858e-03 2.03597635e-03\n",
      " 1.95512426e-03 1.83318499e-03 1.67946387e-03 1.61236062e-03\n",
      " 1.47762694e-03 1.35118411e-03 1.25100742e-03 1.03695730e-03\n",
      " 8.25350945e-04 3.23475858e-33 6.39352227e-34 6.29595280e-34]\n"
     ]
    }
   ],
   "source": [
    "print(f\"Explained variance ratio: {pca.explained_variance_ratio_}\")"
   ]
  },
  {
   "cell_type": "code",
   "execution_count": 115,
   "id": "3986a847-5f12-42cb-a397-d176ab219e40",
   "metadata": {},
   "outputs": [],
   "source": [
    "max_evr = np.max(pca.explained_variance_ratio_)"
   ]
  },
  {
   "cell_type": "code",
   "execution_count": 116,
   "id": "04e328d6-1199-4ec8-b8e8-dcb78df560fb",
   "metadata": {},
   "outputs": [
    {
     "data": {
      "text/plain": [
       "0.12033916097734879"
      ]
     },
     "execution_count": 116,
     "metadata": {},
     "output_type": "execute_result"
    }
   ],
   "source": [
    "max_evr"
   ]
  },
  {
   "cell_type": "markdown",
   "id": "3f26811a-3b7a-4a81-b884-6febd3a47c7f",
   "metadata": {},
   "source": [
    "**Answer is D**"
   ]
  },
  {
   "cell_type": "markdown",
   "id": "a2af72e7-29f8-463a-ac1b-b9203b3be1b6",
   "metadata": {},
   "source": [
    "**9) Which of the following is the correct syntax for finding the eigenvalues and eigenvectors with give covariance matric (cov_mat)?**\n",
    "\n",
    "**A. eig_vals, eig_vecs =np.linalg.eig(cov_mat)**\n",
    "\n",
    "**B. eig_vals, eig_vecs =np.linalg.eig()**\n",
    "\n",
    "**C. eig_vals, eig_vecs =np.eigen_val()**\n",
    "\n",
    "**D. eig_vals, eig_vecs =np.linalg(cov_mat)**"
   ]
  },
  {
   "cell_type": "markdown",
   "id": "740afc85-48b7-4cb5-a591-48ae9a509a72",
   "metadata": {},
   "source": [
    "**Answer is A**"
   ]
  },
  {
   "cell_type": "markdown",
   "id": "8a889649-fd32-4b0a-9cee-047e90caf4e6",
   "metadata": {},
   "source": [
    "**10) Choose the correct order of steps to choose principal components: A . compute the covariance matrix. B. choose the principal components from Eigen values and Vectors. C. collecting the data. D. compute Eigen values and vectors. E.  standardization.**\n",
    "\n",
    "**A. E->D->C->D->B**\n",
    "\n",
    "**B. A->C->E->D->B**\n",
    "\n",
    "**C. none of the above**\n",
    "\n",
    "**D. C->E->A->D->B**"
   ]
  },
  {
   "cell_type": "markdown",
   "id": "7488b90b-40cd-4c30-ad57-9bd64ab963e9",
   "metadata": {},
   "source": [
    "**Answer is D**"
   ]
  },
  {
   "cell_type": "markdown",
   "id": "be3e4d9e-4471-45b4-b3a5-ee9d133b43aa",
   "metadata": {},
   "source": [
    "**11) What correction is required in the following lines of code to create covariance matrix?**\n",
    "\n",
    "**scaler = StandardScaler(), standardized_data = scaler.fit_transform(data), covariance_matrix = np.cov(standardized_data)**\n",
    "\n",
    "**A. Need to flatten the standardized_data.**\n",
    "\n",
    "**B. Need to perform transpose of standardized_data**\n",
    "\n",
    "**C. Need to find eigen values and eigen Vectors before standardization.**\n",
    "\n",
    "**D. All of the above**"
   ]
  },
  {
   "cell_type": "markdown",
   "id": "b67556c3-f90f-40e2-812f-77b845f62209",
   "metadata": {},
   "source": [
    "**Answer is B**\n",
    "\n",
    "**When we calculate the covariance matrix using Numpy, it considers rows as features and columns as observations by default. Hence, we perform the transpose, so the rows are represented as observation and column as features**\n",
    "\n",
    "**In Pandas Dataframe, we have .cov() method to calculate covariance, we don't need to perform transpose if we are using pandas function .cov() to calculate covariance because in dataframe, columns are taken as features and rows as observations by default**"
   ]
  },
  {
   "cell_type": "markdown",
   "id": "72b1e0ae-4b76-4032-be41-1314049c97fe",
   "metadata": {},
   "source": [
    "**12) What exactly do you understand by the given code?**\n",
    "\n",
    "**pca = PCA(n_components=0.95)**\n",
    "\n",
    "**A. The components should have 0.95 probability in the dataset.**\n",
    "\n",
    "**B. We are looking for the principal components that cumulatively explain 95% of the variance in the data.**\n",
    "\n",
    "**C. We are looking for the components that explains 95% of the standard deviation in the data.**\n",
    "\n",
    "**D. We are looking for the components that accumulated to the total of 95% of the mean in the data.**"
   ]
  },
  {
   "cell_type": "markdown",
   "id": "a7590d6e-d8f7-43dd-a952-aba27d82ad72",
   "metadata": {},
   "source": [
    "**Answer is B**"
   ]
  },
  {
   "cell_type": "markdown",
   "id": "32b2fcbe-fe6c-482f-9daa-b9b540d11945",
   "metadata": {},
   "source": [
    "**13) How is the first principal component determined in PCA?**\n",
    "\n",
    "**A. It is the component with the least variance.**\n",
    "\n",
    "**B. It is the component with the median variance.**\n",
    "\n",
    "**C. It is randomly selected.**\n",
    "\n",
    "**D. It is the component with the most variance.**"
   ]
  },
  {
   "cell_type": "markdown",
   "id": "d1bd5ad2-e4ca-4a0f-ac50-55c7bfe7a1cd",
   "metadata": {},
   "source": [
    "**Answer is D**"
   ]
  },
  {
   "cell_type": "markdown",
   "id": "09870beb-396b-4e4b-aca7-c134c10844fc",
   "metadata": {},
   "source": [
    "**14) 14) Which of the following non-zero vector stays parallel after matrix multiplication**\n",
    "\n",
    "**A. EigenVector, B. Covariance vector, C. EigenValue D. Explained variance ratio**"
   ]
  },
  {
   "cell_type": "markdown",
   "id": "c539f4ca-1ea8-48fe-8576-3f1826a6ae6c",
   "metadata": {},
   "source": [
    "**Answer is A**\n",
    "\n",
    "**Ax = (lambda)x When we multiply an eigen vector with another matrix, the resultant vecotor takes the shape of eigen vector. If you multiply a 2x2 matrix with an eign vecotor 2x1, the resultant matrix is 2x1. The resultant matrix has the same shape as eigen vector. Hence, it stays parallel, only the eigen values, that is the magnitude changes**"
   ]
  },
  {
   "cell_type": "markdown",
   "id": "87385e3a-37ee-4ab5-9630-ef5fc7111b0d",
   "metadata": {},
   "source": [
    "**15) The Output of PCA is always a new representation of data with a lower dimension than the original data representation.**\n",
    "\n",
    "**False, True**"
   ]
  },
  {
   "cell_type": "markdown",
   "id": "d38c37b9-666d-4b14-93f5-8e0795b76690",
   "metadata": {},
   "source": [
    "**Answer is True**"
   ]
  },
  {
   "cell_type": "markdown",
   "id": "f25c02de-7b22-421d-9fc2-9c5a60d3ecca",
   "metadata": {},
   "source": [
    "**16) What is the difference between PCA and Linear Regression?**\n",
    "\n",
    "**A. Horizontal distance calculated in PCA, Manhattan distance calculated in Linear Regression.**\n",
    "\n",
    "**B. Vertical distance calculated in PCA, Euclidean distance calculated in Linear Regression**\n",
    "\n",
    "**C. Euclidean distance calculated in PCA, Vertical distance calculated in Linear Regression.**\n",
    "\n",
    "**D. Manhattan distance calculated in PCA, Horizontal distance calculated in Linear Regression**"
   ]
  },
  {
   "cell_type": "markdown",
   "id": "2093610c-74b2-4a03-bdf3-eb6f4c8cd67c",
   "metadata": {},
   "source": [
    "**Answer is B**"
   ]
  },
  {
   "cell_type": "markdown",
   "id": "348f1886-95a3-4633-a6a4-70c6ae232897",
   "metadata": {},
   "source": [
    "**17) How to Determine the number of principal components to retain in PCA?**\n",
    "\n",
    "**A. None of the above**\n",
    "\n",
    "**B. Elbow plot**\n",
    "\n",
    "**C. Residual plot**\n",
    "\n",
    "**D. Cumulative variance plot**"
   ]
  },
  {
   "cell_type": "markdown",
   "id": "4f4364d9-7a13-4c87-abba-7cc0327ad157",
   "metadata": {},
   "source": [
    "**Answer is D**"
   ]
  }
 ],
 "metadata": {
  "kernelspec": {
   "display_name": "Python 3 (ipykernel)",
   "language": "python",
   "name": "python3"
  },
  "language_info": {
   "codemirror_mode": {
    "name": "ipython",
    "version": 3
   },
   "file_extension": ".py",
   "mimetype": "text/x-python",
   "name": "python",
   "nbconvert_exporter": "python",
   "pygments_lexer": "ipython3",
   "version": "3.12.3"
  }
 },
 "nbformat": 4,
 "nbformat_minor": 5
}
