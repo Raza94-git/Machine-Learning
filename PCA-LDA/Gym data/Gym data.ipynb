{
 "cells": [
  {
   "cell_type": "markdown",
   "id": "e2a39068-5281-4bfe-9bba-edf6ca36df1d",
   "metadata": {},
   "source": [
    "# Performing PCA and implementing Linear Regression Model"
   ]
  },
  {
   "cell_type": "markdown",
   "id": "44a0a9a2-0037-4f4e-a7ed-8a1305eee4f4",
   "metadata": {},
   "source": [
    "## Import preliminary libraries"
   ]
  },
  {
   "cell_type": "code",
   "execution_count": 2,
   "id": "98d80f81-e0c6-4180-a1d5-8a4338c573b0",
   "metadata": {},
   "outputs": [],
   "source": [
    "import numpy as np\n",
    "import pandas as pd\n",
    "import matplotlib.pyplot as plt\n",
    "import seaborn as sns\n",
    "import warnings\n",
    "warnings.filterwarnings(\"ignore\")"
   ]
  },
  {
   "cell_type": "markdown",
   "id": "9408698c-4228-45c7-85d7-21a9b34c8c8b",
   "metadata": {},
   "source": [
    "## Loading the dataset"
   ]
  },
  {
   "cell_type": "code",
   "execution_count": 4,
   "id": "201462bc-8c06-438e-a271-c915212665c6",
   "metadata": {},
   "outputs": [],
   "source": [
    "df = pd.read_csv(\"GYM.csv\")"
   ]
  },
  {
   "cell_type": "code",
   "execution_count": 5,
   "id": "cbdc5671-cfb4-450d-819b-5bdf2a032593",
   "metadata": {},
   "outputs": [
    {
     "data": {
      "text/html": [
       "<div>\n",
       "<style scoped>\n",
       "    .dataframe tbody tr th:only-of-type {\n",
       "        vertical-align: middle;\n",
       "    }\n",
       "\n",
       "    .dataframe tbody tr th {\n",
       "        vertical-align: top;\n",
       "    }\n",
       "\n",
       "    .dataframe thead th {\n",
       "        text-align: right;\n",
       "    }\n",
       "</style>\n",
       "<table border=\"1\" class=\"dataframe\">\n",
       "  <thead>\n",
       "    <tr style=\"text-align: right;\">\n",
       "      <th></th>\n",
       "      <th>number_people</th>\n",
       "      <th>day_of_week</th>\n",
       "      <th>is_weekend</th>\n",
       "      <th>is_holiday</th>\n",
       "      <th>temperature</th>\n",
       "      <th>is_start_of_semester</th>\n",
       "      <th>is_during_semester</th>\n",
       "      <th>month</th>\n",
       "      <th>hour</th>\n",
       "    </tr>\n",
       "  </thead>\n",
       "  <tbody>\n",
       "    <tr>\n",
       "      <th>0</th>\n",
       "      <td>37</td>\n",
       "      <td>4</td>\n",
       "      <td>0</td>\n",
       "      <td>0</td>\n",
       "      <td>71.76</td>\n",
       "      <td>0</td>\n",
       "      <td>0</td>\n",
       "      <td>8</td>\n",
       "      <td>17</td>\n",
       "    </tr>\n",
       "    <tr>\n",
       "      <th>1</th>\n",
       "      <td>45</td>\n",
       "      <td>4</td>\n",
       "      <td>0</td>\n",
       "      <td>0</td>\n",
       "      <td>71.76</td>\n",
       "      <td>0</td>\n",
       "      <td>0</td>\n",
       "      <td>8</td>\n",
       "      <td>17</td>\n",
       "    </tr>\n",
       "    <tr>\n",
       "      <th>2</th>\n",
       "      <td>40</td>\n",
       "      <td>4</td>\n",
       "      <td>0</td>\n",
       "      <td>0</td>\n",
       "      <td>71.76</td>\n",
       "      <td>0</td>\n",
       "      <td>0</td>\n",
       "      <td>8</td>\n",
       "      <td>17</td>\n",
       "    </tr>\n",
       "    <tr>\n",
       "      <th>3</th>\n",
       "      <td>44</td>\n",
       "      <td>4</td>\n",
       "      <td>0</td>\n",
       "      <td>0</td>\n",
       "      <td>71.76</td>\n",
       "      <td>0</td>\n",
       "      <td>0</td>\n",
       "      <td>8</td>\n",
       "      <td>17</td>\n",
       "    </tr>\n",
       "    <tr>\n",
       "      <th>4</th>\n",
       "      <td>45</td>\n",
       "      <td>4</td>\n",
       "      <td>0</td>\n",
       "      <td>0</td>\n",
       "      <td>71.76</td>\n",
       "      <td>0</td>\n",
       "      <td>0</td>\n",
       "      <td>8</td>\n",
       "      <td>17</td>\n",
       "    </tr>\n",
       "  </tbody>\n",
       "</table>\n",
       "</div>"
      ],
      "text/plain": [
       "   number_people  day_of_week  is_weekend  is_holiday  temperature  \\\n",
       "0             37            4           0           0        71.76   \n",
       "1             45            4           0           0        71.76   \n",
       "2             40            4           0           0        71.76   \n",
       "3             44            4           0           0        71.76   \n",
       "4             45            4           0           0        71.76   \n",
       "\n",
       "   is_start_of_semester  is_during_semester  month  hour  \n",
       "0                     0                   0      8    17  \n",
       "1                     0                   0      8    17  \n",
       "2                     0                   0      8    17  \n",
       "3                     0                   0      8    17  \n",
       "4                     0                   0      8    17  "
      ]
     },
     "execution_count": 5,
     "metadata": {},
     "output_type": "execute_result"
    }
   ],
   "source": [
    "df.head()"
   ]
  },
  {
   "cell_type": "markdown",
   "id": "01af62da-17e8-43b2-9d6e-9eec0b2a5dd7",
   "metadata": {},
   "source": [
    "## General Observation"
   ]
  },
  {
   "cell_type": "code",
   "execution_count": 7,
   "id": "df381cb3-5f38-4323-8cfb-46a6e51ae2ca",
   "metadata": {},
   "outputs": [
    {
     "name": "stdout",
     "output_type": "stream",
     "text": [
      "<class 'pandas.core.frame.DataFrame'>\n",
      "RangeIndex: 62184 entries, 0 to 62183\n",
      "Data columns (total 9 columns):\n",
      " #   Column                Non-Null Count  Dtype  \n",
      "---  ------                --------------  -----  \n",
      " 0   number_people         62184 non-null  int64  \n",
      " 1   day_of_week           62184 non-null  int64  \n",
      " 2   is_weekend            62184 non-null  int64  \n",
      " 3   is_holiday            62184 non-null  int64  \n",
      " 4   temperature           62184 non-null  float64\n",
      " 5   is_start_of_semester  62184 non-null  int64  \n",
      " 6   is_during_semester    62184 non-null  int64  \n",
      " 7   month                 62184 non-null  int64  \n",
      " 8   hour                  62184 non-null  int64  \n",
      "dtypes: float64(1), int64(8)\n",
      "memory usage: 4.3 MB\n"
     ]
    }
   ],
   "source": [
    "df.info()"
   ]
  },
  {
   "cell_type": "markdown",
   "id": "53b4ceed-0e46-4a70-92e3-974b1baef7a5",
   "metadata": {},
   "source": [
    "## Data Cleaning"
   ]
  },
  {
   "cell_type": "markdown",
   "id": "ba6f3493-8b7c-441d-bdb3-9784bf13798a",
   "metadata": {},
   "source": [
    "### Null Values"
   ]
  },
  {
   "cell_type": "code",
   "execution_count": 10,
   "id": "be14e3a6-961e-41f1-bc29-662b5ade995a",
   "metadata": {},
   "outputs": [
    {
     "data": {
      "text/plain": [
       "number_people           0\n",
       "day_of_week             0\n",
       "is_weekend              0\n",
       "is_holiday              0\n",
       "temperature             0\n",
       "is_start_of_semester    0\n",
       "is_during_semester      0\n",
       "month                   0\n",
       "hour                    0\n",
       "dtype: int64"
      ]
     },
     "execution_count": 10,
     "metadata": {},
     "output_type": "execute_result"
    }
   ],
   "source": [
    "df.isnull().sum()"
   ]
  },
  {
   "cell_type": "markdown",
   "id": "47d148b4-feef-4202-ad2f-17e2258cfa11",
   "metadata": {},
   "source": [
    "### Duplicate values"
   ]
  },
  {
   "cell_type": "code",
   "execution_count": 12,
   "id": "2af096d4-ebcd-4dd7-aeaf-bec42ba2dd9b",
   "metadata": {},
   "outputs": [
    {
     "data": {
      "text/plain": [
       "14218"
      ]
     },
     "execution_count": 12,
     "metadata": {},
     "output_type": "execute_result"
    }
   ],
   "source": [
    "df.duplicated().sum()"
   ]
  },
  {
   "cell_type": "code",
   "execution_count": 13,
   "id": "602d91fb-bb11-45dc-89cd-d23c4c07c8fb",
   "metadata": {},
   "outputs": [],
   "source": [
    "df_duplicated = df[df.duplicated(keep=False)]"
   ]
  },
  {
   "cell_type": "code",
   "execution_count": 14,
   "id": "b60f6c85-8256-445e-96fd-cebd22bc07b0",
   "metadata": {},
   "outputs": [
    {
     "data": {
      "text/html": [
       "<div>\n",
       "<style scoped>\n",
       "    .dataframe tbody tr th:only-of-type {\n",
       "        vertical-align: middle;\n",
       "    }\n",
       "\n",
       "    .dataframe tbody tr th {\n",
       "        vertical-align: top;\n",
       "    }\n",
       "\n",
       "    .dataframe thead th {\n",
       "        text-align: right;\n",
       "    }\n",
       "</style>\n",
       "<table border=\"1\" class=\"dataframe\">\n",
       "  <thead>\n",
       "    <tr style=\"text-align: right;\">\n",
       "      <th></th>\n",
       "      <th>number_people</th>\n",
       "      <th>day_of_week</th>\n",
       "      <th>is_weekend</th>\n",
       "      <th>is_holiday</th>\n",
       "      <th>temperature</th>\n",
       "      <th>is_start_of_semester</th>\n",
       "      <th>is_during_semester</th>\n",
       "      <th>month</th>\n",
       "      <th>hour</th>\n",
       "    </tr>\n",
       "  </thead>\n",
       "  <tbody>\n",
       "    <tr>\n",
       "      <th>1</th>\n",
       "      <td>45</td>\n",
       "      <td>4</td>\n",
       "      <td>0</td>\n",
       "      <td>0</td>\n",
       "      <td>71.76</td>\n",
       "      <td>0</td>\n",
       "      <td>0</td>\n",
       "      <td>8</td>\n",
       "      <td>17</td>\n",
       "    </tr>\n",
       "    <tr>\n",
       "      <th>4</th>\n",
       "      <td>45</td>\n",
       "      <td>4</td>\n",
       "      <td>0</td>\n",
       "      <td>0</td>\n",
       "      <td>71.76</td>\n",
       "      <td>0</td>\n",
       "      <td>0</td>\n",
       "      <td>8</td>\n",
       "      <td>17</td>\n",
       "    </tr>\n",
       "    <tr>\n",
       "      <th>6</th>\n",
       "      <td>43</td>\n",
       "      <td>4</td>\n",
       "      <td>0</td>\n",
       "      <td>0</td>\n",
       "      <td>72.15</td>\n",
       "      <td>0</td>\n",
       "      <td>0</td>\n",
       "      <td>8</td>\n",
       "      <td>18</td>\n",
       "    </tr>\n",
       "    <tr>\n",
       "      <th>9</th>\n",
       "      <td>43</td>\n",
       "      <td>4</td>\n",
       "      <td>0</td>\n",
       "      <td>0</td>\n",
       "      <td>72.15</td>\n",
       "      <td>0</td>\n",
       "      <td>0</td>\n",
       "      <td>8</td>\n",
       "      <td>18</td>\n",
       "    </tr>\n",
       "    <tr>\n",
       "      <th>23</th>\n",
       "      <td>45</td>\n",
       "      <td>4</td>\n",
       "      <td>0</td>\n",
       "      <td>0</td>\n",
       "      <td>68.04</td>\n",
       "      <td>0</td>\n",
       "      <td>0</td>\n",
       "      <td>8</td>\n",
       "      <td>21</td>\n",
       "    </tr>\n",
       "  </tbody>\n",
       "</table>\n",
       "</div>"
      ],
      "text/plain": [
       "    number_people  day_of_week  is_weekend  is_holiday  temperature  \\\n",
       "1              45            4           0           0        71.76   \n",
       "4              45            4           0           0        71.76   \n",
       "6              43            4           0           0        72.15   \n",
       "9              43            4           0           0        72.15   \n",
       "23             45            4           0           0        68.04   \n",
       "\n",
       "    is_start_of_semester  is_during_semester  month  hour  \n",
       "1                      0                   0      8    17  \n",
       "4                      0                   0      8    17  \n",
       "6                      0                   0      8    18  \n",
       "9                      0                   0      8    18  \n",
       "23                     0                   0      8    21  "
      ]
     },
     "execution_count": 14,
     "metadata": {},
     "output_type": "execute_result"
    }
   ],
   "source": [
    "df_duplicated.head()"
   ]
  },
  {
   "cell_type": "code",
   "execution_count": 15,
   "id": "6f01057d-d187-455b-ae72-4674b98f9305",
   "metadata": {},
   "outputs": [
    {
     "data": {
      "text/plain": [
       "array([4, 5, 6, 0, 1, 2, 3], dtype=int64)"
      ]
     },
     "execution_count": 15,
     "metadata": {},
     "output_type": "execute_result"
    }
   ],
   "source": [
    "df[\"day_of_week\"].unique()"
   ]
  },
  {
   "cell_type": "markdown",
   "id": "89862fe9-0985-4eb6-b9c5-189b61f98e62",
   "metadata": {},
   "source": [
    "**As we can observe, the number of people are repeated on several different days. Since, a lot of people have a fixed time at which they attend the gym, the duplicate values should not surprise us. These could be repeated over several days. If we had date column, it would have given us more insights about these duplicate rows**"
   ]
  },
  {
   "cell_type": "markdown",
   "id": "1157246d-3922-4f5f-897c-772b6f278f84",
   "metadata": {},
   "source": [
    "## Statistical Summary"
   ]
  },
  {
   "cell_type": "code",
   "execution_count": 18,
   "id": "82933199-6e92-4b79-8ea5-06ae3199802e",
   "metadata": {},
   "outputs": [
    {
     "data": {
      "text/html": [
       "<div>\n",
       "<style scoped>\n",
       "    .dataframe tbody tr th:only-of-type {\n",
       "        vertical-align: middle;\n",
       "    }\n",
       "\n",
       "    .dataframe tbody tr th {\n",
       "        vertical-align: top;\n",
       "    }\n",
       "\n",
       "    .dataframe thead th {\n",
       "        text-align: right;\n",
       "    }\n",
       "</style>\n",
       "<table border=\"1\" class=\"dataframe\">\n",
       "  <thead>\n",
       "    <tr style=\"text-align: right;\">\n",
       "      <th></th>\n",
       "      <th>count</th>\n",
       "      <th>mean</th>\n",
       "      <th>std</th>\n",
       "      <th>min</th>\n",
       "      <th>25%</th>\n",
       "      <th>50%</th>\n",
       "      <th>75%</th>\n",
       "      <th>max</th>\n",
       "    </tr>\n",
       "  </thead>\n",
       "  <tbody>\n",
       "    <tr>\n",
       "      <th>number_people</th>\n",
       "      <td>62184.0</td>\n",
       "      <td>29.072543</td>\n",
       "      <td>22.689026</td>\n",
       "      <td>0.00</td>\n",
       "      <td>9.0</td>\n",
       "      <td>28.00</td>\n",
       "      <td>43.00</td>\n",
       "      <td>145.00</td>\n",
       "    </tr>\n",
       "    <tr>\n",
       "      <th>day_of_week</th>\n",
       "      <td>62184.0</td>\n",
       "      <td>2.982504</td>\n",
       "      <td>1.996825</td>\n",
       "      <td>0.00</td>\n",
       "      <td>1.0</td>\n",
       "      <td>3.00</td>\n",
       "      <td>5.00</td>\n",
       "      <td>6.00</td>\n",
       "    </tr>\n",
       "    <tr>\n",
       "      <th>is_weekend</th>\n",
       "      <td>62184.0</td>\n",
       "      <td>0.282870</td>\n",
       "      <td>0.450398</td>\n",
       "      <td>0.00</td>\n",
       "      <td>0.0</td>\n",
       "      <td>0.00</td>\n",
       "      <td>1.00</td>\n",
       "      <td>1.00</td>\n",
       "    </tr>\n",
       "    <tr>\n",
       "      <th>is_holiday</th>\n",
       "      <td>62184.0</td>\n",
       "      <td>0.002573</td>\n",
       "      <td>0.050660</td>\n",
       "      <td>0.00</td>\n",
       "      <td>0.0</td>\n",
       "      <td>0.00</td>\n",
       "      <td>0.00</td>\n",
       "      <td>1.00</td>\n",
       "    </tr>\n",
       "    <tr>\n",
       "      <th>temperature</th>\n",
       "      <td>62184.0</td>\n",
       "      <td>58.557108</td>\n",
       "      <td>6.316396</td>\n",
       "      <td>38.14</td>\n",
       "      <td>55.0</td>\n",
       "      <td>58.34</td>\n",
       "      <td>62.28</td>\n",
       "      <td>87.17</td>\n",
       "    </tr>\n",
       "    <tr>\n",
       "      <th>is_start_of_semester</th>\n",
       "      <td>62184.0</td>\n",
       "      <td>0.078831</td>\n",
       "      <td>0.269476</td>\n",
       "      <td>0.00</td>\n",
       "      <td>0.0</td>\n",
       "      <td>0.00</td>\n",
       "      <td>0.00</td>\n",
       "      <td>1.00</td>\n",
       "    </tr>\n",
       "    <tr>\n",
       "      <th>is_during_semester</th>\n",
       "      <td>62184.0</td>\n",
       "      <td>0.660218</td>\n",
       "      <td>0.473639</td>\n",
       "      <td>0.00</td>\n",
       "      <td>0.0</td>\n",
       "      <td>1.00</td>\n",
       "      <td>1.00</td>\n",
       "      <td>1.00</td>\n",
       "    </tr>\n",
       "    <tr>\n",
       "      <th>month</th>\n",
       "      <td>62184.0</td>\n",
       "      <td>7.439824</td>\n",
       "      <td>3.445069</td>\n",
       "      <td>1.00</td>\n",
       "      <td>5.0</td>\n",
       "      <td>8.00</td>\n",
       "      <td>10.00</td>\n",
       "      <td>12.00</td>\n",
       "    </tr>\n",
       "    <tr>\n",
       "      <th>hour</th>\n",
       "      <td>62184.0</td>\n",
       "      <td>12.236460</td>\n",
       "      <td>6.717631</td>\n",
       "      <td>0.00</td>\n",
       "      <td>7.0</td>\n",
       "      <td>12.00</td>\n",
       "      <td>18.00</td>\n",
       "      <td>23.00</td>\n",
       "    </tr>\n",
       "  </tbody>\n",
       "</table>\n",
       "</div>"
      ],
      "text/plain": [
       "                        count       mean        std    min   25%    50%  \\\n",
       "number_people         62184.0  29.072543  22.689026   0.00   9.0  28.00   \n",
       "day_of_week           62184.0   2.982504   1.996825   0.00   1.0   3.00   \n",
       "is_weekend            62184.0   0.282870   0.450398   0.00   0.0   0.00   \n",
       "is_holiday            62184.0   0.002573   0.050660   0.00   0.0   0.00   \n",
       "temperature           62184.0  58.557108   6.316396  38.14  55.0  58.34   \n",
       "is_start_of_semester  62184.0   0.078831   0.269476   0.00   0.0   0.00   \n",
       "is_during_semester    62184.0   0.660218   0.473639   0.00   0.0   1.00   \n",
       "month                 62184.0   7.439824   3.445069   1.00   5.0   8.00   \n",
       "hour                  62184.0  12.236460   6.717631   0.00   7.0  12.00   \n",
       "\n",
       "                        75%     max  \n",
       "number_people         43.00  145.00  \n",
       "day_of_week            5.00    6.00  \n",
       "is_weekend             1.00    1.00  \n",
       "is_holiday             0.00    1.00  \n",
       "temperature           62.28   87.17  \n",
       "is_start_of_semester   0.00    1.00  \n",
       "is_during_semester     1.00    1.00  \n",
       "month                 10.00   12.00  \n",
       "hour                  18.00   23.00  "
      ]
     },
     "execution_count": 18,
     "metadata": {},
     "output_type": "execute_result"
    }
   ],
   "source": [
    "df.describe().T"
   ]
  },
  {
   "cell_type": "markdown",
   "id": "2bed48c1-2f96-4a87-9bc7-c0dce5452b41",
   "metadata": {},
   "source": [
    "## Visualization"
   ]
  },
  {
   "cell_type": "code",
   "execution_count": 20,
   "id": "c2ee6ca9-d197-421e-81ac-a87f4ffb56b4",
   "metadata": {},
   "outputs": [
    {
     "data": {
      "text/plain": [
       "<Axes: xlabel='hour', ylabel='Count'>"
      ]
     },
     "execution_count": 20,
     "metadata": {},
     "output_type": "execute_result"
    },
    {
     "data": {
      "image/png": "[encoded data removed]",
      "text/plain": [
       "<Figure size 640x480 with 1 Axes>"
      ]
     },
     "metadata": {},
     "output_type": "display_data"
    }
   ],
   "source": [
    "sns.histplot(x=df[\"hour\"])"
   ]
  },
  {
   "cell_type": "code",
   "execution_count": 21,
   "id": "9cc17a3f-f771-4e7b-a814-0cc373ce18db",
   "metadata": {},
   "outputs": [
    {
     "data": {
      "text/plain": [
       "<Axes: xlabel='month', ylabel='Count'>"
      ]
     },
     "execution_count": 21,
     "metadata": {},
     "output_type": "execute_result"
    },
    {
     "data": {
      "image/png": "[encoded data removed]",
      "text/plain": [
       "<Figure size 640x480 with 1 Axes>"
      ]
     },
     "metadata": {},
     "output_type": "display_data"
    }
   ],
   "source": [
    "sns.histplot(x=df[\"month\"])"
   ]
  },
  {
   "cell_type": "code",
   "execution_count": 22,
   "id": "f2b1aad3-4cf9-45ed-969e-a161088461f1",
   "metadata": {},
   "outputs": [
    {
     "data": {
      "text/plain": [
       "<Axes: xlabel='temperature', ylabel='Count'>"
      ]
     },
     "execution_count": 22,
     "metadata": {},
     "output_type": "execute_result"
    },
    {
     "data": {
      "image/png": "[encoded data removed]",
      "text/plain": [
       "<Figure size 640x480 with 1 Axes>"
      ]
     },
     "metadata": {},
     "output_type": "display_data"
    }
   ],
   "source": [
    "sns.histplot(x=df[\"temperature\"])"
   ]
  },
  {
   "cell_type": "code",
   "execution_count": 23,
   "id": "364fc8fb-90a3-4e7b-9e0c-a89d62574c2f",
   "metadata": {},
   "outputs": [
    {
     "data": {
      "text/plain": [
       "<Axes: xlabel='number_people', ylabel='Count'>"
      ]
     },
     "execution_count": 23,
     "metadata": {},
     "output_type": "execute_result"
    },
    {
     "data": {
      "image/png": "[encoded data removed]",
      "text/plain": [
       "<Figure size 640x480 with 1 Axes>"
      ]
     },
     "metadata": {},
     "output_type": "display_data"
    }
   ],
   "source": [
    "sns.histplot(x=df[\"number_people\"])"
   ]
  },
  {
   "cell_type": "markdown",
   "id": "bab34b2c-b1bd-4fc6-8331-eadda18944f1",
   "metadata": {},
   "source": [
    "#### Target Variable"
   ]
  },
  {
   "cell_type": "code",
   "execution_count": 25,
   "id": "e7831551-7404-4297-acb1-9631c855191f",
   "metadata": {},
   "outputs": [],
   "source": [
    "y = df.iloc[:,0]"
   ]
  },
  {
   "cell_type": "code",
   "execution_count": 26,
   "id": "0c88b37f-ccd5-4cf0-8137-0a68ef593eea",
   "metadata": {},
   "outputs": [
    {
     "data": {
      "text/plain": [
       "0        37\n",
       "1        45\n",
       "2        40\n",
       "3        44\n",
       "4        45\n",
       "         ..\n",
       "62179    23\n",
       "62180    21\n",
       "62181    25\n",
       "62182    18\n",
       "62183    23\n",
       "Name: number_people, Length: 62184, dtype: int64"
      ]
     },
     "execution_count": 26,
     "metadata": {},
     "output_type": "execute_result"
    }
   ],
   "source": [
    "y"
   ]
  },
  {
   "cell_type": "markdown",
   "id": "14d05e7d-1475-4360-9868-84d4107996bb",
   "metadata": {},
   "source": [
    "#### Input Features"
   ]
  },
  {
   "cell_type": "code",
   "execution_count": 28,
   "id": "f480c392-a301-4cb9-b3e1-d8089175ca26",
   "metadata": {},
   "outputs": [],
   "source": [
    "X = df.iloc[:,1:]"
   ]
  },
  {
   "cell_type": "code",
   "execution_count": 29,
   "id": "d796a730-cd69-49ec-b71b-8dd840bc6f2d",
   "metadata": {},
   "outputs": [
    {
     "data": {
      "text/html": [
       "<div>\n",
       "<style scoped>\n",
       "    .dataframe tbody tr th:only-of-type {\n",
       "        vertical-align: middle;\n",
       "    }\n",
       "\n",
       "    .dataframe tbody tr th {\n",
       "        vertical-align: top;\n",
       "    }\n",
       "\n",
       "    .dataframe thead th {\n",
       "        text-align: right;\n",
       "    }\n",
       "</style>\n",
       "<table border=\"1\" class=\"dataframe\">\n",
       "  <thead>\n",
       "    <tr style=\"text-align: right;\">\n",
       "      <th></th>\n",
       "      <th>day_of_week</th>\n",
       "      <th>is_weekend</th>\n",
       "      <th>is_holiday</th>\n",
       "      <th>temperature</th>\n",
       "      <th>is_start_of_semester</th>\n",
       "      <th>is_during_semester</th>\n",
       "      <th>month</th>\n",
       "      <th>hour</th>\n",
       "    </tr>\n",
       "  </thead>\n",
       "  <tbody>\n",
       "    <tr>\n",
       "      <th>0</th>\n",
       "      <td>4</td>\n",
       "      <td>0</td>\n",
       "      <td>0</td>\n",
       "      <td>71.76</td>\n",
       "      <td>0</td>\n",
       "      <td>0</td>\n",
       "      <td>8</td>\n",
       "      <td>17</td>\n",
       "    </tr>\n",
       "    <tr>\n",
       "      <th>1</th>\n",
       "      <td>4</td>\n",
       "      <td>0</td>\n",
       "      <td>0</td>\n",
       "      <td>71.76</td>\n",
       "      <td>0</td>\n",
       "      <td>0</td>\n",
       "      <td>8</td>\n",
       "      <td>17</td>\n",
       "    </tr>\n",
       "    <tr>\n",
       "      <th>2</th>\n",
       "      <td>4</td>\n",
       "      <td>0</td>\n",
       "      <td>0</td>\n",
       "      <td>71.76</td>\n",
       "      <td>0</td>\n",
       "      <td>0</td>\n",
       "      <td>8</td>\n",
       "      <td>17</td>\n",
       "    </tr>\n",
       "    <tr>\n",
       "      <th>3</th>\n",
       "      <td>4</td>\n",
       "      <td>0</td>\n",
       "      <td>0</td>\n",
       "      <td>71.76</td>\n",
       "      <td>0</td>\n",
       "      <td>0</td>\n",
       "      <td>8</td>\n",
       "      <td>17</td>\n",
       "    </tr>\n",
       "    <tr>\n",
       "      <th>4</th>\n",
       "      <td>4</td>\n",
       "      <td>0</td>\n",
       "      <td>0</td>\n",
       "      <td>71.76</td>\n",
       "      <td>0</td>\n",
       "      <td>0</td>\n",
       "      <td>8</td>\n",
       "      <td>17</td>\n",
       "    </tr>\n",
       "    <tr>\n",
       "      <th>...</th>\n",
       "      <td>...</td>\n",
       "      <td>...</td>\n",
       "      <td>...</td>\n",
       "      <td>...</td>\n",
       "      <td>...</td>\n",
       "      <td>...</td>\n",
       "      <td>...</td>\n",
       "      <td>...</td>\n",
       "    </tr>\n",
       "    <tr>\n",
       "      <th>62179</th>\n",
       "      <td>5</td>\n",
       "      <td>1</td>\n",
       "      <td>0</td>\n",
       "      <td>61.07</td>\n",
       "      <td>0</td>\n",
       "      <td>1</td>\n",
       "      <td>3</td>\n",
       "      <td>18</td>\n",
       "    </tr>\n",
       "    <tr>\n",
       "      <th>62180</th>\n",
       "      <td>5</td>\n",
       "      <td>1</td>\n",
       "      <td>0</td>\n",
       "      <td>61.07</td>\n",
       "      <td>0</td>\n",
       "      <td>1</td>\n",
       "      <td>3</td>\n",
       "      <td>18</td>\n",
       "    </tr>\n",
       "    <tr>\n",
       "      <th>62181</th>\n",
       "      <td>5</td>\n",
       "      <td>1</td>\n",
       "      <td>0</td>\n",
       "      <td>56.71</td>\n",
       "      <td>0</td>\n",
       "      <td>1</td>\n",
       "      <td>3</td>\n",
       "      <td>19</td>\n",
       "    </tr>\n",
       "    <tr>\n",
       "      <th>62182</th>\n",
       "      <td>5</td>\n",
       "      <td>1</td>\n",
       "      <td>0</td>\n",
       "      <td>56.71</td>\n",
       "      <td>0</td>\n",
       "      <td>1</td>\n",
       "      <td>3</td>\n",
       "      <td>19</td>\n",
       "    </tr>\n",
       "    <tr>\n",
       "      <th>62183</th>\n",
       "      <td>5</td>\n",
       "      <td>1</td>\n",
       "      <td>0</td>\n",
       "      <td>56.71</td>\n",
       "      <td>0</td>\n",
       "      <td>1</td>\n",
       "      <td>3</td>\n",
       "      <td>19</td>\n",
       "    </tr>\n",
       "  </tbody>\n",
       "</table>\n",
       "<p>62184 rows × 8 columns</p>\n",
       "</div>"
      ],
      "text/plain": [
       "       day_of_week  is_weekend  is_holiday  temperature  is_start_of_semester  \\\n",
       "0                4           0           0        71.76                     0   \n",
       "1                4           0           0        71.76                     0   \n",
       "2                4           0           0        71.76                     0   \n",
       "3                4           0           0        71.76                     0   \n",
       "4                4           0           0        71.76                     0   \n",
       "...            ...         ...         ...          ...                   ...   \n",
       "62179            5           1           0        61.07                     0   \n",
       "62180            5           1           0        61.07                     0   \n",
       "62181            5           1           0        56.71                     0   \n",
       "62182            5           1           0        56.71                     0   \n",
       "62183            5           1           0        56.71                     0   \n",
       "\n",
       "       is_during_semester  month  hour  \n",
       "0                       0      8    17  \n",
       "1                       0      8    17  \n",
       "2                       0      8    17  \n",
       "3                       0      8    17  \n",
       "4                       0      8    17  \n",
       "...                   ...    ...   ...  \n",
       "62179                   1      3    18  \n",
       "62180                   1      3    18  \n",
       "62181                   1      3    19  \n",
       "62182                   1      3    19  \n",
       "62183                   1      3    19  \n",
       "\n",
       "[62184 rows x 8 columns]"
      ]
     },
     "execution_count": 29,
     "metadata": {},
     "output_type": "execute_result"
    }
   ],
   "source": [
    "X"
   ]
  },
  {
   "cell_type": "markdown",
   "id": "829daef6-148e-45cc-8cfd-6cddb1c8150c",
   "metadata": {},
   "source": [
    "## Data Scaling"
   ]
  },
  {
   "cell_type": "code",
   "execution_count": 31,
   "id": "23f2169e-90be-4998-84a8-65ce929794d6",
   "metadata": {},
   "outputs": [],
   "source": [
    "from sklearn.preprocessing import StandardScaler"
   ]
  },
  {
   "cell_type": "code",
   "execution_count": 32,
   "id": "9c2a7dd0-8ae4-4863-9300-889e1561da33",
   "metadata": {},
   "outputs": [],
   "source": [
    "scaler = StandardScaler()"
   ]
  },
  {
   "cell_type": "code",
   "execution_count": 33,
   "id": "7e511aa8-251e-4a7e-afbb-2e38fe38bfbf",
   "metadata": {},
   "outputs": [],
   "source": [
    "X_scaled = scaler.fit_transform(X)"
   ]
  },
  {
   "cell_type": "code",
   "execution_count": 34,
   "id": "addd9906-fa92-449b-8acb-580555358b9e",
   "metadata": {},
   "outputs": [
    {
     "data": {
      "text/plain": [
       "array([[ 0.50956119, -0.6280507 , -0.05079022, ..., -1.39393832,\n",
       "         0.16260365,  0.70911589],\n",
       "       [ 0.50956119, -0.6280507 , -0.05079022, ..., -1.39393832,\n",
       "         0.16260365,  0.70911589],\n",
       "       [ 0.50956119, -0.6280507 , -0.05079022, ..., -1.39393832,\n",
       "         0.16260365,  0.70911589],\n",
       "       ...,\n",
       "       [ 1.01036016,  1.59222814, -0.05079022, ...,  0.71739186,\n",
       "        -1.28875789,  1.0068423 ],\n",
       "       [ 1.01036016,  1.59222814, -0.05079022, ...,  0.71739186,\n",
       "        -1.28875789,  1.0068423 ],\n",
       "       [ 1.01036016,  1.59222814, -0.05079022, ...,  0.71739186,\n",
       "        -1.28875789,  1.0068423 ]])"
      ]
     },
     "execution_count": 34,
     "metadata": {},
     "output_type": "execute_result"
    }
   ],
   "source": [
    "X_scaled"
   ]
  },
  {
   "cell_type": "code",
   "execution_count": 35,
   "id": "4660f2df-95f2-409f-a731-b68b806ede74",
   "metadata": {},
   "outputs": [
    {
     "data": {
      "text/plain": [
       "Index(['day_of_week', 'is_weekend', 'is_holiday', 'temperature',\n",
       "       'is_start_of_semester', 'is_during_semester', 'month', 'hour'],\n",
       "      dtype='object')"
      ]
     },
     "execution_count": 35,
     "metadata": {},
     "output_type": "execute_result"
    }
   ],
   "source": [
    "X.columns"
   ]
  },
  {
   "cell_type": "code",
   "execution_count": 36,
   "id": "946ede20-6f2e-4099-9431-e700c5bf73b6",
   "metadata": {},
   "outputs": [],
   "source": [
    "X_scaled = pd.DataFrame(X_scaled, columns = ['day_of_week', 'is_weekend', 'is_holiday', 'temperature',\n",
    "       'is_start_of_semester', 'is_during_semester', 'month', 'hour'])"
   ]
  },
  {
   "cell_type": "code",
   "execution_count": 37,
   "id": "2e976c48-6345-483a-99fb-f7e86aaba800",
   "metadata": {},
   "outputs": [
    {
     "data": {
      "text/html": [
       "<div>\n",
       "<style scoped>\n",
       "    .dataframe tbody tr th:only-of-type {\n",
       "        vertical-align: middle;\n",
       "    }\n",
       "\n",
       "    .dataframe tbody tr th {\n",
       "        vertical-align: top;\n",
       "    }\n",
       "\n",
       "    .dataframe thead th {\n",
       "        text-align: right;\n",
       "    }\n",
       "</style>\n",
       "<table border=\"1\" class=\"dataframe\">\n",
       "  <thead>\n",
       "    <tr style=\"text-align: right;\">\n",
       "      <th></th>\n",
       "      <th>day_of_week</th>\n",
       "      <th>is_weekend</th>\n",
       "      <th>is_holiday</th>\n",
       "      <th>temperature</th>\n",
       "      <th>is_start_of_semester</th>\n",
       "      <th>is_during_semester</th>\n",
       "      <th>month</th>\n",
       "      <th>hour</th>\n",
       "    </tr>\n",
       "  </thead>\n",
       "  <tbody>\n",
       "    <tr>\n",
       "      <th>0</th>\n",
       "      <td>0.509561</td>\n",
       "      <td>-0.628051</td>\n",
       "      <td>-0.05079</td>\n",
       "      <td>2.090274</td>\n",
       "      <td>-0.292535</td>\n",
       "      <td>-1.393938</td>\n",
       "      <td>0.162604</td>\n",
       "      <td>0.709116</td>\n",
       "    </tr>\n",
       "    <tr>\n",
       "      <th>1</th>\n",
       "      <td>0.509561</td>\n",
       "      <td>-0.628051</td>\n",
       "      <td>-0.05079</td>\n",
       "      <td>2.090274</td>\n",
       "      <td>-0.292535</td>\n",
       "      <td>-1.393938</td>\n",
       "      <td>0.162604</td>\n",
       "      <td>0.709116</td>\n",
       "    </tr>\n",
       "    <tr>\n",
       "      <th>2</th>\n",
       "      <td>0.509561</td>\n",
       "      <td>-0.628051</td>\n",
       "      <td>-0.05079</td>\n",
       "      <td>2.090274</td>\n",
       "      <td>-0.292535</td>\n",
       "      <td>-1.393938</td>\n",
       "      <td>0.162604</td>\n",
       "      <td>0.709116</td>\n",
       "    </tr>\n",
       "    <tr>\n",
       "      <th>3</th>\n",
       "      <td>0.509561</td>\n",
       "      <td>-0.628051</td>\n",
       "      <td>-0.05079</td>\n",
       "      <td>2.090274</td>\n",
       "      <td>-0.292535</td>\n",
       "      <td>-1.393938</td>\n",
       "      <td>0.162604</td>\n",
       "      <td>0.709116</td>\n",
       "    </tr>\n",
       "    <tr>\n",
       "      <th>4</th>\n",
       "      <td>0.509561</td>\n",
       "      <td>-0.628051</td>\n",
       "      <td>-0.05079</td>\n",
       "      <td>2.090274</td>\n",
       "      <td>-0.292535</td>\n",
       "      <td>-1.393938</td>\n",
       "      <td>0.162604</td>\n",
       "      <td>0.709116</td>\n",
       "    </tr>\n",
       "  </tbody>\n",
       "</table>\n",
       "</div>"
      ],
      "text/plain": [
       "   day_of_week  is_weekend  is_holiday  temperature  is_start_of_semester  \\\n",
       "0     0.509561   -0.628051    -0.05079     2.090274             -0.292535   \n",
       "1     0.509561   -0.628051    -0.05079     2.090274             -0.292535   \n",
       "2     0.509561   -0.628051    -0.05079     2.090274             -0.292535   \n",
       "3     0.509561   -0.628051    -0.05079     2.090274             -0.292535   \n",
       "4     0.509561   -0.628051    -0.05079     2.090274             -0.292535   \n",
       "\n",
       "   is_during_semester     month      hour  \n",
       "0           -1.393938  0.162604  0.709116  \n",
       "1           -1.393938  0.162604  0.709116  \n",
       "2           -1.393938  0.162604  0.709116  \n",
       "3           -1.393938  0.162604  0.709116  \n",
       "4           -1.393938  0.162604  0.709116  "
      ]
     },
     "execution_count": 37,
     "metadata": {},
     "output_type": "execute_result"
    }
   ],
   "source": [
    "X_scaled.head()"
   ]
  },
  {
   "cell_type": "markdown",
   "id": "32c71f34-9957-4cf7-928e-f6c389bca413",
   "metadata": {},
   "source": [
    "## Implementing PCA"
   ]
  },
  {
   "cell_type": "code",
   "execution_count": 39,
   "id": "f27a093f-fe31-44ae-942a-63317ea71823",
   "metadata": {},
   "outputs": [],
   "source": [
    "from sklearn.decomposition import PCA"
   ]
  },
  {
   "cell_type": "code",
   "execution_count": 40,
   "id": "4b117b61-26ff-444b-843e-2d787ae0ff9b",
   "metadata": {},
   "outputs": [],
   "source": [
    "pca = PCA(n_components=2, random_state=42)"
   ]
  },
  {
   "cell_type": "code",
   "execution_count": 41,
   "id": "09726f27-824c-4c35-9823-b1f22939e58a",
   "metadata": {},
   "outputs": [],
   "source": [
    "X_pca = pca.fit_transform(X_scaled)"
   ]
  },
  {
   "cell_type": "code",
   "execution_count": 42,
   "id": "2ce9c52f-29f7-4072-ba6e-ae4d13410b7f",
   "metadata": {},
   "outputs": [
    {
     "data": {
      "text/plain": [
       "array([[-0.04547233, -0.54569746],\n",
       "       [-0.04547233, -0.54569746],\n",
       "       [-0.04547233, -0.54569746],\n",
       "       ...,\n",
       "       [-1.76716814, -0.24778595],\n",
       "       [-1.76716814, -0.24778595],\n",
       "       [-1.76716814, -0.24778595]])"
      ]
     },
     "execution_count": 42,
     "metadata": {},
     "output_type": "execute_result"
    }
   ],
   "source": [
    "X_pca"
   ]
  },
  {
   "cell_type": "code",
   "execution_count": 43,
   "id": "129e683a-9755-4946-a363-065d1400a5e3",
   "metadata": {},
   "outputs": [],
   "source": [
    "X_pca = pd.DataFrame(X_pca, columns = [\"pc1\", \"pc2\"])"
   ]
  },
  {
   "cell_type": "code",
   "execution_count": 44,
   "id": "7217f956-03b5-400e-a966-fe2dd6eeb6e2",
   "metadata": {},
   "outputs": [
    {
     "data": {
      "text/html": [
       "<div>\n",
       "<style scoped>\n",
       "    .dataframe tbody tr th:only-of-type {\n",
       "        vertical-align: middle;\n",
       "    }\n",
       "\n",
       "    .dataframe tbody tr th {\n",
       "        vertical-align: top;\n",
       "    }\n",
       "\n",
       "    .dataframe thead th {\n",
       "        text-align: right;\n",
       "    }\n",
       "</style>\n",
       "<table border=\"1\" class=\"dataframe\">\n",
       "  <thead>\n",
       "    <tr style=\"text-align: right;\">\n",
       "      <th></th>\n",
       "      <th>pc1</th>\n",
       "      <th>pc2</th>\n",
       "    </tr>\n",
       "  </thead>\n",
       "  <tbody>\n",
       "    <tr>\n",
       "      <th>0</th>\n",
       "      <td>-0.045472</td>\n",
       "      <td>-0.545697</td>\n",
       "    </tr>\n",
       "    <tr>\n",
       "      <th>1</th>\n",
       "      <td>-0.045472</td>\n",
       "      <td>-0.545697</td>\n",
       "    </tr>\n",
       "    <tr>\n",
       "      <th>2</th>\n",
       "      <td>-0.045472</td>\n",
       "      <td>-0.545697</td>\n",
       "    </tr>\n",
       "    <tr>\n",
       "      <th>3</th>\n",
       "      <td>-0.045472</td>\n",
       "      <td>-0.545697</td>\n",
       "    </tr>\n",
       "    <tr>\n",
       "      <th>4</th>\n",
       "      <td>-0.045472</td>\n",
       "      <td>-0.545697</td>\n",
       "    </tr>\n",
       "  </tbody>\n",
       "</table>\n",
       "</div>"
      ],
      "text/plain": [
       "        pc1       pc2\n",
       "0 -0.045472 -0.545697\n",
       "1 -0.045472 -0.545697\n",
       "2 -0.045472 -0.545697\n",
       "3 -0.045472 -0.545697\n",
       "4 -0.045472 -0.545697"
      ]
     },
     "execution_count": 44,
     "metadata": {},
     "output_type": "execute_result"
    }
   ],
   "source": [
    "X_pca.head()"
   ]
  },
  {
   "cell_type": "code",
   "execution_count": 45,
   "id": "5eb6a736-0185-4583-ae11-5c40a7c47992",
   "metadata": {},
   "outputs": [
    {
     "name": "stdout",
     "output_type": "stream",
     "text": [
      "Explained variance ratio: [0.2252225  0.17367787]\n",
      "Sum of EVR: 0.3989003703798456\n"
     ]
    }
   ],
   "source": [
    "print(f\"Explained variance ratio: {pca.explained_variance_ratio_}\")\n",
    "print(f\"Sum of EVR: {np.sum(pca.explained_variance_ratio_)}\")"
   ]
  },
  {
   "cell_type": "markdown",
   "id": "d1ac7fd8-a5f7-4f0f-bbdd-eeddd5d7be1d",
   "metadata": {},
   "source": [
    "**The total variance explained by two principal components is less than 40%**"
   ]
  },
  {
   "cell_type": "code",
   "execution_count": 47,
   "id": "de61581c-fc3a-4977-aa86-32d3f5ded07c",
   "metadata": {},
   "outputs": [
    {
     "data": {
      "text/plain": [
       "array([[-0.04547233, -0.54569746, -0.51022146, ..., -0.59285005,\n",
       "         1.59437849,  0.5268085 ],\n",
       "       [-0.04547233, -0.54569746, -0.51022146, ..., -0.59285005,\n",
       "         1.59437849,  0.5268085 ],\n",
       "       [-0.04547233, -0.54569746, -0.51022146, ..., -0.59285005,\n",
       "         1.59437849,  0.5268085 ],\n",
       "       ...,\n",
       "       [-1.76716814, -0.24778595,  1.01009136, ..., -0.20902429,\n",
       "        -0.98810123, -1.0267633 ],\n",
       "       [-1.76716814, -0.24778595,  1.01009136, ..., -0.20902429,\n",
       "        -0.98810123, -1.0267633 ],\n",
       "       [-1.76716814, -0.24778595,  1.01009136, ..., -0.20902429,\n",
       "        -0.98810123, -1.0267633 ]])"
      ]
     },
     "execution_count": 47,
     "metadata": {},
     "output_type": "execute_result"
    }
   ],
   "source": [
    "pca_95 = PCA(0.95, random_state=42)\n",
    "X_pca_95 = pca_95.fit_transform(X_scaled)\n",
    "X_pca_95"
   ]
  },
  {
   "cell_type": "code",
   "execution_count": 48,
   "id": "00c72520-e1ee-40e0-9a6c-e37a2212ed72",
   "metadata": {},
   "outputs": [],
   "source": [
    "X_pca__95 = pd.DataFrame(X_pca_95)"
   ]
  },
  {
   "cell_type": "code",
   "execution_count": 49,
   "id": "63b71099-c0ec-42ad-8d60-8e17d3fc4858",
   "metadata": {},
   "outputs": [
    {
     "data": {
      "text/plain": [
       "(62184, 7)"
      ]
     },
     "execution_count": 49,
     "metadata": {},
     "output_type": "execute_result"
    }
   ],
   "source": [
    "X_pca_95.shape"
   ]
  },
  {
   "cell_type": "markdown",
   "id": "6e6d92d2-fb68-4d2c-853a-dce18e6e736a",
   "metadata": {},
   "source": [
    "**In order to retain 95% variance we are able to reduce only 1 dimension**"
   ]
  },
  {
   "cell_type": "code",
   "execution_count": 51,
   "id": "7b7b5ed5-5e90-48e4-be56-98f78ee90e89",
   "metadata": {},
   "outputs": [
    {
     "name": "stdout",
     "output_type": "stream",
     "text": [
      "Explained Variance Ratio: [0.2252225  0.17367787 0.14494335 0.132616   0.11435459 0.09669059\n",
      " 0.0866562 ]\n"
     ]
    }
   ],
   "source": [
    "print(f\"Explained Variance Ratio: {pca_95.explained_variance_ratio_}\")"
   ]
  },
  {
   "cell_type": "code",
   "execution_count": 52,
   "id": "ce9c958c-e678-4b59-a967-0d32be11d4cb",
   "metadata": {},
   "outputs": [],
   "source": [
    "from sklearn.model_selection import train_test_split, cross_val_score"
   ]
  },
  {
   "cell_type": "code",
   "execution_count": 53,
   "id": "b1fa4929-960b-49ce-8e6c-b68501fd7f46",
   "metadata": {},
   "outputs": [],
   "source": [
    "X_train, X_test, y_train, y_test = train_test_split(X_pca, y, test_size=0.42, random_state=42)"
   ]
  },
  {
   "cell_type": "code",
   "execution_count": 54,
   "id": "a74c2a1e-6c5f-4e08-bf8f-7203f75b79ad",
   "metadata": {},
   "outputs": [],
   "source": [
    "from sklearn.linear_model import LinearRegression\n",
    "from sklearn.metrics import r2_score"
   ]
  },
  {
   "cell_type": "markdown",
   "id": "6b804763-3aa1-4bd8-b60f-9ac4975b3ec5",
   "metadata": {},
   "source": [
    "## Quiz"
   ]
  },
  {
   "cell_type": "markdown",
   "id": "ebeab5c5-d7c0-4602-8075-d898fe625b41",
   "metadata": {},
   "source": [
    "**19) Use the Gym.csv dataset and Apply PCA in the given dataset, what is the minimum n_components required to attain 0.99% of variance?**\n",
    "\n",
    "**A.4, B.5, C.6, C.7**"
   ]
  },
  {
   "cell_type": "markdown",
   "id": "737840c7-aa17-4d59-a9e0-dd64a8f6d1ed",
   "metadata": {},
   "source": [
    "**Since the question does not specify whether we have to perform on the input features, with scaling, etc. we will calculate for all possible permutations**"
   ]
  },
  {
   "cell_type": "markdown",
   "id": "6c6750dc-5634-4975-aa05-6670e9a72cf0",
   "metadata": {},
   "source": [
    "#### For Scaled data"
   ]
  },
  {
   "cell_type": "code",
   "execution_count": 59,
   "id": "828e8301-1488-4c3c-93c4-5d07046657b8",
   "metadata": {},
   "outputs": [
    {
     "name": "stdout",
     "output_type": "stream",
     "text": [
      "Cumulative Explained Variance:\n",
      "[0.2252225  0.39890037 0.54384372 0.67645972 0.79081431 0.8875049\n",
      " 0.9741611  1.        ]\n"
     ]
    }
   ],
   "source": [
    "cov_matrix = np.cov(X_scaled.T)\n",
    "eigenvalues, eigenvectors = np.linalg.eig(cov_matrix)\n",
    "eigenpairs = [(eigenvalues[i], eigenvectors[:, i]) for i in range(len(eigenvalues))]\n",
    "eigenpairs = sorted(eigenpairs, key=lambda x: x[0], reverse=True)\n",
    "total_variance = sum(eigenvalues)\n",
    "explained_variance = [(i / total_variance) for i in sorted(eigenvalues, reverse=True)]\n",
    "\n",
    "# Calculate cumulative explained variance\n",
    "cumulative_explained_variance = np.cumsum(explained_variance)\n",
    "\n",
    "# Print cumulative explained variance for each component\n",
    "print(\"Cumulative Explained Variance:\")\n",
    "print(cumulative_explained_variance)"
   ]
  },
  {
   "cell_type": "markdown",
   "id": "3b4d335c-1e1c-45d3-b3c3-d22e7ce566e8",
   "metadata": {},
   "source": [
    "#### For Input features without scaling"
   ]
  },
  {
   "cell_type": "code",
   "execution_count": 61,
   "id": "444a37d2-e0d1-4eea-894a-499044c983df",
   "metadata": {},
   "outputs": [
    {
     "name": "stdout",
     "output_type": "stream",
     "text": [
      "Cumulative Explained Variance:\n",
      "[0.50104783 0.83965103 0.95582655 0.99641325 0.99860557 0.99932639\n",
      " 0.99997535 1.        ]\n"
     ]
    }
   ],
   "source": [
    "cov_matrix = np.cov(X.T)\n",
    "eigenvalues, eigenvectors = np.linalg.eig(cov_matrix)\n",
    "eigenpairs = [(eigenvalues[i], eigenvectors[:, i]) for i in range(len(eigenvalues))]\n",
    "eigenpairs = sorted(eigenpairs, key=lambda x: x[0], reverse=True)\n",
    "total_variance = sum(eigenvalues)\n",
    "explained_variance = [(i / total_variance) for i in sorted(eigenvalues, reverse=True)]\n",
    "\n",
    "# Calculate cumulative explained variance\n",
    "cumulative_explained_variance = np.cumsum(explained_variance)\n",
    "\n",
    "# Print cumulative explained variance for each component\n",
    "print(\"Cumulative Explained Variance:\")\n",
    "print(cumulative_explained_variance)"
   ]
  },
  {
   "cell_type": "markdown",
   "id": "3407062a-13f5-4cc3-97e3-bbf561426320",
   "metadata": {},
   "source": [
    "#### For the entire dataframe"
   ]
  },
  {
   "cell_type": "code",
   "execution_count": 63,
   "id": "ae77319f-7647-4007-8f32-bf340f33d3c3",
   "metadata": {},
   "outputs": [
    {
     "name": "stdout",
     "output_type": "stream",
     "text": [
      "Cumulative Explained Variance:\n",
      "[0.8691455  0.92538658 0.97441584 0.99310241 0.9994632  0.99977193\n",
      " 0.99988984 0.99999595 1.        ]\n"
     ]
    }
   ],
   "source": [
    "cov_matrix = np.cov(df.T)\n",
    "eigenvalues, eigenvectors = np.linalg.eig(cov_matrix)\n",
    "eigenpairs = [(eigenvalues[i], eigenvectors[:, i]) for i in range(len(eigenvalues))]\n",
    "eigenpairs = sorted(eigenpairs, key=lambda x: x[0], reverse=True)\n",
    "total_variance = sum(eigenvalues)\n",
    "explained_variance = [(i / total_variance) for i in sorted(eigenvalues, reverse=True)]\n",
    "\n",
    "# Calculate cumulative explained variance\n",
    "cumulative_explained_variance = np.cumsum(explained_variance)\n",
    "\n",
    "# Print cumulative explained variance for each component\n",
    "print(\"Cumulative Explained Variance:\")\n",
    "print(cumulative_explained_variance)"
   ]
  },
  {
   "cell_type": "markdown",
   "id": "98cf75d1-eddc-4009-80b6-233cbb78abc8",
   "metadata": {},
   "source": [
    "**For unscaled dataframe, the answer is A.4**"
   ]
  },
  {
   "cell_type": "markdown",
   "id": "40ffb9fb-6d5c-415b-8c57-fbe9ca528c73",
   "metadata": {},
   "source": [
    "**20) Apply PCA in the given dataset(gym.csv) with n_components as 2, Then get the original (approx.) data back from PCA, what is the difference in sum of variance of all columns before and after applying PCA?**\n",
    "\n",
    "**A. 83.74, B.16.26, C.94.15, D.5.85**"
   ]
  },
  {
   "cell_type": "code",
   "execution_count": 66,
   "id": "d7d7188c-9f99-4e9f-98f7-bdf49b27ce57",
   "metadata": {},
   "outputs": [
    {
     "name": "stdout",
     "output_type": "stream",
     "text": [
      "16.256175648248288\n"
     ]
    }
   ],
   "source": [
    "pca = PCA(n_components=2)\n",
    "X_pca = pca.fit_transform(X)\n",
    "approximate_original_data = pca.inverse_transform(X_pca)\n",
    "original_variance = np.var(X, axis=0).sum()  # Total variance of the original data\n",
    "approximate_variance = np.var(approximate_original_data, axis=0).sum()  # Total variance of the approximate data\n",
    "var_difference = original_variance-approximate_variance\n",
    "print(var_difference)"
   ]
  },
  {
   "cell_type": "markdown",
   "id": "f290f543-b616-464e-b3b0-90bda8d0d455",
   "metadata": {},
   "source": [
    "**Answer is B**"
   ]
  },
  {
   "cell_type": "markdown",
   "id": "616662d0-0cdc-4805-9d44-f4b0abfa75c8",
   "metadata": {},
   "source": [
    "**21) Is it appropriate to use PCA as a method for preventing overfitting in machine learning models?**\n",
    "\n",
    "**FALSE or\n",
    "TRUE**"
   ]
  },
  {
   "cell_type": "markdown",
   "id": "2fb970e2-b4fd-476a-9252-137b3b0ad26c",
   "metadata": {},
   "source": [
    "**Answer is True**"
   ]
  },
  {
   "cell_type": "markdown",
   "id": "58f0885d-84c6-4fab-860a-bc92c6bb301e",
   "metadata": {},
   "source": [
    "**22) What is the sum of eigenvalues calculated for the first 8 records(gym.csv) with the independent features?**\n",
    "\n",
    "**A. 100.24, \n",
    "B. 102.94, \n",
    "C. 101.76, \n",
    "D. 98.32**"
   ]
  },
  {
   "cell_type": "code",
   "execution_count": 71,
   "id": "f51d12aa-4959-495a-8623-bbfc1a1b89ff",
   "metadata": {},
   "outputs": [],
   "source": [
    "X_8 = X.iloc[0:8,:]"
   ]
  },
  {
   "cell_type": "code",
   "execution_count": 72,
   "id": "4a41e9e1-e26e-47b5-9f19-e4257bb38d49",
   "metadata": {},
   "outputs": [
    {
     "data": {
      "text/html": [
       "<div>\n",
       "<style scoped>\n",
       "    .dataframe tbody tr th:only-of-type {\n",
       "        vertical-align: middle;\n",
       "    }\n",
       "\n",
       "    .dataframe tbody tr th {\n",
       "        vertical-align: top;\n",
       "    }\n",
       "\n",
       "    .dataframe thead th {\n",
       "        text-align: right;\n",
       "    }\n",
       "</style>\n",
       "<table border=\"1\" class=\"dataframe\">\n",
       "  <thead>\n",
       "    <tr style=\"text-align: right;\">\n",
       "      <th></th>\n",
       "      <th>day_of_week</th>\n",
       "      <th>is_weekend</th>\n",
       "      <th>is_holiday</th>\n",
       "      <th>temperature</th>\n",
       "      <th>is_start_of_semester</th>\n",
       "      <th>is_during_semester</th>\n",
       "      <th>month</th>\n",
       "      <th>hour</th>\n",
       "    </tr>\n",
       "  </thead>\n",
       "  <tbody>\n",
       "    <tr>\n",
       "      <th>0</th>\n",
       "      <td>4</td>\n",
       "      <td>0</td>\n",
       "      <td>0</td>\n",
       "      <td>71.76</td>\n",
       "      <td>0</td>\n",
       "      <td>0</td>\n",
       "      <td>8</td>\n",
       "      <td>17</td>\n",
       "    </tr>\n",
       "    <tr>\n",
       "      <th>1</th>\n",
       "      <td>4</td>\n",
       "      <td>0</td>\n",
       "      <td>0</td>\n",
       "      <td>71.76</td>\n",
       "      <td>0</td>\n",
       "      <td>0</td>\n",
       "      <td>8</td>\n",
       "      <td>17</td>\n",
       "    </tr>\n",
       "    <tr>\n",
       "      <th>2</th>\n",
       "      <td>4</td>\n",
       "      <td>0</td>\n",
       "      <td>0</td>\n",
       "      <td>71.76</td>\n",
       "      <td>0</td>\n",
       "      <td>0</td>\n",
       "      <td>8</td>\n",
       "      <td>17</td>\n",
       "    </tr>\n",
       "    <tr>\n",
       "      <th>3</th>\n",
       "      <td>4</td>\n",
       "      <td>0</td>\n",
       "      <td>0</td>\n",
       "      <td>71.76</td>\n",
       "      <td>0</td>\n",
       "      <td>0</td>\n",
       "      <td>8</td>\n",
       "      <td>17</td>\n",
       "    </tr>\n",
       "    <tr>\n",
       "      <th>4</th>\n",
       "      <td>4</td>\n",
       "      <td>0</td>\n",
       "      <td>0</td>\n",
       "      <td>71.76</td>\n",
       "      <td>0</td>\n",
       "      <td>0</td>\n",
       "      <td>8</td>\n",
       "      <td>17</td>\n",
       "    </tr>\n",
       "    <tr>\n",
       "      <th>5</th>\n",
       "      <td>4</td>\n",
       "      <td>0</td>\n",
       "      <td>0</td>\n",
       "      <td>72.15</td>\n",
       "      <td>0</td>\n",
       "      <td>0</td>\n",
       "      <td>8</td>\n",
       "      <td>18</td>\n",
       "    </tr>\n",
       "    <tr>\n",
       "      <th>6</th>\n",
       "      <td>4</td>\n",
       "      <td>0</td>\n",
       "      <td>0</td>\n",
       "      <td>72.15</td>\n",
       "      <td>0</td>\n",
       "      <td>0</td>\n",
       "      <td>8</td>\n",
       "      <td>18</td>\n",
       "    </tr>\n",
       "    <tr>\n",
       "      <th>7</th>\n",
       "      <td>4</td>\n",
       "      <td>0</td>\n",
       "      <td>0</td>\n",
       "      <td>72.15</td>\n",
       "      <td>0</td>\n",
       "      <td>0</td>\n",
       "      <td>8</td>\n",
       "      <td>18</td>\n",
       "    </tr>\n",
       "  </tbody>\n",
       "</table>\n",
       "</div>"
      ],
      "text/plain": [
       "   day_of_week  is_weekend  is_holiday  temperature  is_start_of_semester  \\\n",
       "0            4           0           0        71.76                     0   \n",
       "1            4           0           0        71.76                     0   \n",
       "2            4           0           0        71.76                     0   \n",
       "3            4           0           0        71.76                     0   \n",
       "4            4           0           0        71.76                     0   \n",
       "5            4           0           0        72.15                     0   \n",
       "6            4           0           0        72.15                     0   \n",
       "7            4           0           0        72.15                     0   \n",
       "\n",
       "   is_during_semester  month  hour  \n",
       "0                   0      8    17  \n",
       "1                   0      8    17  \n",
       "2                   0      8    17  \n",
       "3                   0      8    17  \n",
       "4                   0      8    17  \n",
       "5                   0      8    18  \n",
       "6                   0      8    18  \n",
       "7                   0      8    18  "
      ]
     },
     "execution_count": 72,
     "metadata": {},
     "output_type": "execute_result"
    }
   ],
   "source": [
    "X_8"
   ]
  },
  {
   "cell_type": "code",
   "execution_count": 73,
   "id": "ff09e48b-39ce-4317-b16a-ae6dc01213bd",
   "metadata": {},
   "outputs": [],
   "source": [
    "cov_matrix = X_8.cov()\n",
    "eigenvalues, eigenvectors = np.linalg.eig(cov_matrix)"
   ]
  },
  {
   "cell_type": "code",
   "execution_count": 74,
   "id": "63e85bb3-60bb-4502-9ea7-9b7a381a4d30",
   "metadata": {},
   "outputs": [
    {
     "data": {
      "text/plain": [
       "array([ 3.08598214e-01, -4.00473305e-19,  0.00000000e+00,  0.00000000e+00,\n",
       "        0.00000000e+00,  0.00000000e+00,  0.00000000e+00,  0.00000000e+00])"
      ]
     },
     "execution_count": 74,
     "metadata": {},
     "output_type": "execute_result"
    }
   ],
   "source": [
    "eigenvalues"
   ]
  },
  {
   "cell_type": "code",
   "execution_count": 75,
   "id": "b0749779-fa06-4c1b-a762-e515e974e36b",
   "metadata": {},
   "outputs": [],
   "source": [
    "sum_eigen = np.sum(eigenvalues)"
   ]
  },
  {
   "cell_type": "code",
   "execution_count": 76,
   "id": "26a381a7-0016-4247-a446-b9b312f259ce",
   "metadata": {},
   "outputs": [
    {
     "data": {
      "text/plain": [
       "0.3085982142857144"
      ]
     },
     "execution_count": 76,
     "metadata": {},
     "output_type": "execute_result"
    }
   ],
   "source": [
    "sum_eigen"
   ]
  },
  {
   "cell_type": "markdown",
   "id": "5d2666c6-b2e1-45e9-83b1-e6e694ef4adf",
   "metadata": {},
   "source": [
    "**23) Compare the performance of two Linear Regression models(gym.csv):**\n",
    "\n",
    "**The first model uses the raw data without any preprocessing.**\n",
    "\n",
    "**The second model applies PCA with n_components set to 4 before fitting the data.**\n",
    "\n",
    "**Both models should be generated using train_test_split with test_size=0.2 and random_state=24 during the train-test split. Your task is to calculate the Root Mean Squared Error (RMSE) for both models and determine whether the performance of the second model (PCA-based) is better compared to the first model (raw data).**\n",
    "\n",
    "**A. Model 2 performance is not better than Model 1**\n",
    "\n",
    "**B. No change in performance**\n",
    "\n",
    "**C. Model 2 performance is better than Model 1**"
   ]
  },
  {
   "cell_type": "code",
   "execution_count": 78,
   "id": "c65ca221-9347-45ac-8b07-7b5db364ddcd",
   "metadata": {},
   "outputs": [],
   "source": [
    "pca = PCA(n_components=4)\n",
    "X_pca = pca.fit_transform(X)\n",
    "X_pca = pd.DataFrame(X_pca)"
   ]
  },
  {
   "cell_type": "code",
   "execution_count": 79,
   "id": "2112e8b7-5997-43a9-86f9-9b61d5d77d19",
   "metadata": {},
   "outputs": [
    {
     "data": {
      "text/html": [
       "<div>\n",
       "<style scoped>\n",
       "    .dataframe tbody tr th:only-of-type {\n",
       "        vertical-align: middle;\n",
       "    }\n",
       "\n",
       "    .dataframe tbody tr th {\n",
       "        vertical-align: top;\n",
       "    }\n",
       "\n",
       "    .dataframe thead th {\n",
       "        text-align: right;\n",
       "    }\n",
       "</style>\n",
       "<table border=\"1\" class=\"dataframe\">\n",
       "  <thead>\n",
       "    <tr style=\"text-align: right;\">\n",
       "      <th></th>\n",
       "      <th>0</th>\n",
       "      <th>1</th>\n",
       "      <th>2</th>\n",
       "      <th>3</th>\n",
       "    </tr>\n",
       "  </thead>\n",
       "  <tbody>\n",
       "    <tr>\n",
       "      <th>0</th>\n",
       "      <td>11.593770</td>\n",
       "      <td>7.921564</td>\n",
       "      <td>0.049396</td>\n",
       "      <td>0.899124</td>\n",
       "    </tr>\n",
       "    <tr>\n",
       "      <th>1</th>\n",
       "      <td>11.593770</td>\n",
       "      <td>7.921564</td>\n",
       "      <td>0.049396</td>\n",
       "      <td>0.899124</td>\n",
       "    </tr>\n",
       "    <tr>\n",
       "      <th>2</th>\n",
       "      <td>11.593770</td>\n",
       "      <td>7.921564</td>\n",
       "      <td>0.049396</td>\n",
       "      <td>0.899124</td>\n",
       "    </tr>\n",
       "    <tr>\n",
       "      <th>3</th>\n",
       "      <td>11.593770</td>\n",
       "      <td>7.921564</td>\n",
       "      <td>0.049396</td>\n",
       "      <td>0.899124</td>\n",
       "    </tr>\n",
       "    <tr>\n",
       "      <th>4</th>\n",
       "      <td>11.593770</td>\n",
       "      <td>7.921564</td>\n",
       "      <td>0.049396</td>\n",
       "      <td>0.899124</td>\n",
       "    </tr>\n",
       "    <tr>\n",
       "      <th>...</th>\n",
       "      <td>...</td>\n",
       "      <td>...</td>\n",
       "      <td>...</td>\n",
       "      <td>...</td>\n",
       "    </tr>\n",
       "    <tr>\n",
       "      <th>62179</th>\n",
       "      <td>6.107226</td>\n",
       "      <td>-1.610090</td>\n",
       "      <td>4.369962</td>\n",
       "      <td>2.167559</td>\n",
       "    </tr>\n",
       "    <tr>\n",
       "      <th>62180</th>\n",
       "      <td>6.107226</td>\n",
       "      <td>-1.610090</td>\n",
       "      <td>4.369962</td>\n",
       "      <td>2.167559</td>\n",
       "    </tr>\n",
       "    <tr>\n",
       "      <th>62181</th>\n",
       "      <td>4.364471</td>\n",
       "      <td>-5.720015</td>\n",
       "      <td>4.090512</td>\n",
       "      <td>2.185735</td>\n",
       "    </tr>\n",
       "    <tr>\n",
       "      <th>62182</th>\n",
       "      <td>4.364471</td>\n",
       "      <td>-5.720015</td>\n",
       "      <td>4.090512</td>\n",
       "      <td>2.185735</td>\n",
       "    </tr>\n",
       "    <tr>\n",
       "      <th>62183</th>\n",
       "      <td>4.364471</td>\n",
       "      <td>-5.720015</td>\n",
       "      <td>4.090512</td>\n",
       "      <td>2.185735</td>\n",
       "    </tr>\n",
       "  </tbody>\n",
       "</table>\n",
       "<p>62184 rows × 4 columns</p>\n",
       "</div>"
      ],
      "text/plain": [
       "               0         1         2         3\n",
       "0      11.593770  7.921564  0.049396  0.899124\n",
       "1      11.593770  7.921564  0.049396  0.899124\n",
       "2      11.593770  7.921564  0.049396  0.899124\n",
       "3      11.593770  7.921564  0.049396  0.899124\n",
       "4      11.593770  7.921564  0.049396  0.899124\n",
       "...          ...       ...       ...       ...\n",
       "62179   6.107226 -1.610090  4.369962  2.167559\n",
       "62180   6.107226 -1.610090  4.369962  2.167559\n",
       "62181   4.364471 -5.720015  4.090512  2.185735\n",
       "62182   4.364471 -5.720015  4.090512  2.185735\n",
       "62183   4.364471 -5.720015  4.090512  2.185735\n",
       "\n",
       "[62184 rows x 4 columns]"
      ]
     },
     "execution_count": 79,
     "metadata": {},
     "output_type": "execute_result"
    }
   ],
   "source": [
    "X_pca"
   ]
  },
  {
   "cell_type": "code",
   "execution_count": 80,
   "id": "b8f841ee-2e77-4a84-81be-5c140980fa8e",
   "metadata": {},
   "outputs": [],
   "source": [
    "X_pca.rename(columns = {0 : \"pc1\",\n",
    "                       1: \"pc2\",\n",
    "                       2: \"pc3\",\n",
    "                       3: \"pc4\"}, inplace=True)"
   ]
  },
  {
   "cell_type": "code",
   "execution_count": 81,
   "id": "8945a101-f315-4434-a5f0-b9b6f719b4a1",
   "metadata": {},
   "outputs": [
    {
     "data": {
      "text/html": [
       "<div>\n",
       "<style scoped>\n",
       "    .dataframe tbody tr th:only-of-type {\n",
       "        vertical-align: middle;\n",
       "    }\n",
       "\n",
       "    .dataframe tbody tr th {\n",
       "        vertical-align: top;\n",
       "    }\n",
       "\n",
       "    .dataframe thead th {\n",
       "        text-align: right;\n",
       "    }\n",
       "</style>\n",
       "<table border=\"1\" class=\"dataframe\">\n",
       "  <thead>\n",
       "    <tr style=\"text-align: right;\">\n",
       "      <th></th>\n",
       "      <th>pc1</th>\n",
       "      <th>pc2</th>\n",
       "      <th>pc3</th>\n",
       "      <th>pc4</th>\n",
       "    </tr>\n",
       "  </thead>\n",
       "  <tbody>\n",
       "    <tr>\n",
       "      <th>0</th>\n",
       "      <td>11.593770</td>\n",
       "      <td>7.921564</td>\n",
       "      <td>0.049396</td>\n",
       "      <td>0.899124</td>\n",
       "    </tr>\n",
       "    <tr>\n",
       "      <th>1</th>\n",
       "      <td>11.593770</td>\n",
       "      <td>7.921564</td>\n",
       "      <td>0.049396</td>\n",
       "      <td>0.899124</td>\n",
       "    </tr>\n",
       "    <tr>\n",
       "      <th>2</th>\n",
       "      <td>11.593770</td>\n",
       "      <td>7.921564</td>\n",
       "      <td>0.049396</td>\n",
       "      <td>0.899124</td>\n",
       "    </tr>\n",
       "    <tr>\n",
       "      <th>3</th>\n",
       "      <td>11.593770</td>\n",
       "      <td>7.921564</td>\n",
       "      <td>0.049396</td>\n",
       "      <td>0.899124</td>\n",
       "    </tr>\n",
       "    <tr>\n",
       "      <th>4</th>\n",
       "      <td>11.593770</td>\n",
       "      <td>7.921564</td>\n",
       "      <td>0.049396</td>\n",
       "      <td>0.899124</td>\n",
       "    </tr>\n",
       "    <tr>\n",
       "      <th>...</th>\n",
       "      <td>...</td>\n",
       "      <td>...</td>\n",
       "      <td>...</td>\n",
       "      <td>...</td>\n",
       "    </tr>\n",
       "    <tr>\n",
       "      <th>62179</th>\n",
       "      <td>6.107226</td>\n",
       "      <td>-1.610090</td>\n",
       "      <td>4.369962</td>\n",
       "      <td>2.167559</td>\n",
       "    </tr>\n",
       "    <tr>\n",
       "      <th>62180</th>\n",
       "      <td>6.107226</td>\n",
       "      <td>-1.610090</td>\n",
       "      <td>4.369962</td>\n",
       "      <td>2.167559</td>\n",
       "    </tr>\n",
       "    <tr>\n",
       "      <th>62181</th>\n",
       "      <td>4.364471</td>\n",
       "      <td>-5.720015</td>\n",
       "      <td>4.090512</td>\n",
       "      <td>2.185735</td>\n",
       "    </tr>\n",
       "    <tr>\n",
       "      <th>62182</th>\n",
       "      <td>4.364471</td>\n",
       "      <td>-5.720015</td>\n",
       "      <td>4.090512</td>\n",
       "      <td>2.185735</td>\n",
       "    </tr>\n",
       "    <tr>\n",
       "      <th>62183</th>\n",
       "      <td>4.364471</td>\n",
       "      <td>-5.720015</td>\n",
       "      <td>4.090512</td>\n",
       "      <td>2.185735</td>\n",
       "    </tr>\n",
       "  </tbody>\n",
       "</table>\n",
       "<p>62184 rows × 4 columns</p>\n",
       "</div>"
      ],
      "text/plain": [
       "             pc1       pc2       pc3       pc4\n",
       "0      11.593770  7.921564  0.049396  0.899124\n",
       "1      11.593770  7.921564  0.049396  0.899124\n",
       "2      11.593770  7.921564  0.049396  0.899124\n",
       "3      11.593770  7.921564  0.049396  0.899124\n",
       "4      11.593770  7.921564  0.049396  0.899124\n",
       "...          ...       ...       ...       ...\n",
       "62179   6.107226 -1.610090  4.369962  2.167559\n",
       "62180   6.107226 -1.610090  4.369962  2.167559\n",
       "62181   4.364471 -5.720015  4.090512  2.185735\n",
       "62182   4.364471 -5.720015  4.090512  2.185735\n",
       "62183   4.364471 -5.720015  4.090512  2.185735\n",
       "\n",
       "[62184 rows x 4 columns]"
      ]
     },
     "execution_count": 81,
     "metadata": {},
     "output_type": "execute_result"
    }
   ],
   "source": [
    "X_pca"
   ]
  },
  {
   "cell_type": "markdown",
   "id": "e7eba253-5778-4556-95fb-6cd54753ff56",
   "metadata": {},
   "source": [
    "#### Model for raw data"
   ]
  },
  {
   "cell_type": "code",
   "execution_count": 83,
   "id": "91eb6fd3-73f7-4209-9aa3-c51a40570fb2",
   "metadata": {},
   "outputs": [],
   "source": [
    "X_train, X_test, y_train, y_test = train_test_split(X, y, test_size=0.2, random_state=24)"
   ]
  },
  {
   "cell_type": "code",
   "execution_count": 84,
   "id": "ad50f93d-3db6-44d4-b75a-41c5f47e5626",
   "metadata": {},
   "outputs": [],
   "source": [
    "lr = LinearRegression()"
   ]
  },
  {
   "cell_type": "code",
   "execution_count": 85,
   "id": "520fd9fb-2371-489c-b100-d97050d475fd",
   "metadata": {},
   "outputs": [
    {
     "name": "stdout",
     "output_type": "stream",
     "text": [
      "0.5104253827349026\n"
     ]
    }
   ],
   "source": [
    "lr_model = lr.fit(X_train, y_train)\n",
    "lr_predict = lr_model.predict(X_test)\n",
    "r2score = r2_score(y_test, lr_predict)\n",
    "print(r2score)"
   ]
  },
  {
   "cell_type": "markdown",
   "id": "966efa0b-cae2-44ee-8a88-782595b5ba48",
   "metadata": {},
   "source": [
    "#### Model for reduced dimensionality data"
   ]
  },
  {
   "cell_type": "code",
   "execution_count": 87,
   "id": "cd8ca112-739d-4dee-ad07-e7733e9d14d2",
   "metadata": {},
   "outputs": [],
   "source": [
    "X_train, X_test, y_train, y_test = train_test_split(X_pca, y, test_size=0.2, random_state=24)"
   ]
  },
  {
   "cell_type": "code",
   "execution_count": 88,
   "id": "3bb354e6-1e1f-4edd-9307-e6461db68d2f",
   "metadata": {},
   "outputs": [
    {
     "name": "stdout",
     "output_type": "stream",
     "text": [
      "0.41908820411585923\n"
     ]
    }
   ],
   "source": [
    "lr_model_pca = lr.fit(X_train, y_train)\n",
    "lr_predict_pca = lr_model_pca.predict(X_test)\n",
    "r2score = r2_score(y_test, lr_predict_pca)\n",
    "print(r2score)"
   ]
  },
  {
   "cell_type": "markdown",
   "id": "ffb45cd9-f889-47e3-8afb-c5ca42b24e24",
   "metadata": {},
   "source": [
    "**Row data gives an r2_score of 0.51 while the pca data gives an r2_score of 0.42. So the answer is A**"
   ]
  },
  {
   "cell_type": "markdown",
   "id": "0a578b62-aedf-4aaa-8e0c-d58ac22b72b9",
   "metadata": {},
   "source": [
    "**24) Compute min correlation in the given dataset?**\n",
    "\n",
    "**A. -0.0822, B. -0.1841, C. -0.1739**"
   ]
  },
  {
   "cell_type": "code",
   "execution_count": 91,
   "id": "e4dfabb4-c886-451b-813c-b6aaf03b4685",
   "metadata": {},
   "outputs": [
    {
     "data": {
      "text/plain": [
       "-0.1739578122762517"
      ]
     },
     "execution_count": 91,
     "metadata": {},
     "output_type": "execute_result"
    }
   ],
   "source": [
    "df.corr().min().min()"
   ]
  },
  {
   "cell_type": "markdown",
   "id": "2fdbf049-77dd-4e25-b2e9-a898db6ca543",
   "metadata": {},
   "source": [
    "**Answer is C**"
   ]
  },
  {
   "cell_type": "markdown",
   "id": "c0b49f82-9f3a-4f1d-acf5-b6dd5fc80708",
   "metadata": {},
   "source": [
    "**25) Compare the performance of two Linear Regression models(gym.csv):**\n",
    "\n",
    "**The first model uses the raw data without any preprocessing.**\n",
    "\n",
    "**The second model applies standardscaler only to independent features and then apply PCA with n_components set to 4 before fitting the data.**\n",
    "\n",
    "**Both models should be generated using train_test_split with test_size=0.2 and random_state=24 during the train-test split. Your task is to calculate the Root Mean Squared Error (RMSE) for both models and determine whether the performance of the second model (StandardScalar & PCA-based) is better compared to the first model (raw data).**\n",
    "\n",
    "**A. Model 2 performance is better than Model 1**\n",
    "\n",
    "**B. Model 2 performance is not better than Model 1**\n",
    "\n",
    "**C. No change in performance**"
   ]
  },
  {
   "cell_type": "code",
   "execution_count": 94,
   "id": "e1d5e314-5942-4057-be22-dbe9b6f934eb",
   "metadata": {},
   "outputs": [],
   "source": [
    "from sklearn.pipeline import Pipeline"
   ]
  },
  {
   "cell_type": "code",
   "execution_count": 95,
   "id": "5c33d6bb-7886-4bad-a2ed-2dc18fd19671",
   "metadata": {},
   "outputs": [],
   "source": [
    "X_train, X_test, y_train, y_test = train_test_split(X, y, test_size=0.2, random_state=24)"
   ]
  },
  {
   "cell_type": "code",
   "execution_count": 96,
   "id": "da3afddf-888f-4bb3-91ff-0ecadb39e558",
   "metadata": {},
   "outputs": [
    {
     "name": "stdout",
     "output_type": "stream",
     "text": [
      "0.4763885400271679\n"
     ]
    }
   ],
   "source": [
    "lr_pipeline = Pipeline([\n",
    "    (\"scaler\", StandardScaler()),\n",
    "    (\"pca\", PCA(n_components=4)),\n",
    "    (\"lr\", LinearRegression())\n",
    "])\n",
    "\n",
    "lr_pipeline.fit(X_train, y_train)\n",
    "lr_predict = lr_pipeline.predict(X_test)\n",
    "r2score = r2_score(y_test, lr_predict)\n",
    "print(r2score)"
   ]
  },
  {
   "cell_type": "markdown",
   "id": "8a5f636b-ecbb-4f3a-983e-cf415e1aae0e",
   "metadata": {},
   "source": [
    "**We have earlier calculated r2_score for raw data as 0.51. The correct answer is B**"
   ]
  }
 ],
 "metadata": {
  "kernelspec": {
   "display_name": "Python 3 (ipykernel)",
   "language": "python",
   "name": "python3"
  },
  "language_info": {
   "codemirror_mode": {
    "name": "ipython",
    "version": 3
   },
   "file_extension": ".py",
   "mimetype": "text/x-python",
   "name": "python",
   "nbconvert_exporter": "python",
   "pygments_lexer": "ipython3",
   "version": "3.12.3"
  }
 },
 "nbformat": 4,
 "nbformat_minor": 5
}
