{
 "cells": [
  {
   "cell_type": "code",
   "execution_count": 5,
   "id": "7493d013-6677-4cd7-89e3-afd4c026e34b",
   "metadata": {},
   "outputs": [],
   "source": [
    "import pandas as pd"
   ]
  },
  {
   "cell_type": "markdown",
   "id": "0ab4dd5b-7140-479f-87f8-35b318b21f67",
   "metadata": {},
   "source": [
    "## Loading the dataset"
   ]
  },
  {
   "cell_type": "code",
   "execution_count": 6,
   "id": "4581bcd0-26cb-4a7c-85d4-f0707a2e0b01",
   "metadata": {},
   "outputs": [],
   "source": [
    "df = pd.read_csv(\"cleaned_df (1).csv\")"
   ]
  },
  {
   "cell_type": "code",
   "execution_count": 7,
   "id": "6cbf4e69-5ccf-416e-9f43-c2c6de5534b9",
   "metadata": {},
   "outputs": [
    {
     "data": {
      "text/html": [
       "<div>\n",
       "<style scoped>\n",
       "    .dataframe tbody tr th:only-of-type {\n",
       "        vertical-align: middle;\n",
       "    }\n",
       "\n",
       "    .dataframe tbody tr th {\n",
       "        vertical-align: top;\n",
       "    }\n",
       "\n",
       "    .dataframe thead th {\n",
       "        text-align: right;\n",
       "    }\n",
       "</style>\n",
       "<table border=\"1\" class=\"dataframe\">\n",
       "  <thead>\n",
       "    <tr style=\"text-align: right;\">\n",
       "      <th></th>\n",
       "      <th>Unnamed: 0</th>\n",
       "      <th>age</th>\n",
       "      <th>sex</th>\n",
       "      <th>cp</th>\n",
       "      <th>trestbps</th>\n",
       "      <th>chol</th>\n",
       "      <th>fbs</th>\n",
       "      <th>restecg</th>\n",
       "      <th>thalach</th>\n",
       "      <th>exang</th>\n",
       "      <th>oldpeak</th>\n",
       "      <th>slope</th>\n",
       "      <th>ca</th>\n",
       "      <th>thal</th>\n",
       "      <th>target</th>\n",
       "    </tr>\n",
       "  </thead>\n",
       "  <tbody>\n",
       "    <tr>\n",
       "      <th>0</th>\n",
       "      <td>0</td>\n",
       "      <td>63</td>\n",
       "      <td>1</td>\n",
       "      <td>3</td>\n",
       "      <td>145</td>\n",
       "      <td>233</td>\n",
       "      <td>1</td>\n",
       "      <td>0</td>\n",
       "      <td>150</td>\n",
       "      <td>0</td>\n",
       "      <td>2.3</td>\n",
       "      <td>0</td>\n",
       "      <td>0.0</td>\n",
       "      <td>1.0</td>\n",
       "      <td>1</td>\n",
       "    </tr>\n",
       "    <tr>\n",
       "      <th>1</th>\n",
       "      <td>1</td>\n",
       "      <td>37</td>\n",
       "      <td>1</td>\n",
       "      <td>2</td>\n",
       "      <td>130</td>\n",
       "      <td>250</td>\n",
       "      <td>0</td>\n",
       "      <td>1</td>\n",
       "      <td>187</td>\n",
       "      <td>0</td>\n",
       "      <td>3.5</td>\n",
       "      <td>0</td>\n",
       "      <td>0.0</td>\n",
       "      <td>2.0</td>\n",
       "      <td>1</td>\n",
       "    </tr>\n",
       "    <tr>\n",
       "      <th>2</th>\n",
       "      <td>2</td>\n",
       "      <td>41</td>\n",
       "      <td>0</td>\n",
       "      <td>1</td>\n",
       "      <td>130</td>\n",
       "      <td>204</td>\n",
       "      <td>0</td>\n",
       "      <td>0</td>\n",
       "      <td>172</td>\n",
       "      <td>0</td>\n",
       "      <td>1.4</td>\n",
       "      <td>2</td>\n",
       "      <td>0.0</td>\n",
       "      <td>2.0</td>\n",
       "      <td>1</td>\n",
       "    </tr>\n",
       "    <tr>\n",
       "      <th>3</th>\n",
       "      <td>3</td>\n",
       "      <td>56</td>\n",
       "      <td>1</td>\n",
       "      <td>1</td>\n",
       "      <td>120</td>\n",
       "      <td>236</td>\n",
       "      <td>0</td>\n",
       "      <td>1</td>\n",
       "      <td>178</td>\n",
       "      <td>0</td>\n",
       "      <td>0.8</td>\n",
       "      <td>2</td>\n",
       "      <td>0.0</td>\n",
       "      <td>2.0</td>\n",
       "      <td>1</td>\n",
       "    </tr>\n",
       "    <tr>\n",
       "      <th>4</th>\n",
       "      <td>4</td>\n",
       "      <td>57</td>\n",
       "      <td>0</td>\n",
       "      <td>0</td>\n",
       "      <td>120</td>\n",
       "      <td>354</td>\n",
       "      <td>0</td>\n",
       "      <td>1</td>\n",
       "      <td>163</td>\n",
       "      <td>1</td>\n",
       "      <td>0.6</td>\n",
       "      <td>2</td>\n",
       "      <td>0.0</td>\n",
       "      <td>2.0</td>\n",
       "      <td>1</td>\n",
       "    </tr>\n",
       "  </tbody>\n",
       "</table>\n",
       "</div>"
      ],
      "text/plain": [
       "   Unnamed: 0  age  sex  cp  trestbps  chol  fbs  restecg  thalach  exang  \\\n",
       "0           0   63    1   3       145   233    1        0      150      0   \n",
       "1           1   37    1   2       130   250    0        1      187      0   \n",
       "2           2   41    0   1       130   204    0        0      172      0   \n",
       "3           3   56    1   1       120   236    0        1      178      0   \n",
       "4           4   57    0   0       120   354    0        1      163      1   \n",
       "\n",
       "   oldpeak  slope   ca  thal  target  \n",
       "0      2.3      0  0.0   1.0       1  \n",
       "1      3.5      0  0.0   2.0       1  \n",
       "2      1.4      2  0.0   2.0       1  \n",
       "3      0.8      2  0.0   2.0       1  \n",
       "4      0.6      2  0.0   2.0       1  "
      ]
     },
     "execution_count": 7,
     "metadata": {},
     "output_type": "execute_result"
    }
   ],
   "source": [
    "df.head()"
   ]
  },
  {
   "cell_type": "markdown",
   "id": "ad51c971-9572-4b97-815f-bbbed1948c58",
   "metadata": {},
   "source": [
    "**Here, we can observe that we have a column Unnamed:0, an index column. We don't need this column. So we can drop this column or while loading the dataset, we can set it as an index column**"
   ]
  },
  {
   "cell_type": "code",
   "execution_count": 9,
   "id": "bf8874c0-07a4-451a-9386-652c58b52328",
   "metadata": {},
   "outputs": [],
   "source": [
    "df = pd.read_csv(\"cleaned_df (1).csv\", index_col=0) # 0 is the index of the column to be indexed"
   ]
  },
  {
   "cell_type": "code",
   "execution_count": 10,
   "id": "3f9cba84-0f86-4c24-befe-0b518d98135d",
   "metadata": {},
   "outputs": [
    {
     "data": {
      "text/html": [
       "<div>\n",
       "<style scoped>\n",
       "    .dataframe tbody tr th:only-of-type {\n",
       "        vertical-align: middle;\n",
       "    }\n",
       "\n",
       "    .dataframe tbody tr th {\n",
       "        vertical-align: top;\n",
       "    }\n",
       "\n",
       "    .dataframe thead th {\n",
       "        text-align: right;\n",
       "    }\n",
       "</style>\n",
       "<table border=\"1\" class=\"dataframe\">\n",
       "  <thead>\n",
       "    <tr style=\"text-align: right;\">\n",
       "      <th></th>\n",
       "      <th>age</th>\n",
       "      <th>sex</th>\n",
       "      <th>cp</th>\n",
       "      <th>trestbps</th>\n",
       "      <th>chol</th>\n",
       "      <th>fbs</th>\n",
       "      <th>restecg</th>\n",
       "      <th>thalach</th>\n",
       "      <th>exang</th>\n",
       "      <th>oldpeak</th>\n",
       "      <th>slope</th>\n",
       "      <th>ca</th>\n",
       "      <th>thal</th>\n",
       "      <th>target</th>\n",
       "    </tr>\n",
       "  </thead>\n",
       "  <tbody>\n",
       "    <tr>\n",
       "      <th>0</th>\n",
       "      <td>63</td>\n",
       "      <td>1</td>\n",
       "      <td>3</td>\n",
       "      <td>145</td>\n",
       "      <td>233</td>\n",
       "      <td>1</td>\n",
       "      <td>0</td>\n",
       "      <td>150</td>\n",
       "      <td>0</td>\n",
       "      <td>2.3</td>\n",
       "      <td>0</td>\n",
       "      <td>0.0</td>\n",
       "      <td>1.0</td>\n",
       "      <td>1</td>\n",
       "    </tr>\n",
       "    <tr>\n",
       "      <th>1</th>\n",
       "      <td>37</td>\n",
       "      <td>1</td>\n",
       "      <td>2</td>\n",
       "      <td>130</td>\n",
       "      <td>250</td>\n",
       "      <td>0</td>\n",
       "      <td>1</td>\n",
       "      <td>187</td>\n",
       "      <td>0</td>\n",
       "      <td>3.5</td>\n",
       "      <td>0</td>\n",
       "      <td>0.0</td>\n",
       "      <td>2.0</td>\n",
       "      <td>1</td>\n",
       "    </tr>\n",
       "    <tr>\n",
       "      <th>2</th>\n",
       "      <td>41</td>\n",
       "      <td>0</td>\n",
       "      <td>1</td>\n",
       "      <td>130</td>\n",
       "      <td>204</td>\n",
       "      <td>0</td>\n",
       "      <td>0</td>\n",
       "      <td>172</td>\n",
       "      <td>0</td>\n",
       "      <td>1.4</td>\n",
       "      <td>2</td>\n",
       "      <td>0.0</td>\n",
       "      <td>2.0</td>\n",
       "      <td>1</td>\n",
       "    </tr>\n",
       "    <tr>\n",
       "      <th>3</th>\n",
       "      <td>56</td>\n",
       "      <td>1</td>\n",
       "      <td>1</td>\n",
       "      <td>120</td>\n",
       "      <td>236</td>\n",
       "      <td>0</td>\n",
       "      <td>1</td>\n",
       "      <td>178</td>\n",
       "      <td>0</td>\n",
       "      <td>0.8</td>\n",
       "      <td>2</td>\n",
       "      <td>0.0</td>\n",
       "      <td>2.0</td>\n",
       "      <td>1</td>\n",
       "    </tr>\n",
       "    <tr>\n",
       "      <th>4</th>\n",
       "      <td>57</td>\n",
       "      <td>0</td>\n",
       "      <td>0</td>\n",
       "      <td>120</td>\n",
       "      <td>354</td>\n",
       "      <td>0</td>\n",
       "      <td>1</td>\n",
       "      <td>163</td>\n",
       "      <td>1</td>\n",
       "      <td>0.6</td>\n",
       "      <td>2</td>\n",
       "      <td>0.0</td>\n",
       "      <td>2.0</td>\n",
       "      <td>1</td>\n",
       "    </tr>\n",
       "  </tbody>\n",
       "</table>\n",
       "</div>"
      ],
      "text/plain": [
       "   age  sex  cp  trestbps  chol  fbs  restecg  thalach  exang  oldpeak  slope  \\\n",
       "0   63    1   3       145   233    1        0      150      0      2.3      0   \n",
       "1   37    1   2       130   250    0        1      187      0      3.5      0   \n",
       "2   41    0   1       130   204    0        0      172      0      1.4      2   \n",
       "3   56    1   1       120   236    0        1      178      0      0.8      2   \n",
       "4   57    0   0       120   354    0        1      163      1      0.6      2   \n",
       "\n",
       "    ca  thal  target  \n",
       "0  0.0   1.0       1  \n",
       "1  0.0   2.0       1  \n",
       "2  0.0   2.0       1  \n",
       "3  0.0   2.0       1  \n",
       "4  0.0   2.0       1  "
      ]
     },
     "execution_count": 10,
     "metadata": {},
     "output_type": "execute_result"
    }
   ],
   "source": [
    "df.head()"
   ]
  },
  {
   "cell_type": "markdown",
   "id": "8bbecb5c-201a-4e12-b282-e88fc5c08873",
   "metadata": {},
   "source": [
    "## Attribute information "
   ]
  },
  {
   "cell_type": "code",
   "execution_count": 14,
   "id": "3dc50f64-3361-4f59-bd1c-4dccbc10fc8e",
   "metadata": {},
   "outputs": [],
   "source": [
    "# age: The person’s age in years\n",
    "# sex: The person’s sex (1 = male, 0 = female)\n",
    "# cp: chest pain type\n",
    "# — Value 0: asymptomatic\n",
    "# — Value 1: atypical angina\n",
    "# — Value 2: non-anginal pain\n",
    "# — Value 3: typical angina\n",
    "# trestbps: The person’s resting blood pressure (mm Hg on admission to the hospital)\n",
    "# chol: The person’s cholesterol measurement in mg/dl\n",
    "# fbs: The person’s fasting blood sugar (> 120 mg/dl, 1 = true; 0 = false)\n",
    "# restecg: resting electrocardiographic results\n",
    "# — Value 0: showing probable or definite left ventricular hypertrophy by Estes’ criteria\n",
    "# — Value 1: normal\n",
    "# — Value 2: having ST-T wave abnormality (T wave inversions and/or ST elevation or depression of > 0.05 mV)\n",
    "# thalach: The person’s maximum heart rate achieved\n",
    "# exang: Exercise induced angina (1 = yes; 0 = no)\n",
    "# oldpeak: ST depression induced by exercise relative to rest (‘ST’ relates to positions on the ECG plot. See more here)\n",
    "# slope: the slope of the peak exercise ST segment — 0: downsloping; 1: flat; 2: upsloping\n",
    "# 0: downsloping; 1: flat; 2: upsloping\n",
    "# ca: The number of major vessels (0–3)\n",
    "# thal: A blood disorder called thalassemia Value 0: NULL (dropped from the dataset previously\n",
    "# Value 1: fixed defect (no blood flow in some part of the heart)\n",
    "# Value 2: normal blood flow\n",
    "# Value 3: reversible defect (a blood flow is observed but it is not normal)\n",
    "# target: Heart disease (1 = no, 0= yes)"
   ]
  },
  {
   "cell_type": "code",
   "execution_count": 16,
   "id": "f899e0bb-7456-4690-83b4-463bec2770b4",
   "metadata": {},
   "outputs": [
    {
     "name": "stdout",
     "output_type": "stream",
     "text": [
      "<class 'pandas.core.frame.DataFrame'>\n",
      "Index: 303 entries, 0 to 302\n",
      "Data columns (total 14 columns):\n",
      " #   Column    Non-Null Count  Dtype  \n",
      "---  ------    --------------  -----  \n",
      " 0   age       303 non-null    int64  \n",
      " 1   sex       303 non-null    int64  \n",
      " 2   cp        303 non-null    int64  \n",
      " 3   trestbps  303 non-null    int64  \n",
      " 4   chol      303 non-null    int64  \n",
      " 5   fbs       303 non-null    int64  \n",
      " 6   restecg   303 non-null    int64  \n",
      " 7   thalach   303 non-null    int64  \n",
      " 8   exang     303 non-null    int64  \n",
      " 9   oldpeak   303 non-null    float64\n",
      " 10  slope     303 non-null    int64  \n",
      " 11  ca        303 non-null    float64\n",
      " 12  thal      303 non-null    float64\n",
      " 13  target    303 non-null    int64  \n",
      "dtypes: float64(3), int64(11)\n",
      "memory usage: 35.5 KB\n"
     ]
    }
   ],
   "source": [
    "df.info()"
   ]
  },
  {
   "cell_type": "markdown",
   "id": "4ac1f7ab-69f6-4cff-89ed-dd3aa60cc4ac",
   "metadata": {},
   "source": [
    "**Our data set has 303 rows and 14 columns. We have 0 null values. 3 columns are float64dtype and 11 columns are int64dtyp**"
   ]
  },
  {
   "cell_type": "code",
   "execution_count": 18,
   "id": "779ec951-8dff-4fad-bbc2-f50c3d2f4ded",
   "metadata": {},
   "outputs": [
    {
     "data": {
      "text/html": [
       "<div>\n",
       "<style scoped>\n",
       "    .dataframe tbody tr th:only-of-type {\n",
       "        vertical-align: middle;\n",
       "    }\n",
       "\n",
       "    .dataframe tbody tr th {\n",
       "        vertical-align: top;\n",
       "    }\n",
       "\n",
       "    .dataframe thead th {\n",
       "        text-align: right;\n",
       "    }\n",
       "</style>\n",
       "<table border=\"1\" class=\"dataframe\">\n",
       "  <thead>\n",
       "    <tr style=\"text-align: right;\">\n",
       "      <th></th>\n",
       "      <th>count</th>\n",
       "      <th>mean</th>\n",
       "      <th>std</th>\n",
       "      <th>min</th>\n",
       "      <th>25%</th>\n",
       "      <th>50%</th>\n",
       "      <th>75%</th>\n",
       "      <th>max</th>\n",
       "    </tr>\n",
       "  </thead>\n",
       "  <tbody>\n",
       "    <tr>\n",
       "      <th>age</th>\n",
       "      <td>303.0</td>\n",
       "      <td>54.366337</td>\n",
       "      <td>9.082101</td>\n",
       "      <td>29.0</td>\n",
       "      <td>47.5</td>\n",
       "      <td>55.0</td>\n",
       "      <td>61.0</td>\n",
       "      <td>77.0</td>\n",
       "    </tr>\n",
       "    <tr>\n",
       "      <th>sex</th>\n",
       "      <td>303.0</td>\n",
       "      <td>0.683168</td>\n",
       "      <td>0.466011</td>\n",
       "      <td>0.0</td>\n",
       "      <td>0.0</td>\n",
       "      <td>1.0</td>\n",
       "      <td>1.0</td>\n",
       "      <td>1.0</td>\n",
       "    </tr>\n",
       "    <tr>\n",
       "      <th>cp</th>\n",
       "      <td>303.0</td>\n",
       "      <td>0.966997</td>\n",
       "      <td>1.032052</td>\n",
       "      <td>0.0</td>\n",
       "      <td>0.0</td>\n",
       "      <td>1.0</td>\n",
       "      <td>2.0</td>\n",
       "      <td>3.0</td>\n",
       "    </tr>\n",
       "    <tr>\n",
       "      <th>trestbps</th>\n",
       "      <td>303.0</td>\n",
       "      <td>131.623762</td>\n",
       "      <td>17.538143</td>\n",
       "      <td>94.0</td>\n",
       "      <td>120.0</td>\n",
       "      <td>130.0</td>\n",
       "      <td>140.0</td>\n",
       "      <td>200.0</td>\n",
       "    </tr>\n",
       "    <tr>\n",
       "      <th>chol</th>\n",
       "      <td>303.0</td>\n",
       "      <td>245.194719</td>\n",
       "      <td>48.488324</td>\n",
       "      <td>126.0</td>\n",
       "      <td>211.0</td>\n",
       "      <td>240.0</td>\n",
       "      <td>274.0</td>\n",
       "      <td>417.0</td>\n",
       "    </tr>\n",
       "    <tr>\n",
       "      <th>fbs</th>\n",
       "      <td>303.0</td>\n",
       "      <td>0.148515</td>\n",
       "      <td>0.356198</td>\n",
       "      <td>0.0</td>\n",
       "      <td>0.0</td>\n",
       "      <td>0.0</td>\n",
       "      <td>0.0</td>\n",
       "      <td>1.0</td>\n",
       "    </tr>\n",
       "    <tr>\n",
       "      <th>restecg</th>\n",
       "      <td>303.0</td>\n",
       "      <td>0.528053</td>\n",
       "      <td>0.525860</td>\n",
       "      <td>0.0</td>\n",
       "      <td>0.0</td>\n",
       "      <td>1.0</td>\n",
       "      <td>1.0</td>\n",
       "      <td>2.0</td>\n",
       "    </tr>\n",
       "    <tr>\n",
       "      <th>thalach</th>\n",
       "      <td>303.0</td>\n",
       "      <td>149.646865</td>\n",
       "      <td>22.905161</td>\n",
       "      <td>71.0</td>\n",
       "      <td>133.5</td>\n",
       "      <td>153.0</td>\n",
       "      <td>166.0</td>\n",
       "      <td>202.0</td>\n",
       "    </tr>\n",
       "    <tr>\n",
       "      <th>exang</th>\n",
       "      <td>303.0</td>\n",
       "      <td>0.326733</td>\n",
       "      <td>0.469794</td>\n",
       "      <td>0.0</td>\n",
       "      <td>0.0</td>\n",
       "      <td>0.0</td>\n",
       "      <td>1.0</td>\n",
       "      <td>1.0</td>\n",
       "    </tr>\n",
       "    <tr>\n",
       "      <th>oldpeak</th>\n",
       "      <td>303.0</td>\n",
       "      <td>1.039604</td>\n",
       "      <td>1.161075</td>\n",
       "      <td>0.0</td>\n",
       "      <td>0.0</td>\n",
       "      <td>0.8</td>\n",
       "      <td>1.6</td>\n",
       "      <td>6.2</td>\n",
       "    </tr>\n",
       "    <tr>\n",
       "      <th>slope</th>\n",
       "      <td>303.0</td>\n",
       "      <td>1.399340</td>\n",
       "      <td>0.616226</td>\n",
       "      <td>0.0</td>\n",
       "      <td>1.0</td>\n",
       "      <td>1.0</td>\n",
       "      <td>2.0</td>\n",
       "      <td>2.0</td>\n",
       "    </tr>\n",
       "    <tr>\n",
       "      <th>ca</th>\n",
       "      <td>303.0</td>\n",
       "      <td>0.663366</td>\n",
       "      <td>0.934375</td>\n",
       "      <td>0.0</td>\n",
       "      <td>0.0</td>\n",
       "      <td>0.0</td>\n",
       "      <td>1.0</td>\n",
       "      <td>3.0</td>\n",
       "    </tr>\n",
       "    <tr>\n",
       "      <th>thal</th>\n",
       "      <td>303.0</td>\n",
       "      <td>2.326733</td>\n",
       "      <td>0.583020</td>\n",
       "      <td>1.0</td>\n",
       "      <td>2.0</td>\n",
       "      <td>2.0</td>\n",
       "      <td>3.0</td>\n",
       "      <td>3.0</td>\n",
       "    </tr>\n",
       "    <tr>\n",
       "      <th>target</th>\n",
       "      <td>303.0</td>\n",
       "      <td>0.544554</td>\n",
       "      <td>0.498835</td>\n",
       "      <td>0.0</td>\n",
       "      <td>0.0</td>\n",
       "      <td>1.0</td>\n",
       "      <td>1.0</td>\n",
       "      <td>1.0</td>\n",
       "    </tr>\n",
       "  </tbody>\n",
       "</table>\n",
       "</div>"
      ],
      "text/plain": [
       "          count        mean        std    min    25%    50%    75%    max\n",
       "age       303.0   54.366337   9.082101   29.0   47.5   55.0   61.0   77.0\n",
       "sex       303.0    0.683168   0.466011    0.0    0.0    1.0    1.0    1.0\n",
       "cp        303.0    0.966997   1.032052    0.0    0.0    1.0    2.0    3.0\n",
       "trestbps  303.0  131.623762  17.538143   94.0  120.0  130.0  140.0  200.0\n",
       "chol      303.0  245.194719  48.488324  126.0  211.0  240.0  274.0  417.0\n",
       "fbs       303.0    0.148515   0.356198    0.0    0.0    0.0    0.0    1.0\n",
       "restecg   303.0    0.528053   0.525860    0.0    0.0    1.0    1.0    2.0\n",
       "thalach   303.0  149.646865  22.905161   71.0  133.5  153.0  166.0  202.0\n",
       "exang     303.0    0.326733   0.469794    0.0    0.0    0.0    1.0    1.0\n",
       "oldpeak   303.0    1.039604   1.161075    0.0    0.0    0.8    1.6    6.2\n",
       "slope     303.0    1.399340   0.616226    0.0    1.0    1.0    2.0    2.0\n",
       "ca        303.0    0.663366   0.934375    0.0    0.0    0.0    1.0    3.0\n",
       "thal      303.0    2.326733   0.583020    1.0    2.0    2.0    3.0    3.0\n",
       "target    303.0    0.544554   0.498835    0.0    0.0    1.0    1.0    1.0"
      ]
     },
     "execution_count": 18,
     "metadata": {},
     "output_type": "execute_result"
    }
   ],
   "source": [
    "df.describe().T"
   ]
  },
  {
   "cell_type": "markdown",
   "id": "bde6c348-6128-412e-b714-ab002901b464",
   "metadata": {},
   "source": [
    "## Train, test split"
   ]
  },
  {
   "cell_type": "code",
   "execution_count": 21,
   "id": "b9aff4c3-1842-4127-aa1a-abc38c855a9f",
   "metadata": {},
   "outputs": [],
   "source": [
    "y=df[\"target\"]\n",
    "X=df.drop(\"target\", axis=1)"
   ]
  },
  {
   "cell_type": "code",
   "execution_count": 23,
   "id": "ba48781b-8a1b-484f-a765-ee0285b44617",
   "metadata": {},
   "outputs": [],
   "source": [
    "from sklearn.model_selection import train_test_split"
   ]
  },
  {
   "cell_type": "code",
   "execution_count": 25,
   "id": "7cf523c0-3e3b-4552-8fde-5777eef81487",
   "metadata": {},
   "outputs": [],
   "source": [
    "X_train, X_test, y_train, y_test = train_test_split(X, y, test_size=0.2, random_state=42)"
   ]
  },
  {
   "cell_type": "markdown",
   "id": "9d640f5f-c109-4e9d-9936-d66b2b1a8dcb",
   "metadata": {},
   "source": [
    "## Scaling the data\n",
    "**If we observe the range of each column, it differs significantly. Column 'age' has a range of 29-77, while 'thal' has a range of 1-3. When the column range differs significantly, as it does in our dataset. We will use StandardScaler to scale the data**"
   ]
  },
  {
   "cell_type": "markdown",
   "id": "9bc3b32a-cfb4-4b96-856e-b897f6b0ec83",
   "metadata": {},
   "source": [
    "**Decision Tree and Random Forest do not require data to be scaled. Splitting is done based on the feature values, so the scale of the data does not affect their performance.**"
   ]
  },
  {
   "cell_type": "markdown",
   "id": "25dac7b8-e423-48ec-ac50-cff39a0d0136",
   "metadata": {},
   "source": [
    "**Since we are going to implement Logistic Regression as well, we need the data to be scaled**"
   ]
  },
  {
   "cell_type": "code",
   "execution_count": 30,
   "id": "740fbd0a-f6c2-4bd2-8e00-556f897fccda",
   "metadata": {},
   "outputs": [],
   "source": [
    "from sklearn.preprocessing import StandardScaler"
   ]
  },
  {
   "cell_type": "code",
   "execution_count": 32,
   "id": "daf0d99d-469e-4e7c-8d51-a4a8e53a40bf",
   "metadata": {},
   "outputs": [],
   "source": [
    "scaler = StandardScaler()"
   ]
  },
  {
   "cell_type": "code",
   "execution_count": 36,
   "id": "462963c4-ccbe-4ee6-b926-46d01414840f",
   "metadata": {},
   "outputs": [],
   "source": [
    "X_train  = scaler.fit_transform(X_train)\n",
    "X_test = scaler.transform(X_test)"
   ]
  },
  {
   "cell_type": "markdown",
   "id": "56521f58-7aa1-4e94-a71e-f5d866e97910",
   "metadata": {},
   "source": [
    "**Here, we have used fit_transform for X_train and just transform for X_test. Let us understand this**\n",
    "\n",
    "**In the first line of code, X_train=scaler.fit_transform(X_train), we perform two operations, fit and transform. First, the fit operation will be performed. In the fit operation, the StandardScaler computes the data's mean and standard deviation and scales it such that the mean is 0 and the standard deviation is 1. Once, the data is fit, a scale is set. (The range of standard scale data is usally [-3,3], 99.7% of the values are covered in 3 standard deviations on either side of the mean). The transformation is based on the scale that the algorithm computes while fitting the train data**\n",
    "\n",
    "**Now, for X_test, if we again perform fit_transform, it will compute the scale again, which would be different from the one computed earlier for X_train. Because we do not want to change the scale, we only perform .transform() for X_test**"
   ]
  },
  {
   "cell_type": "markdown",
   "id": "01bb7526-f2cc-4573-8522-56fc3d3c377c",
   "metadata": {},
   "source": [
    "## Model Implementation"
   ]
  },
  {
   "cell_type": "markdown",
   "id": "4cb15b10-9e67-4ef5-93cd-470fc23f195b",
   "metadata": {},
   "source": [
    "**First, we will implement a baseline algorithm also known as DummyClassifier. This algorithm guesses the outcome of the target varible randomly. This algorithm generally gives the worst prediction**\n",
    "\n",
    "**Following this, we will implement LogisitcRegression, DecisionTreeClassifier, and RandomForestClassifier and compare the models, to determine the best model among the 3**"
   ]
  },
  {
   "cell_type": "markdown",
   "id": "de185656-6c5a-4d34-a4b4-38ca9cad975a",
   "metadata": {},
   "source": [
    "### Dummy Classifier"
   ]
  },
  {
   "cell_type": "code",
   "execution_count": 66,
   "id": "391198f3-4009-4dfc-aa53-719b61b66aaf",
   "metadata": {},
   "outputs": [],
   "source": [
    "from sklearn.dummy import DummyClassifier\n",
    "from sklearn.metrics import accuracy_score, confusion_matrix, classification_report"
   ]
  },
  {
   "cell_type": "code",
   "execution_count": 70,
   "id": "059f0031-2e74-4643-91d0-9bc426478f94",
   "metadata": {},
   "outputs": [
    {
     "name": "stdout",
     "output_type": "stream",
     "text": [
      "Dummy accuracy 0.5245901639344263\n"
     ]
    }
   ],
   "source": [
    "dummy = DummyClassifier()\n",
    "dummy.fit(X_train,y_train)\n",
    "accuracy_dummy = dummy.score(X_test, y_test)\n",
    "print(\"Dummy accuracy\", accuracy_dummy)"
   ]
  },
  {
   "cell_type": "code",
   "execution_count": 68,
   "id": "a2cd2aa7-f43b-448f-8346-937ef4fbce1b",
   "metadata": {},
   "outputs": [
    {
     "name": "stdout",
     "output_type": "stream",
     "text": [
      "Dummy accuracy 0.5245901639344263\n"
     ]
    }
   ],
   "source": [
    "dummy_manual = DummyClassifier()\n",
    "dummy_manual.fit(X_train,y_train)\n",
    "y_pred = dummy_manual.predict(X_test)\n",
    "accuracy_dummy = accuracy_score(y_test, y_pred)\n",
    "print(\"Dummy accuracy\", accuracy_dummy)"
   ]
  },
  {
   "cell_type": "markdown",
   "id": "eb34c935-7e4f-4737-a705-0711e0897b4a",
   "metadata": {},
   "source": [
    "**If we notice the difference between the two codes, in the first code we have not predicted the values using .predict, while in the second code we have. Let us understand this**\n",
    "\n",
    "**In the first code we are using ''.score()' method of the dummy classifier. This method, predicts the labels for X_test and compares them to y_test internally, thereby eliminating the need to predict the target labels for X_test separately**\n",
    "\n",
    "**In the second code, we are using accuracy_score to predict the accuracy of the models which requires us to pass the predicted labels and actual labels. Hence, the need to calculate y_pred separately**"
   ]
  },
  {
   "cell_type": "markdown",
   "id": "5836cc92-b00b-4def-96ef-787addc1c2a2",
   "metadata": {},
   "source": [
    "**Our model gives an accuracy of 52.45%. This is the worst accuracy any model can predict. Any further models we implement will perform at least as good as this model**"
   ]
  },
  {
   "cell_type": "markdown",
   "id": "aeb7daba-b466-4a87-9ed8-a60d414bbeba",
   "metadata": {},
   "source": [
    "## Logistic Regression"
   ]
  },
  {
   "cell_type": "code",
   "execution_count": 79,
   "id": "1a5fd972-57c3-457d-9b68-c90cad5d3e14",
   "metadata": {},
   "outputs": [],
   "source": [
    "from sklearn.linear_model import LogisticRegression"
   ]
  },
  {
   "cell_type": "code",
   "execution_count": 83,
   "id": "d2e40acd-99d1-451a-9765-bebc706b3422",
   "metadata": {},
   "outputs": [
    {
     "name": "stdout",
     "output_type": "stream",
     "text": [
      "Confusion matrix: \n",
      " [[26  3]\n",
      " [ 4 28]]\n",
      "              precision    recall  f1-score   support\n",
      "\n",
      "           0       0.87      0.90      0.88        29\n",
      "           1       0.90      0.88      0.89        32\n",
      "\n",
      "    accuracy                           0.89        61\n",
      "   macro avg       0.88      0.89      0.89        61\n",
      "weighted avg       0.89      0.89      0.89        61\n",
      "\n"
     ]
    }
   ],
   "source": [
    "log_model = LogisticRegression()\n",
    "log_model.fit(X_train,y_train)\n",
    "y_pred_log = log_model.predict(X_test)\n",
    "\n",
    "cm_log = confusion_matrix(y_test, y_pred_log)\n",
    "clf_log = classification_report(y_test, y_pred_log)\n",
    "\n",
    "print(f\"Confusion matrix: \\n {cm_log}\")\n",
    "print(clf_log)"
   ]
  },
  {
   "cell_type": "markdown",
   "id": "d8f46bdd-02bf-4a4e-9636-453b03908bfd",
   "metadata": {},
   "source": [
    "## Decision Tree"
   ]
  },
  {
   "cell_type": "code",
   "execution_count": 86,
   "id": "d8b64a96-1e52-4968-9202-a07b9ed367d8",
   "metadata": {},
   "outputs": [],
   "source": [
    "from sklearn.tree import DecisionTreeClassifier"
   ]
  },
  {
   "cell_type": "code",
   "execution_count": 90,
   "id": "87f8c0bf-8f65-46c1-8908-4bf054061d29",
   "metadata": {},
   "outputs": [
    {
     "name": "stdout",
     "output_type": "stream",
     "text": [
      "Confusion matrix: \n",
      " [[23  6]\n",
      " [ 7 25]]\n",
      "              precision    recall  f1-score   support\n",
      "\n",
      "           0       0.77      0.79      0.78        29\n",
      "           1       0.81      0.78      0.79        32\n",
      "\n",
      "    accuracy                           0.79        61\n",
      "   macro avg       0.79      0.79      0.79        61\n",
      "weighted avg       0.79      0.79      0.79        61\n",
      "\n"
     ]
    }
   ],
   "source": [
    "tree_model = DecisionTreeClassifier()\n",
    "tree_model.fit(X_train,y_train)\n",
    "y_pred_tree = tree_model.predict(X_test)\n",
    "\n",
    "cm_tree = confusion_matrix(y_test, y_pred_tree)\n",
    "clf_tree = classification_report(y_test,y_pred_tree)\n",
    "\n",
    "print(f\"Confusion matrix: \\n {cm_tree}\")\n",
    "print(clf_tree)"
   ]
  },
  {
   "cell_type": "markdown",
   "id": "ed7b92a3-7695-433c-a89f-0e89210ad1d6",
   "metadata": {},
   "source": [
    "## Random Forest"
   ]
  },
  {
   "cell_type": "code",
   "execution_count": 93,
   "id": "b6d5c4d8-e5db-499b-a587-0deb86185654",
   "metadata": {},
   "outputs": [],
   "source": [
    "from sklearn.ensemble import RandomForestClassifier"
   ]
  },
  {
   "cell_type": "code",
   "execution_count": 95,
   "id": "57b29704-0df5-4732-bad8-ac054cd27c0b",
   "metadata": {},
   "outputs": [
    {
     "name": "stdout",
     "output_type": "stream",
     "text": [
      "confusion matrix: \n",
      " [[24  5]\n",
      " [ 5 27]]\n",
      "              precision    recall  f1-score   support\n",
      "\n",
      "           0       0.83      0.83      0.83        29\n",
      "           1       0.84      0.84      0.84        32\n",
      "\n",
      "    accuracy                           0.84        61\n",
      "   macro avg       0.84      0.84      0.84        61\n",
      "weighted avg       0.84      0.84      0.84        61\n",
      "\n"
     ]
    }
   ],
   "source": [
    "rfc_model = RandomForestClassifier()\n",
    "rfc_model.fit(X_train,y_train)\n",
    "y_pred_rfc = rfc_model.predict(X_test)\n",
    "\n",
    "cm_rfc = confusion_matrix(y_test, y_pred_rfc)\n",
    "clf_report = classification_report(y_test,y_pred_rfc)\n",
    "\n",
    "print(f\"confusion matrix: \\n {cm_rfc}\")\n",
    "print(clf_report)"
   ]
  },
  {
   "cell_type": "markdown",
   "id": "f4445943-3530-412e-9f66-7ff48ad83381",
   "metadata": {},
   "source": [
    "**While evaluating the performance of a model, it is important to consider all the factors like accuracy, precision, recall, and f1-score. If your model achieves high accuracy and precision but the recall score is poor, the model will not perform well in production. It is also important to see the balance of scores between the classes. In our models, the recall and f1-score are almost similar for both the classes, '0' and '1'. If the model performs better for one class, say '0' and poor for another class, say '1', then the model is unreliable.**\n",
    "\n",
    "**If we observe the classification report of our models, all 3 models have a good balance between class '0' and class '1'. There is no huge difference in the precision, recall, and f1-score of the two classes**\n",
    "\n",
    "**We also observe that the LogisticRegression performs the best among all 3 models in all the parameters, accuracy, precision, recall, and f1-score**"
   ]
  },
  {
   "cell_type": "markdown",
   "id": "09ac7bf3-de19-4c6b-8ea2-367151924854",
   "metadata": {},
   "source": [
    "## Random Forest Classifier (Hyper Parameter Tuning)"
   ]
  },
  {
   "cell_type": "code",
   "execution_count": 111,
   "id": "aee0d1fe-211d-4b2b-8b48-b5aed94cf3e2",
   "metadata": {},
   "outputs": [],
   "source": [
    "# class sklearn.ensemble.RandomForestClassifier(n_estimators=100, *, \n",
    "#                                                 criterion='gini', \n",
    "#                                                 max_depth=None, \n",
    "#                                                 min_samples_split=2, \n",
    "#                                                 min_samples_leaf=1, \n",
    "#                                                 min_weight_fraction_leaf=0.0, \n",
    "#                                                 max_features='sqrt', \n",
    "#                                                 max_leaf_nodes=None, \n",
    "#                                                 min_impurity_decrease=0.0, \n",
    "#                                                 bootstrap=True, \n",
    "#                                                 oob_score=False, \n",
    "#                                                 n_jobs=None, \n",
    "#                                                 random_state=None, \n",
    "#                                                 verbose=0, \n",
    "#                                                 warm_start=False, \n",
    "#                                                 class_weight=None, \n",
    "#                                                 ccp_alpha=0.0, \n",
    "#                                                 max_samples=None, \n",
    "#                                                 # monotonic_cst=None)\r\n"
   ]
  },
  {
   "cell_type": "code",
   "execution_count": 114,
   "id": "f58016a5-0e9f-4e21-b63f-237389b7d256",
   "metadata": {},
   "outputs": [],
   "source": [
    "from sklearn.model_selection import GridSearchCV"
   ]
  },
  {
   "cell_type": "code",
   "execution_count": 118,
   "id": "ccfc308f-8125-46da-939d-080bb52f8160",
   "metadata": {},
   "outputs": [],
   "source": [
    "param_grid_rfc = {\"n_estimators\": [100,200,300,400],\n",
    "                 \"criterion\": ['gini','entropy'],\n",
    "                 \"max_depth\":[None, 10, 20, 30],\n",
    "                 \"min_samples_split\": [2,4],\n",
    "                 \"oob_score\":[False, True]}"
   ]
  },
  {
   "cell_type": "code",
   "execution_count": 120,
   "id": "ecaa6e97-a17a-4752-aac8-a2566db6e555",
   "metadata": {},
   "outputs": [],
   "source": [
    "grid_search_rfc = GridSearchCV(estimator=rfc_model, param_grid=param_grid_rfc, cv=5, scoring=\"accuracy\", n_jobs=-1)"
   ]
  },
  {
   "cell_type": "code",
   "execution_count": 122,
   "id": "93bae5b9-d874-4963-bf96-8a5f23ff2183",
   "metadata": {},
   "outputs": [],
   "source": [
    "grid_search_rfc.fit(X_train,y_train)\n",
    "rfc_best_param = grid_search_rfc.best_params_\n",
    "rfc_best_score = grid_search_rfc.best_score_"
   ]
  },
  {
   "cell_type": "code",
   "execution_count": 124,
   "id": "5f701e90-b4ac-4826-99d1-aaec92e78226",
   "metadata": {},
   "outputs": [
    {
     "data": {
      "text/plain": [
       "{'criterion': 'entropy',\n",
       " 'max_depth': None,\n",
       " 'min_samples_split': 2,\n",
       " 'n_estimators': 100,\n",
       " 'oob_score': True}"
      ]
     },
     "execution_count": 124,
     "metadata": {},
     "output_type": "execute_result"
    }
   ],
   "source": [
    "rfc_best_param"
   ]
  },
  {
   "cell_type": "code",
   "execution_count": 126,
   "id": "4b2c2181-3867-4259-8291-10ceba816bfd",
   "metadata": {},
   "outputs": [
    {
     "data": {
      "text/plain": [
       "0.8388605442176871"
      ]
     },
     "execution_count": 126,
     "metadata": {},
     "output_type": "execute_result"
    }
   ],
   "source": [
    "rfc_best_score"
   ]
  },
  {
   "cell_type": "markdown",
   "id": "7fb4de15-40af-4097-92ae-695a9bf2b2db",
   "metadata": {},
   "source": [
    "**Even after hyper parameter tuning, the model returns the same accuracy**"
   ]
  },
  {
   "cell_type": "code",
   "execution_count": 129,
   "id": "acb262a6-60d9-4796-8477-2811d842b4be",
   "metadata": {},
   "outputs": [
    {
     "name": "stdout",
     "output_type": "stream",
     "text": [
      "confusion matrix: \n",
      " [[24  5]\n",
      " [ 5 27]]\n",
      "Classification report: \n",
      "               precision    recall  f1-score   support\n",
      "\n",
      "           0       0.83      0.83      0.83        29\n",
      "           1       0.84      0.84      0.84        32\n",
      "\n",
      "    accuracy                           0.84        61\n",
      "   macro avg       0.84      0.84      0.84        61\n",
      "weighted avg       0.84      0.84      0.84        61\n",
      "\n"
     ]
    }
   ],
   "source": [
    "rfc_model_tune = RandomForestClassifier(**rfc_best_param) #kwarg can be mentioned with **\n",
    "rfc_model_tune.fit(X_train, y_train)\n",
    "y_pred_rfc_model_tune = rfc_model_tune.predict(X_test)\n",
    "\n",
    "cm_rfc_model_tune = confusion_matrix(y_test, y_pred_rfc_model_tune)\n",
    "clf_rfc_model_tune = classification_report(y_test, y_pred_rfc_model_tune)\n",
    "\n",
    "print(f\"confusion matrix: \\n {cm_rfc_model_tune}\")\n",
    "print(f\"Classification report: \\n {clf_rfc_model_tune}\")"
   ]
  },
  {
   "cell_type": "markdown",
   "id": "18131ef0-e9a4-4a02-98aa-194638ccfcb7",
   "metadata": {},
   "source": [
    "**As observed earlier, the accuracy, precision, recall, and f1-score remain the same even after tuning the parameters**"
   ]
  },
  {
   "cell_type": "markdown",
   "id": "c110cb0b-fd1f-47c9-a4d9-6bc9aa49b876",
   "metadata": {},
   "source": [
    "**Logistic Regression remains the best model for this dataset**"
   ]
  }
 ],
 "metadata": {
  "kernelspec": {
   "display_name": "Python 3 (ipykernel)",
   "language": "python",
   "name": "python3"
  },
  "language_info": {
   "codemirror_mode": {
    "name": "ipython",
    "version": 3
   },
   "file_extension": ".py",
   "mimetype": "text/x-python",
   "name": "python",
   "nbconvert_exporter": "python",
   "pygments_lexer": "ipython3",
   "version": "3.12.3"
  }
 },
 "nbformat": 4,
 "nbformat_minor": 5
}
