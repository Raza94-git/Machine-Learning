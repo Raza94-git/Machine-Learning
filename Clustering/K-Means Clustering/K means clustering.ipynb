{
 "cells": [
  {
   "cell_type": "markdown",
   "id": "750a2f39-7387-4e15-a3e8-c96783b8236d",
   "metadata": {},
   "source": [
    "# Implementing K-means Clustering algorithm "
   ]
  },
  {
   "cell_type": "markdown",
   "id": "ace53f75-071a-41bd-8de4-f3dfceb8f493",
   "metadata": {},
   "source": [
    "## Import preliminary libraries"
   ]
  },
  {
   "cell_type": "code",
   "execution_count": 235,
   "id": "7883debc-dd2a-4d16-b7bb-e693846786aa",
   "metadata": {},
   "outputs": [],
   "source": [
    "import numpy as np\n",
    "import pandas as pd\n",
    "import matplotlib.pyplot as plt\n",
    "import seaborn as sns\n",
    "import warnings\n",
    "warnings.filterwarnings(\"ignore\")"
   ]
  },
  {
   "cell_type": "markdown",
   "id": "5a09a2df-b476-4801-830b-2a926b267de1",
   "metadata": {},
   "source": [
    "## Loading the dataset "
   ]
  },
  {
   "cell_type": "code",
   "execution_count": 237,
   "id": "efc24ca3-93be-460d-8427-288f8b3925af",
   "metadata": {},
   "outputs": [],
   "source": [
    "df = pd.read_csv(\"income.csv\")"
   ]
  },
  {
   "cell_type": "code",
   "execution_count": 238,
   "id": "c7cbd6db-40a8-4883-acaf-c87b592a3e51",
   "metadata": {},
   "outputs": [
    {
     "data": {
      "text/html": [
       "<div>\n",
       "<style scoped>\n",
       "    .dataframe tbody tr th:only-of-type {\n",
       "        vertical-align: middle;\n",
       "    }\n",
       "\n",
       "    .dataframe tbody tr th {\n",
       "        vertical-align: top;\n",
       "    }\n",
       "\n",
       "    .dataframe thead th {\n",
       "        text-align: right;\n",
       "    }\n",
       "</style>\n",
       "<table border=\"1\" class=\"dataframe\">\n",
       "  <thead>\n",
       "    <tr style=\"text-align: right;\">\n",
       "      <th></th>\n",
       "      <th>Name</th>\n",
       "      <th>Age</th>\n",
       "      <th>Income($)</th>\n",
       "    </tr>\n",
       "  </thead>\n",
       "  <tbody>\n",
       "    <tr>\n",
       "      <th>0</th>\n",
       "      <td>Rob</td>\n",
       "      <td>27</td>\n",
       "      <td>70000</td>\n",
       "    </tr>\n",
       "    <tr>\n",
       "      <th>1</th>\n",
       "      <td>Michael</td>\n",
       "      <td>29</td>\n",
       "      <td>90000</td>\n",
       "    </tr>\n",
       "    <tr>\n",
       "      <th>2</th>\n",
       "      <td>Mohan</td>\n",
       "      <td>29</td>\n",
       "      <td>61000</td>\n",
       "    </tr>\n",
       "    <tr>\n",
       "      <th>3</th>\n",
       "      <td>Ismail</td>\n",
       "      <td>28</td>\n",
       "      <td>60000</td>\n",
       "    </tr>\n",
       "    <tr>\n",
       "      <th>4</th>\n",
       "      <td>Kory</td>\n",
       "      <td>42</td>\n",
       "      <td>150000</td>\n",
       "    </tr>\n",
       "  </tbody>\n",
       "</table>\n",
       "</div>"
      ],
      "text/plain": [
       "      Name  Age  Income($)\n",
       "0      Rob   27      70000\n",
       "1  Michael   29      90000\n",
       "2    Mohan   29      61000\n",
       "3   Ismail   28      60000\n",
       "4     Kory   42     150000"
      ]
     },
     "execution_count": 238,
     "metadata": {},
     "output_type": "execute_result"
    }
   ],
   "source": [
    "df.head()"
   ]
  },
  {
   "cell_type": "markdown",
   "id": "db65f4b4-bc83-4d9d-93d4-2f6597c99f3e",
   "metadata": {},
   "source": [
    "## Deleteing the \"Name\" column\n",
    "**The \"Name\" column is of no consequence to our algorithm. Hence, it can be dropped**"
   ]
  },
  {
   "cell_type": "code",
   "execution_count": 240,
   "id": "34d648a0-4c9a-4d58-9f03-032cf08cbc6a",
   "metadata": {},
   "outputs": [],
   "source": [
    "del df[\"Name\"]"
   ]
  },
  {
   "cell_type": "code",
   "execution_count": 241,
   "id": "bd958493-3d3c-4333-9794-8aa4b63270c8",
   "metadata": {},
   "outputs": [
    {
     "data": {
      "text/html": [
       "<div>\n",
       "<style scoped>\n",
       "    .dataframe tbody tr th:only-of-type {\n",
       "        vertical-align: middle;\n",
       "    }\n",
       "\n",
       "    .dataframe tbody tr th {\n",
       "        vertical-align: top;\n",
       "    }\n",
       "\n",
       "    .dataframe thead th {\n",
       "        text-align: right;\n",
       "    }\n",
       "</style>\n",
       "<table border=\"1\" class=\"dataframe\">\n",
       "  <thead>\n",
       "    <tr style=\"text-align: right;\">\n",
       "      <th></th>\n",
       "      <th>Age</th>\n",
       "      <th>Income($)</th>\n",
       "    </tr>\n",
       "  </thead>\n",
       "  <tbody>\n",
       "    <tr>\n",
       "      <th>0</th>\n",
       "      <td>27</td>\n",
       "      <td>70000</td>\n",
       "    </tr>\n",
       "    <tr>\n",
       "      <th>1</th>\n",
       "      <td>29</td>\n",
       "      <td>90000</td>\n",
       "    </tr>\n",
       "    <tr>\n",
       "      <th>2</th>\n",
       "      <td>29</td>\n",
       "      <td>61000</td>\n",
       "    </tr>\n",
       "    <tr>\n",
       "      <th>3</th>\n",
       "      <td>28</td>\n",
       "      <td>60000</td>\n",
       "    </tr>\n",
       "    <tr>\n",
       "      <th>4</th>\n",
       "      <td>42</td>\n",
       "      <td>150000</td>\n",
       "    </tr>\n",
       "  </tbody>\n",
       "</table>\n",
       "</div>"
      ],
      "text/plain": [
       "   Age  Income($)\n",
       "0   27      70000\n",
       "1   29      90000\n",
       "2   29      61000\n",
       "3   28      60000\n",
       "4   42     150000"
      ]
     },
     "execution_count": 241,
     "metadata": {},
     "output_type": "execute_result"
    }
   ],
   "source": [
    "df.head()"
   ]
  },
  {
   "cell_type": "markdown",
   "id": "5b3764c5-9ff9-4ae6-84c3-0b326820328f",
   "metadata": {},
   "source": [
    "## Renaming the columns"
   ]
  },
  {
   "cell_type": "code",
   "execution_count": 243,
   "id": "e4db6554-5ff6-43ed-bb1a-a772fe7f09d4",
   "metadata": {},
   "outputs": [],
   "source": [
    "df.rename(columns={\"Age\": \"age\", \"Income($)\": \"income\"}, inplace=True)"
   ]
  },
  {
   "cell_type": "code",
   "execution_count": 244,
   "id": "7e1a7142-e81a-4d0f-b7ac-104fcf9dce72",
   "metadata": {},
   "outputs": [
    {
     "data": {
      "text/html": [
       "<div>\n",
       "<style scoped>\n",
       "    .dataframe tbody tr th:only-of-type {\n",
       "        vertical-align: middle;\n",
       "    }\n",
       "\n",
       "    .dataframe tbody tr th {\n",
       "        vertical-align: top;\n",
       "    }\n",
       "\n",
       "    .dataframe thead th {\n",
       "        text-align: right;\n",
       "    }\n",
       "</style>\n",
       "<table border=\"1\" class=\"dataframe\">\n",
       "  <thead>\n",
       "    <tr style=\"text-align: right;\">\n",
       "      <th></th>\n",
       "      <th>age</th>\n",
       "      <th>income</th>\n",
       "    </tr>\n",
       "  </thead>\n",
       "  <tbody>\n",
       "    <tr>\n",
       "      <th>0</th>\n",
       "      <td>27</td>\n",
       "      <td>70000</td>\n",
       "    </tr>\n",
       "    <tr>\n",
       "      <th>1</th>\n",
       "      <td>29</td>\n",
       "      <td>90000</td>\n",
       "    </tr>\n",
       "    <tr>\n",
       "      <th>2</th>\n",
       "      <td>29</td>\n",
       "      <td>61000</td>\n",
       "    </tr>\n",
       "    <tr>\n",
       "      <th>3</th>\n",
       "      <td>28</td>\n",
       "      <td>60000</td>\n",
       "    </tr>\n",
       "    <tr>\n",
       "      <th>4</th>\n",
       "      <td>42</td>\n",
       "      <td>150000</td>\n",
       "    </tr>\n",
       "  </tbody>\n",
       "</table>\n",
       "</div>"
      ],
      "text/plain": [
       "   age  income\n",
       "0   27   70000\n",
       "1   29   90000\n",
       "2   29   61000\n",
       "3   28   60000\n",
       "4   42  150000"
      ]
     },
     "execution_count": 244,
     "metadata": {},
     "output_type": "execute_result"
    }
   ],
   "source": [
    "df.head()"
   ]
  },
  {
   "cell_type": "markdown",
   "id": "ca50805c-cc3b-46ab-9b6b-301ba80cabe4",
   "metadata": {},
   "source": [
    "## General observation"
   ]
  },
  {
   "cell_type": "code",
   "execution_count": 246,
   "id": "9f5c7118-dfb5-4e73-8305-3850b36b984f",
   "metadata": {},
   "outputs": [
    {
     "name": "stdout",
     "output_type": "stream",
     "text": [
      "<class 'pandas.core.frame.DataFrame'>\n",
      "RangeIndex: 22 entries, 0 to 21\n",
      "Data columns (total 2 columns):\n",
      " #   Column  Non-Null Count  Dtype\n",
      "---  ------  --------------  -----\n",
      " 0   age     22 non-null     int64\n",
      " 1   income  22 non-null     int64\n",
      "dtypes: int64(2)\n",
      "memory usage: 484.0 bytes\n"
     ]
    }
   ],
   "source": [
    "df.info()"
   ]
  },
  {
   "cell_type": "markdown",
   "id": "210b00aa-aa82-4e69-9ccd-c3c647fffc78",
   "metadata": {},
   "source": [
    "## Statistical Summary"
   ]
  },
  {
   "cell_type": "code",
   "execution_count": 248,
   "id": "c2651698-fd1d-4f19-8179-88b0b46185e1",
   "metadata": {},
   "outputs": [
    {
     "data": {
      "text/html": [
       "<div>\n",
       "<style scoped>\n",
       "    .dataframe tbody tr th:only-of-type {\n",
       "        vertical-align: middle;\n",
       "    }\n",
       "\n",
       "    .dataframe tbody tr th {\n",
       "        vertical-align: top;\n",
       "    }\n",
       "\n",
       "    .dataframe thead th {\n",
       "        text-align: right;\n",
       "    }\n",
       "</style>\n",
       "<table border=\"1\" class=\"dataframe\">\n",
       "  <thead>\n",
       "    <tr style=\"text-align: right;\">\n",
       "      <th></th>\n",
       "      <th>age</th>\n",
       "      <th>income</th>\n",
       "    </tr>\n",
       "  </thead>\n",
       "  <tbody>\n",
       "    <tr>\n",
       "      <th>count</th>\n",
       "      <td>22.000000</td>\n",
       "      <td>22.000000</td>\n",
       "    </tr>\n",
       "    <tr>\n",
       "      <th>mean</th>\n",
       "      <td>34.818182</td>\n",
       "      <td>90431.818182</td>\n",
       "    </tr>\n",
       "    <tr>\n",
       "      <th>std</th>\n",
       "      <td>5.901060</td>\n",
       "      <td>43505.964412</td>\n",
       "    </tr>\n",
       "    <tr>\n",
       "      <th>min</th>\n",
       "      <td>26.000000</td>\n",
       "      <td>45000.000000</td>\n",
       "    </tr>\n",
       "    <tr>\n",
       "      <th>25%</th>\n",
       "      <td>29.000000</td>\n",
       "      <td>58500.000000</td>\n",
       "    </tr>\n",
       "    <tr>\n",
       "      <th>50%</th>\n",
       "      <td>36.500000</td>\n",
       "      <td>67500.000000</td>\n",
       "    </tr>\n",
       "    <tr>\n",
       "      <th>75%</th>\n",
       "      <td>39.750000</td>\n",
       "      <td>135250.000000</td>\n",
       "    </tr>\n",
       "    <tr>\n",
       "      <th>max</th>\n",
       "      <td>43.000000</td>\n",
       "      <td>162000.000000</td>\n",
       "    </tr>\n",
       "  </tbody>\n",
       "</table>\n",
       "</div>"
      ],
      "text/plain": [
       "             age         income\n",
       "count  22.000000      22.000000\n",
       "mean   34.818182   90431.818182\n",
       "std     5.901060   43505.964412\n",
       "min    26.000000   45000.000000\n",
       "25%    29.000000   58500.000000\n",
       "50%    36.500000   67500.000000\n",
       "75%    39.750000  135250.000000\n",
       "max    43.000000  162000.000000"
      ]
     },
     "execution_count": 248,
     "metadata": {},
     "output_type": "execute_result"
    }
   ],
   "source": [
    "df.describe()"
   ]
  },
  {
   "cell_type": "markdown",
   "id": "51df2bc8-7358-4f52-ab38-0de20ab23a04",
   "metadata": {},
   "source": [
    "## Visualization"
   ]
  },
  {
   "cell_type": "code",
   "execution_count": 250,
   "id": "3f7adf98-aa52-4c7b-8975-05353d199db6",
   "metadata": {},
   "outputs": [
    {
     "data": {
      "image/png": "[encoded data removed]",
      "text/plain": [
       "<Figure size 640x480 with 1 Axes>"
      ]
     },
     "metadata": {},
     "output_type": "display_data"
    }
   ],
   "source": [
    "plt.scatter(df.age, df.income)\n",
    "plt.xlabel(\"Age\")\n",
    "plt.ylabel(\"Income\")\n",
    "plt.title(\"Age vs Income\")\n",
    "plt.grid(True, linewidth=0.1, color='black')\n",
    "plt.show()"
   ]
  },
  {
   "cell_type": "markdown",
   "id": "80651c7c-9293-4a25-a011-58e031c8b966",
   "metadata": {},
   "source": [
    "## Plotting Elbow and Silhouette plots"
   ]
  },
  {
   "cell_type": "code",
   "execution_count": 252,
   "id": "57ce28b9-80d3-448f-9063-f9943c6fd0de",
   "metadata": {},
   "outputs": [],
   "source": [
    "from sklearn.cluster import KMeans\n",
    "from sklearn.metrics import silhouette_score"
   ]
  },
  {
   "cell_type": "code",
   "execution_count": 253,
   "id": "deb3742e-e40d-4b44-a5a6-49abeb537203",
   "metadata": {},
   "outputs": [
    {
     "data": {
      "image/png": "[encoded data removed]",
      "text/plain": [
       "<Figure size 1000x500 with 2 Axes>"
      ]
     },
     "metadata": {},
     "output_type": "display_data"
    }
   ],
   "source": [
    "k_range = range(2,10)\n",
    "sse = []\n",
    "s_score = []\n",
    "cols = df[[\"age\", \"income\"]]\n",
    "\n",
    "for k in k_range:\n",
    "    kmeans = KMeans(n_clusters=k)\n",
    "    kmeans.fit(cols)\n",
    "    sse.append(kmeans.inertia_)\n",
    "\n",
    "    labels = kmeans.labels_\n",
    "    silhouette_avg = silhouette_score(cols,labels)\n",
    "    s_score.append(silhouette_avg)\n",
    "\n",
    "fig, (ax1, ax2) = plt.subplots(1,2,figsize=(10,5))\n",
    "ax1.plot(k_range,sse, marker=\"o\")\n",
    "ax1.set_xlabel(\"K\")\n",
    "ax1.set_ylabel(\"WCSS\")\n",
    "ax1.set_title(\"Elbow plot\")\n",
    "\n",
    "ax2.plot(k_range,s_score, marker=\"D\")\n",
    "ax2.set_xlabel(\"K\")\n",
    "ax2.set_ylabel(\"Silhouette Coefficient\")\n",
    "ax2.set_title(\"Silhouette Plot\")\n",
    "\n",
    "plt.tight_layout()"
   ]
  },
  {
   "cell_type": "code",
   "execution_count": 254,
   "id": "36b9990f-f0b6-4d8e-a9ba-7ceb65cb59a5",
   "metadata": {},
   "outputs": [],
   "source": [
    "# From the elbow plot, the value of k appears to be 3. Because there is the sharpest decline from 2 to 3\n",
    "# From the silhouette plot, the value of k appears to be 2 or 4\n",
    "# So, ideally we should take the value k as k-1, k, and k+1\n",
    "# So, we should take the values of k as 2,3,4,5,6\n",
    "# But earlier from the scatter plot, it appeared that the ideal value of k=3\n",
    "# Let us first run the algorithm on k=3 and observe the performance"
   ]
  },
  {
   "cell_type": "markdown",
   "id": "539aa79d-1de0-4125-809a-e69826c0b75f",
   "metadata": {},
   "source": [
    "## Implementing the model"
   ]
  },
  {
   "cell_type": "code",
   "execution_count": 256,
   "id": "12476ef0-9280-403e-bfdb-4dcba022dda5",
   "metadata": {},
   "outputs": [],
   "source": [
    "km = KMeans(n_clusters=3)\n",
    "cols=df[[\"age\", \"income\"]]\n",
    "y_predict = km.fit_predict(cols)"
   ]
  },
  {
   "cell_type": "code",
   "execution_count": 257,
   "id": "d640bcc2-afee-49de-a3a7-99b402e7d3ef",
   "metadata": {},
   "outputs": [],
   "source": [
    "df[\"cluster\"] = y_predict"
   ]
  },
  {
   "cell_type": "code",
   "execution_count": 258,
   "id": "2435e23b-c22d-49d8-9dc7-93547c205dee",
   "metadata": {},
   "outputs": [
    {
     "data": {
      "text/html": [
       "<div>\n",
       "<style scoped>\n",
       "    .dataframe tbody tr th:only-of-type {\n",
       "        vertical-align: middle;\n",
       "    }\n",
       "\n",
       "    .dataframe tbody tr th {\n",
       "        vertical-align: top;\n",
       "    }\n",
       "\n",
       "    .dataframe thead th {\n",
       "        text-align: right;\n",
       "    }\n",
       "</style>\n",
       "<table border=\"1\" class=\"dataframe\">\n",
       "  <thead>\n",
       "    <tr style=\"text-align: right;\">\n",
       "      <th></th>\n",
       "      <th>age</th>\n",
       "      <th>income</th>\n",
       "      <th>cluster</th>\n",
       "    </tr>\n",
       "  </thead>\n",
       "  <tbody>\n",
       "    <tr>\n",
       "      <th>0</th>\n",
       "      <td>27</td>\n",
       "      <td>70000</td>\n",
       "      <td>1</td>\n",
       "    </tr>\n",
       "    <tr>\n",
       "      <th>1</th>\n",
       "      <td>29</td>\n",
       "      <td>90000</td>\n",
       "      <td>2</td>\n",
       "    </tr>\n",
       "    <tr>\n",
       "      <th>2</th>\n",
       "      <td>29</td>\n",
       "      <td>61000</td>\n",
       "      <td>1</td>\n",
       "    </tr>\n",
       "    <tr>\n",
       "      <th>3</th>\n",
       "      <td>28</td>\n",
       "      <td>60000</td>\n",
       "      <td>1</td>\n",
       "    </tr>\n",
       "    <tr>\n",
       "      <th>4</th>\n",
       "      <td>42</td>\n",
       "      <td>150000</td>\n",
       "      <td>0</td>\n",
       "    </tr>\n",
       "  </tbody>\n",
       "</table>\n",
       "</div>"
      ],
      "text/plain": [
       "   age  income  cluster\n",
       "0   27   70000        1\n",
       "1   29   90000        2\n",
       "2   29   61000        1\n",
       "3   28   60000        1\n",
       "4   42  150000        0"
      ]
     },
     "execution_count": 258,
     "metadata": {},
     "output_type": "execute_result"
    }
   ],
   "source": [
    "df.head()"
   ]
  },
  {
   "cell_type": "markdown",
   "id": "8f30e987-fcc8-422e-bd47-162b01fef015",
   "metadata": {},
   "source": [
    "## Visualizing the predicted clusters"
   ]
  },
  {
   "cell_type": "code",
   "execution_count": 260,
   "id": "e400f54f-b156-4b0f-a4fc-bcfd9b4bdb8c",
   "metadata": {},
   "outputs": [
    {
     "data": {
      "image/png": "[encoded data removed]",
      "text/plain": [
       "<Figure size 640x480 with 1 Axes>"
      ]
     },
     "metadata": {},
     "output_type": "display_data"
    }
   ],
   "source": [
    "df1 = df[df[\"cluster\"]==0]\n",
    "df2 = df[df[\"cluster\"]==1]\n",
    "df3 = df[df[\"cluster\"]==2]\n",
    "\n",
    "plt.scatter(df1.age, df1.income, color=\"red\")\n",
    "plt.scatter(df2.age, df2.income, color=\"green\")\n",
    "plt.scatter(df3.age, df3.income, color=\"black\")\n",
    "plt.scatter(km.cluster_centers_[:,0], km.cluster_centers_[:,1], color=\"blue\", marker=\"*\")\n",
    "plt.grid(True, linewidth=0.1, alpha=0.1, color=\"grey\")\n",
    "plt.show()"
   ]
  },
  {
   "cell_type": "code",
   "execution_count": 261,
   "id": "9b47718e-2387-40ea-b536-933aa798f05d",
   "metadata": {},
   "outputs": [],
   "source": [
    "# As we can observe, our algorithm has done a terrible job at clustering the data points\n",
    "# The centroid for cluster=1, seems alright but the other 2 cluster centers are out of place"
   ]
  },
  {
   "cell_type": "code",
   "execution_count": 262,
   "id": "5e659fb3-2d16-4625-b9ff-8339474c7b3b",
   "metadata": {},
   "outputs": [],
   "source": [
    "#Let us apply Kmeans++ to our algorithm and observe if the model improves\n",
    "# Kmeans++ is a parameter through which we instruct the Kmeans algorithm to pick the k random points as far away from each other as possible"
   ]
  },
  {
   "cell_type": "markdown",
   "id": "b38af1b3-2f2b-423c-8f96-34e305d63c1d",
   "metadata": {},
   "source": [
    "## Introducing k-means++ parameter into the algorithm"
   ]
  },
  {
   "cell_type": "code",
   "execution_count": 264,
   "id": "29531ba3-d218-465c-a0eb-079dba5ecec9",
   "metadata": {},
   "outputs": [],
   "source": [
    "km = KMeans(n_clusters=3, init=\"k-means++\")\n",
    "cols=df[[\"age\", \"income\"]]\n",
    "y_predict = km.fit_predict(cols)"
   ]
  },
  {
   "cell_type": "code",
   "execution_count": 265,
   "id": "5a9134e1-e0ee-47c2-9413-a271fabf8ca9",
   "metadata": {},
   "outputs": [],
   "source": [
    "df[\"cluster\"] = y_predict"
   ]
  },
  {
   "cell_type": "code",
   "execution_count": 266,
   "id": "a274f69e-d5cb-4df5-9735-d41644dd330d",
   "metadata": {},
   "outputs": [
    {
     "data": {
      "text/html": [
       "<div>\n",
       "<style scoped>\n",
       "    .dataframe tbody tr th:only-of-type {\n",
       "        vertical-align: middle;\n",
       "    }\n",
       "\n",
       "    .dataframe tbody tr th {\n",
       "        vertical-align: top;\n",
       "    }\n",
       "\n",
       "    .dataframe thead th {\n",
       "        text-align: right;\n",
       "    }\n",
       "</style>\n",
       "<table border=\"1\" class=\"dataframe\">\n",
       "  <thead>\n",
       "    <tr style=\"text-align: right;\">\n",
       "      <th></th>\n",
       "      <th>age</th>\n",
       "      <th>income</th>\n",
       "      <th>cluster</th>\n",
       "    </tr>\n",
       "  </thead>\n",
       "  <tbody>\n",
       "    <tr>\n",
       "      <th>0</th>\n",
       "      <td>27</td>\n",
       "      <td>70000</td>\n",
       "      <td>2</td>\n",
       "    </tr>\n",
       "    <tr>\n",
       "      <th>1</th>\n",
       "      <td>29</td>\n",
       "      <td>90000</td>\n",
       "      <td>0</td>\n",
       "    </tr>\n",
       "    <tr>\n",
       "      <th>2</th>\n",
       "      <td>29</td>\n",
       "      <td>61000</td>\n",
       "      <td>2</td>\n",
       "    </tr>\n",
       "    <tr>\n",
       "      <th>3</th>\n",
       "      <td>28</td>\n",
       "      <td>60000</td>\n",
       "      <td>2</td>\n",
       "    </tr>\n",
       "    <tr>\n",
       "      <th>4</th>\n",
       "      <td>42</td>\n",
       "      <td>150000</td>\n",
       "      <td>1</td>\n",
       "    </tr>\n",
       "  </tbody>\n",
       "</table>\n",
       "</div>"
      ],
      "text/plain": [
       "   age  income  cluster\n",
       "0   27   70000        2\n",
       "1   29   90000        0\n",
       "2   29   61000        2\n",
       "3   28   60000        2\n",
       "4   42  150000        1"
      ]
     },
     "execution_count": 266,
     "metadata": {},
     "output_type": "execute_result"
    }
   ],
   "source": [
    "df.head()"
   ]
  },
  {
   "cell_type": "markdown",
   "id": "d4dc0938-13e3-4c13-9bfa-a0901d71ff1b",
   "metadata": {},
   "source": [
    "## Visualizing the predicted clusters"
   ]
  },
  {
   "cell_type": "code",
   "execution_count": 268,
   "id": "68dd84e9-9d9e-4567-a1eb-78f46f6ef7ae",
   "metadata": {},
   "outputs": [
    {
     "data": {
      "image/png": "[encoded data removed]",
      "text/plain": [
       "<Figure size 640x480 with 1 Axes>"
      ]
     },
     "metadata": {},
     "output_type": "display_data"
    }
   ],
   "source": [
    "df1 = df[df[\"cluster\"]==0]\n",
    "df2 = df[df[\"cluster\"]==1]\n",
    "df3 = df[df[\"cluster\"]==2]\n",
    "\n",
    "plt.scatter(df1.age, df1.income, color=\"red\", label=\"cluster-0\")\n",
    "plt.scatter(df2.age, df2.income, color=\"green\", label=\"cluster-1\")\n",
    "plt.scatter(df3.age, df3.income, color=\"black\", label=\"cluster-2\")\n",
    "plt.scatter(km.cluster_centers_[:,0], km.cluster_centers_[:,1], color=\"blue\", marker=\"*\", label=\"centroid\")\n",
    "plt.grid(True, linewidth=0.1, alpha=0.1, color=\"grey\")\n",
    "plt.xlabel(\"Age\")\n",
    "plt.ylabel(\"Income\")\n",
    "plt.legend()\n",
    "plt.show()"
   ]
  },
  {
   "cell_type": "code",
   "execution_count": 269,
   "id": "5aa386fc-170d-4beb-944b-bbcc335d3d90",
   "metadata": {},
   "outputs": [],
   "source": [
    "#It appears that even k-means++ cannot get our centroids in order\n",
    "#We need to normalize the data"
   ]
  },
  {
   "cell_type": "markdown",
   "id": "dca9a980-c6a7-4933-bfab-4de3cfeb5cfb",
   "metadata": {},
   "source": [
    "## Scaling the data"
   ]
  },
  {
   "cell_type": "code",
   "execution_count": 271,
   "id": "22936258-77bf-492c-ab1d-fdf0c5b42ed4",
   "metadata": {},
   "outputs": [],
   "source": [
    "from sklearn.preprocessing import StandardScaler"
   ]
  },
  {
   "cell_type": "code",
   "execution_count": 272,
   "id": "6d565e9d-f5f4-49b3-be89-6ad54d2d530c",
   "metadata": {},
   "outputs": [],
   "source": [
    "scaler = StandardScaler()"
   ]
  },
  {
   "cell_type": "code",
   "execution_count": 273,
   "id": "48ea6f2d-e9ee-4192-985d-8fbf7701eea7",
   "metadata": {},
   "outputs": [],
   "source": [
    "df[\"age\"] = scaler.fit_transform(df[[\"age\"]])\n",
    "df[\"income\"] = scaler.fit_transform(df[[\"income\"]])"
   ]
  },
  {
   "cell_type": "code",
   "execution_count": 274,
   "id": "b1a6c203-7832-44ce-92fe-3ff858125fb8",
   "metadata": {},
   "outputs": [
    {
     "data": {
      "text/html": [
       "<div>\n",
       "<style scoped>\n",
       "    .dataframe tbody tr th:only-of-type {\n",
       "        vertical-align: middle;\n",
       "    }\n",
       "\n",
       "    .dataframe tbody tr th {\n",
       "        vertical-align: top;\n",
       "    }\n",
       "\n",
       "    .dataframe thead th {\n",
       "        text-align: right;\n",
       "    }\n",
       "</style>\n",
       "<table border=\"1\" class=\"dataframe\">\n",
       "  <thead>\n",
       "    <tr style=\"text-align: right;\">\n",
       "      <th></th>\n",
       "      <th>age</th>\n",
       "      <th>income</th>\n",
       "      <th>cluster</th>\n",
       "    </tr>\n",
       "  </thead>\n",
       "  <tbody>\n",
       "    <tr>\n",
       "      <th>0</th>\n",
       "      <td>-1.356055</td>\n",
       "      <td>-0.480684</td>\n",
       "      <td>2</td>\n",
       "    </tr>\n",
       "    <tr>\n",
       "      <th>1</th>\n",
       "      <td>-1.009157</td>\n",
       "      <td>-0.010159</td>\n",
       "      <td>0</td>\n",
       "    </tr>\n",
       "    <tr>\n",
       "      <th>2</th>\n",
       "      <td>-1.009157</td>\n",
       "      <td>-0.692421</td>\n",
       "      <td>2</td>\n",
       "    </tr>\n",
       "    <tr>\n",
       "      <th>3</th>\n",
       "      <td>-1.182606</td>\n",
       "      <td>-0.715947</td>\n",
       "      <td>2</td>\n",
       "    </tr>\n",
       "    <tr>\n",
       "      <th>4</th>\n",
       "      <td>1.245679</td>\n",
       "      <td>1.401417</td>\n",
       "      <td>1</td>\n",
       "    </tr>\n",
       "  </tbody>\n",
       "</table>\n",
       "</div>"
      ],
      "text/plain": [
       "        age    income  cluster\n",
       "0 -1.356055 -0.480684        2\n",
       "1 -1.009157 -0.010159        0\n",
       "2 -1.009157 -0.692421        2\n",
       "3 -1.182606 -0.715947        2\n",
       "4  1.245679  1.401417        1"
      ]
     },
     "execution_count": 274,
     "metadata": {},
     "output_type": "execute_result"
    }
   ],
   "source": [
    "df.head()"
   ]
  },
  {
   "cell_type": "markdown",
   "id": "d785997b-dc38-4b70-8f7d-2bcdf1a0fcfd",
   "metadata": {},
   "source": [
    "## Implementing the model on scaled data"
   ]
  },
  {
   "cell_type": "code",
   "execution_count": 276,
   "id": "cb34538d-efff-4ac5-8485-38a88c742355",
   "metadata": {},
   "outputs": [],
   "source": [
    "km = KMeans(n_clusters=3, init=\"k-means++\")\n",
    "cols=df[[\"age\", \"income\"]]\n",
    "y_predict = km.fit_predict(cols)"
   ]
  },
  {
   "cell_type": "code",
   "execution_count": 277,
   "id": "0e534b0c-7244-4b78-b0c1-5d5c924b6f09",
   "metadata": {},
   "outputs": [],
   "source": [
    "df[\"cluster\"] = y_predict"
   ]
  },
  {
   "cell_type": "code",
   "execution_count": 278,
   "id": "e2fb6249-74a3-4d78-8c58-2bc3304b59bc",
   "metadata": {},
   "outputs": [
    {
     "data": {
      "text/html": [
       "<div>\n",
       "<style scoped>\n",
       "    .dataframe tbody tr th:only-of-type {\n",
       "        vertical-align: middle;\n",
       "    }\n",
       "\n",
       "    .dataframe tbody tr th {\n",
       "        vertical-align: top;\n",
       "    }\n",
       "\n",
       "    .dataframe thead th {\n",
       "        text-align: right;\n",
       "    }\n",
       "</style>\n",
       "<table border=\"1\" class=\"dataframe\">\n",
       "  <thead>\n",
       "    <tr style=\"text-align: right;\">\n",
       "      <th></th>\n",
       "      <th>age</th>\n",
       "      <th>income</th>\n",
       "      <th>cluster</th>\n",
       "    </tr>\n",
       "  </thead>\n",
       "  <tbody>\n",
       "    <tr>\n",
       "      <th>0</th>\n",
       "      <td>-1.356055</td>\n",
       "      <td>-0.480684</td>\n",
       "      <td>0</td>\n",
       "    </tr>\n",
       "    <tr>\n",
       "      <th>1</th>\n",
       "      <td>-1.009157</td>\n",
       "      <td>-0.010159</td>\n",
       "      <td>0</td>\n",
       "    </tr>\n",
       "    <tr>\n",
       "      <th>2</th>\n",
       "      <td>-1.009157</td>\n",
       "      <td>-0.692421</td>\n",
       "      <td>0</td>\n",
       "    </tr>\n",
       "    <tr>\n",
       "      <th>3</th>\n",
       "      <td>-1.182606</td>\n",
       "      <td>-0.715947</td>\n",
       "      <td>0</td>\n",
       "    </tr>\n",
       "    <tr>\n",
       "      <th>4</th>\n",
       "      <td>1.245679</td>\n",
       "      <td>1.401417</td>\n",
       "      <td>1</td>\n",
       "    </tr>\n",
       "  </tbody>\n",
       "</table>\n",
       "</div>"
      ],
      "text/plain": [
       "        age    income  cluster\n",
       "0 -1.356055 -0.480684        0\n",
       "1 -1.009157 -0.010159        0\n",
       "2 -1.009157 -0.692421        0\n",
       "3 -1.182606 -0.715947        0\n",
       "4  1.245679  1.401417        1"
      ]
     },
     "execution_count": 278,
     "metadata": {},
     "output_type": "execute_result"
    }
   ],
   "source": [
    "df.head()"
   ]
  },
  {
   "cell_type": "markdown",
   "id": "75c7c8ec-6f68-4724-bd2e-ad13db9ed4e7",
   "metadata": {},
   "source": [
    "## Visualizing the predicted clusters for the scaled data"
   ]
  },
  {
   "cell_type": "code",
   "execution_count": 280,
   "id": "bf4f711a-3f9f-42bf-8c0a-dc15caa75ba1",
   "metadata": {},
   "outputs": [
    {
     "data": {
      "image/png": "[encoded data removed]",
      "text/plain": [
       "<Figure size 640x480 with 1 Axes>"
      ]
     },
     "metadata": {},
     "output_type": "display_data"
    }
   ],
   "source": [
    "df1 = df[df[\"cluster\"]==0]\n",
    "df2 = df[df[\"cluster\"]==1]\n",
    "df3 = df[df[\"cluster\"]==2]\n",
    "\n",
    "plt.scatter(df1.age, df1.income, color=\"red\", label=\"cluster-0\")\n",
    "plt.scatter(df2.age, df2.income, color=\"green\", label=\"cluster-1\")\n",
    "plt.scatter(df3.age, df3.income, color=\"black\", label=\"cluster-2\")\n",
    "plt.scatter(km.cluster_centers_[:,0], km.cluster_centers_[:,1], color=\"blue\", marker=\"*\", label=\"centroid\")\n",
    "plt.grid(True, linewidth=0.1, alpha=0.1, color=\"grey\")\n",
    "plt.xlabel(\"Age\")\n",
    "plt.ylabel(\"Income\")\n",
    "plt.legend()\n",
    "plt.show()"
   ]
  },
  {
   "cell_type": "code",
   "execution_count": 281,
   "id": "787437aa-6f93-4180-b935-d9dc18f94d3a",
   "metadata": {},
   "outputs": [],
   "source": [
    "# Scaling the data has sorted our incorrectly classified centroids"
   ]
  }
 ],
 "metadata": {
  "kernelspec": {
   "display_name": "Python 3 (ipykernel)",
   "language": "python",
   "name": "python3"
  },
  "language_info": {
   "codemirror_mode": {
    "name": "ipython",
    "version": 3
   },
   "file_extension": ".py",
   "mimetype": "text/x-python",
   "name": "python",
   "nbconvert_exporter": "python",
   "pygments_lexer": "ipython3",
   "version": "3.12.3"
  }
 },
 "nbformat": 4,
 "nbformat_minor": 5
}
